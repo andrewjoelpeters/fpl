{
 "cells": [
  {
   "cell_type": "code",
   "execution_count": 127,
   "metadata": {},
   "outputs": [],
   "source": [
    "import pandas as pd\n",
    "import seaborn as sns\n",
    "import numpy as np\n",
    "import pickle\n",
    "sns.set()\n",
    "pd.set_option('display.max_rows', 500)\n",
    "pd.set_option('display.max_columns', 500)\n",
    "pd.set_option('display.width', 150)"
   ]
  },
  {
   "cell_type": "code",
   "execution_count": 128,
   "metadata": {},
   "outputs": [],
   "source": [
    "df = pd.read_pickle('/Users/andrewpeters/GitHub/fpl/data/interim/df_with_rolling_features.pkl')"
   ]
  },
  {
   "cell_type": "code",
   "execution_count": 129,
   "metadata": {},
   "outputs": [
    {
     "data": {
      "text/plain": [
       "105230"
      ]
     },
     "execution_count": 129,
     "metadata": {},
     "output_type": "execute_result"
    }
   ],
   "source": [
    "len(df)"
   ]
  },
  {
   "cell_type": "code",
   "execution_count": 130,
   "metadata": {},
   "outputs": [],
   "source": [
    "df = df[df['total_points'] >= 0] #possible, but rare, to get negative points. Will remove negative points for ease of use\n",
    "df['past_three_avg_mins'] = (df['minutes_prev'] + df['minutes_prev_2'])/2\n",
    "df = df[df['past_three_avg_mins'] > 45]\n",
    "df = df[df['minutes'] > 40] #minutes played is very much after-the-fact knowledge, but usually we know who won't even be playing 40 minutes\n"
   ]
  },
  {
   "cell_type": "code",
   "execution_count": 131,
   "metadata": {},
   "outputs": [
    {
     "data": {
      "text/plain": [
       "30509"
      ]
     },
     "execution_count": 131,
     "metadata": {},
     "output_type": "execute_result"
    }
   ],
   "source": [
    "len(df)"
   ]
  },
  {
   "cell_type": "code",
   "execution_count": 132,
   "metadata": {},
   "outputs": [],
   "source": [
    "def prep_final_features(df):\n",
    "    df['was_home'] = df['was_home'].astype('int') #convert bool to numeric\n",
    "    positions_df = pd.get_dummies(df['position'], prefix='position')\n",
    "    df = df.join(positions_df)\n",
    "    return df"
   ]
  },
  {
   "cell_type": "code",
   "execution_count": 133,
   "metadata": {},
   "outputs": [],
   "source": [
    "df = prep_final_features(df)"
   ]
  },
  {
   "cell_type": "code",
   "execution_count": 135,
   "metadata": {},
   "outputs": [
    {
     "data": {
      "text/plain": [
       "total_points                      0\n",
       "player                            0\n",
       "team                              0\n",
       "position                          0\n",
       "gw                                0\n",
       "opponent_team                     0\n",
       "was_home                          0\n",
       "date                              0\n",
       "season                            0\n",
       "minutes                           0\n",
       "total_points_prev                 0\n",
       "minutes_prev                      0\n",
       "goals_scored_prev                 0\n",
       "assists_prev                      0\n",
       "clean_sheets_prev                 0\n",
       "goals_conceded_prev               0\n",
       "bonus_prev                        0\n",
       "bps_prev                          0\n",
       "influence_prev                    0\n",
       "creativity_prev                   0\n",
       "threat_prev                       0\n",
       "ict_index_prev                    0\n",
       "transfers_balance_prev            0\n",
       "selected_prev                     0\n",
       "transfers_in_prev                 0\n",
       "transfers_out_prev                0\n",
       "key_passes_prev                 662\n",
       "xA_prev                         662\n",
       "xGChain_prev                    662\n",
       "xGBuildup_prev                  662\n",
       "total_points_prev_2               0\n",
       "minutes_prev_2                    0\n",
       "goals_scored_prev_2               0\n",
       "assists_prev_2                    0\n",
       "clean_sheets_prev_2               0\n",
       "goals_conceded_prev_2             0\n",
       "bonus_prev_2                      0\n",
       "bps_prev_2                        0\n",
       "influence_prev_2                  0\n",
       "creativity_prev_2                 0\n",
       "threat_prev_2                     0\n",
       "ict_index_prev_2                  0\n",
       "transfers_balance_prev_2          0\n",
       "selected_prev_2                   0\n",
       "transfers_in_prev_2               0\n",
       "transfers_out_prev_2              0\n",
       "key_passes_prev_2               435\n",
       "xA_prev_2                       435\n",
       "xGChain_prev_2                  435\n",
       "xGBuildup_prev_2                435\n",
       "total_points_prev_4               0\n",
       "minutes_prev_4                    0\n",
       "goals_scored_prev_4               0\n",
       "assists_prev_4                    0\n",
       "clean_sheets_prev_4               0\n",
       "goals_conceded_prev_4             0\n",
       "bonus_prev_4                      0\n",
       "bps_prev_4                        0\n",
       "influence_prev_4                  0\n",
       "creativity_prev_4                 0\n",
       "threat_prev_4                     0\n",
       "ict_index_prev_4                  0\n",
       "transfers_balance_prev_4          0\n",
       "selected_prev_4                   0\n",
       "transfers_in_prev_4               0\n",
       "transfers_out_prev_4              0\n",
       "key_passes_prev_4               415\n",
       "xA_prev_4                       415\n",
       "xGChain_prev_4                  415\n",
       "xGBuildup_prev_4                415\n",
       "total_points_prev_6               0\n",
       "minutes_prev_6                    0\n",
       "goals_scored_prev_6               0\n",
       "assists_prev_6                    0\n",
       "clean_sheets_prev_6               0\n",
       "goals_conceded_prev_6             0\n",
       "bonus_prev_6                      0\n",
       "bps_prev_6                        0\n",
       "influence_prev_6                  0\n",
       "creativity_prev_6                 0\n",
       "threat_prev_6                     0\n",
       "ict_index_prev_6                  0\n",
       "transfers_balance_prev_6          0\n",
       "selected_prev_6                   0\n",
       "transfers_in_prev_6               0\n",
       "transfers_out_prev_6              0\n",
       "key_passes_prev_6               413\n",
       "xA_prev_6                       413\n",
       "xGChain_prev_6                  413\n",
       "xGBuildup_prev_6                413\n",
       "total_points_prev_8               0\n",
       "minutes_prev_8                    0\n",
       "goals_scored_prev_8               0\n",
       "assists_prev_8                    0\n",
       "clean_sheets_prev_8               0\n",
       "goals_conceded_prev_8             0\n",
       "bonus_prev_8                      0\n",
       "bps_prev_8                        0\n",
       "influence_prev_8                  0\n",
       "creativity_prev_8                 0\n",
       "threat_prev_8                     0\n",
       "ict_index_prev_8                  0\n",
       "transfers_balance_prev_8          0\n",
       "selected_prev_8                   0\n",
       "transfers_in_prev_8               0\n",
       "transfers_out_prev_8              0\n",
       "key_passes_prev_8               410\n",
       "xA_prev_8                       410\n",
       "xGChain_prev_8                  410\n",
       "xGBuildup_prev_8                410\n",
       "total_points_prev_10              0\n",
       "minutes_prev_10                   0\n",
       "goals_scored_prev_10              0\n",
       "assists_prev_10                   0\n",
       "clean_sheets_prev_10              0\n",
       "goals_conceded_prev_10            0\n",
       "bonus_prev_10                     0\n",
       "bps_prev_10                       0\n",
       "influence_prev_10                 0\n",
       "creativity_prev_10                0\n",
       "threat_prev_10                    0\n",
       "ict_index_prev_10                 0\n",
       "transfers_balance_prev_10         0\n",
       "selected_prev_10                  0\n",
       "transfers_in_prev_10              0\n",
       "transfers_out_prev_10             0\n",
       "key_passes_prev_10              410\n",
       "xA_prev_10                      410\n",
       "xGChain_prev_10                 410\n",
       "xGBuildup_prev_10               410\n",
       "total_points_prev_12              0\n",
       "minutes_prev_12                   0\n",
       "goals_scored_prev_12              0\n",
       "assists_prev_12                   0\n",
       "clean_sheets_prev_12              0\n",
       "goals_conceded_prev_12            0\n",
       "bonus_prev_12                     0\n",
       "bps_prev_12                       0\n",
       "influence_prev_12                 0\n",
       "creativity_prev_12                0\n",
       "threat_prev_12                    0\n",
       "ict_index_prev_12                 0\n",
       "transfers_balance_prev_12         0\n",
       "selected_prev_12                  0\n",
       "transfers_in_prev_12              0\n",
       "transfers_out_prev_12             0\n",
       "key_passes_prev_12              410\n",
       "xA_prev_12                      410\n",
       "xGChain_prev_12                 410\n",
       "xGBuildup_prev_12               410\n",
       "total_points_prev_14              0\n",
       "minutes_prev_14                   0\n",
       "goals_scored_prev_14              0\n",
       "assists_prev_14                   0\n",
       "clean_sheets_prev_14              0\n",
       "goals_conceded_prev_14            0\n",
       "bonus_prev_14                     0\n",
       "bps_prev_14                       0\n",
       "influence_prev_14                 0\n",
       "creativity_prev_14                0\n",
       "threat_prev_14                    0\n",
       "ict_index_prev_14                 0\n",
       "transfers_balance_prev_14         0\n",
       "selected_prev_14                  0\n",
       "transfers_in_prev_14              0\n",
       "transfers_out_prev_14             0\n",
       "key_passes_prev_14              410\n",
       "xA_prev_14                      410\n",
       "xGChain_prev_14                 410\n",
       "xGBuildup_prev_14               410\n",
       "xg_team_prev                   9070\n",
       "xg_opp_prev                    9070\n",
       "team_goals_prev                9070\n",
       "goals_opp_prev                 9070\n",
       "xg_diff_prev                   9070\n",
       "goal_diff_prev                 9070\n",
       "xg_team_prev_2                 9070\n",
       "xg_opp_prev_2                  9070\n",
       "team_goals_prev_2              9070\n",
       "goals_opp_prev_2               9070\n",
       "xg_diff_prev_2                 9070\n",
       "goal_diff_prev_2               9070\n",
       "xg_team_prev_4                 9070\n",
       "xg_opp_prev_4                  9070\n",
       "team_goals_prev_4              9070\n",
       "goals_opp_prev_4               9070\n",
       "xg_diff_prev_4                 9070\n",
       "goal_diff_prev_4               9070\n",
       "xg_team_prev_6                 9070\n",
       "xg_opp_prev_6                  9070\n",
       "team_goals_prev_6              9070\n",
       "goals_opp_prev_6               9070\n",
       "xg_diff_prev_6                 9070\n",
       "goal_diff_prev_6               9070\n",
       "xg_team_prev_8                 9070\n",
       "xg_opp_prev_8                  9070\n",
       "team_goals_prev_8              9070\n",
       "goals_opp_prev_8               9070\n",
       "xg_diff_prev_8                 9070\n",
       "goal_diff_prev_8               9070\n",
       "xg_team_prev_10                9070\n",
       "xg_opp_prev_10                 9070\n",
       "team_goals_prev_10             9070\n",
       "goals_opp_prev_10              9070\n",
       "xg_diff_prev_10                9070\n",
       "goal_diff_prev_10              9070\n",
       "xg_team_prev_12                9070\n",
       "xg_opp_prev_12                 9070\n",
       "team_goals_prev_12             9070\n",
       "goals_opp_prev_12              9070\n",
       "xg_diff_prev_12                9070\n",
       "goal_diff_prev_12              9070\n",
       "xg_team_prev_14                9070\n",
       "xg_opp_prev_14                 9070\n",
       "team_goals_prev_14             9070\n",
       "goals_opp_prev_14              9070\n",
       "xg_diff_prev_14                9070\n",
       "goal_diff_prev_14              9070\n",
       "team_opponent                  9203\n",
       "xg_team_prev_opponent          9255\n",
       "xg_opp_prev_opponent           9255\n",
       "team_goals_prev_opponent       9255\n",
       "goals_opp_prev_opponent        9255\n",
       "xg_diff_prev_opponent          9255\n",
       "goal_diff_prev_opponent        9255\n",
       "xg_team_prev_2_opponent        9255\n",
       "xg_opp_prev_2_opponent         9255\n",
       "team_goals_prev_2_opponent     9255\n",
       "goals_opp_prev_2_opponent      9255\n",
       "xg_diff_prev_2_opponent        9255\n",
       "goal_diff_prev_2_opponent      9255\n",
       "xg_team_prev_4_opponent        9255\n",
       "xg_opp_prev_4_opponent         9255\n",
       "team_goals_prev_4_opponent     9255\n",
       "goals_opp_prev_4_opponent      9255\n",
       "xg_diff_prev_4_opponent        9255\n",
       "goal_diff_prev_4_opponent      9255\n",
       "xg_team_prev_6_opponent        9255\n",
       "xg_opp_prev_6_opponent         9255\n",
       "team_goals_prev_6_opponent     9255\n",
       "goals_opp_prev_6_opponent      9255\n",
       "xg_diff_prev_6_opponent        9255\n",
       "goal_diff_prev_6_opponent      9255\n",
       "xg_team_prev_8_opponent        9255\n",
       "xg_opp_prev_8_opponent         9255\n",
       "team_goals_prev_8_opponent     9255\n",
       "goals_opp_prev_8_opponent      9255\n",
       "xg_diff_prev_8_opponent        9255\n",
       "goal_diff_prev_8_opponent      9255\n",
       "xg_team_prev_10_opponent       9255\n",
       "xg_opp_prev_10_opponent        9255\n",
       "team_goals_prev_10_opponent    9255\n",
       "goals_opp_prev_10_opponent     9255\n",
       "xg_diff_prev_10_opponent       9255\n",
       "goal_diff_prev_10_opponent     9255\n",
       "xg_team_prev_12_opponent       9255\n",
       "xg_opp_prev_12_opponent        9255\n",
       "team_goals_prev_12_opponent    9255\n",
       "goals_opp_prev_12_opponent     9255\n",
       "xg_diff_prev_12_opponent       9255\n",
       "goal_diff_prev_12_opponent     9255\n",
       "xg_team_prev_14_opponent       9255\n",
       "xg_opp_prev_14_opponent        9255\n",
       "team_goals_prev_14_opponent    9255\n",
       "goals_opp_prev_14_opponent     9255\n",
       "xg_diff_prev_14_opponent       9255\n",
       "goal_diff_prev_14_opponent     9255\n",
       "past_three_avg_mins               0\n",
       "position_1                        0\n",
       "position_2                        0\n",
       "position_3                        0\n",
       "position_4                        0\n",
       "dtype: int64"
      ]
     },
     "execution_count": 135,
     "metadata": {},
     "output_type": "execute_result"
    }
   ],
   "source": [
    "df.isna().sum()"
   ]
  },
  {
   "cell_type": "code",
   "execution_count": 115,
   "metadata": {},
   "outputs": [],
   "source": [
    "df = df.dropna()"
   ]
  },
  {
   "cell_type": "code",
   "execution_count": 116,
   "metadata": {},
   "outputs": [],
   "source": [
    "#remove top .05% of performance \n",
    "df = df.sort_values('total_points', ascending=False).iloc[round(len(df)*.005):]"
   ]
  },
  {
   "cell_type": "code",
   "execution_count": 117,
   "metadata": {},
   "outputs": [],
   "source": [
    "metadata_cols = ['player', 'minutes', 'team', 'position', 'opponent_team', 'gw', 'date', 'season', 'team_opponent']"
   ]
  },
  {
   "cell_type": "code",
   "execution_count": 118,
   "metadata": {},
   "outputs": [],
   "source": [
    "metadata = df[metadata_cols]"
   ]
  },
  {
   "cell_type": "code",
   "execution_count": 119,
   "metadata": {},
   "outputs": [],
   "source": [
    "X = df.drop(columns = metadata_cols + ['past_three_avg_mins', 'minutes'])\n",
    "X = X.drop(columns = ['total_points'])"
   ]
  },
  {
   "cell_type": "code",
   "execution_count": 120,
   "metadata": {},
   "outputs": [],
   "source": [
    "y = df['total_points']"
   ]
  },
  {
   "cell_type": "code",
   "execution_count": 121,
   "metadata": {},
   "outputs": [],
   "source": [
    "#save the final features names -- I'll use this when predicting future data to make sure I have the correct features\n",
    "with open('/Users/andrewpeters/GitHub/fpl/data/interim/x_features.pkl', 'wb') as f:\n",
    "    pickle.dump(list(X), f)"
   ]
  },
  {
   "cell_type": "code",
   "execution_count": 122,
   "metadata": {},
   "outputs": [],
   "source": [
    "with open('/Users/andrewpeters/GitHub/fpl/data/processed/X.npy', 'wb') as file:\n",
    "    np.save(file, X)"
   ]
  },
  {
   "cell_type": "code",
   "execution_count": 123,
   "metadata": {},
   "outputs": [],
   "source": [
    "with open('/Users/andrewpeters/GitHub/fpl/data/processed/y.npy', 'wb') as file:\n",
    "    np.save(file, y)"
   ]
  },
  {
   "cell_type": "code",
   "execution_count": 124,
   "metadata": {},
   "outputs": [],
   "source": [
    "with open('/Users/andrewpeters/GitHub/fpl/data/processed/metadata.npy', 'wb') as file:\n",
    "    np.save(file, metadata)"
   ]
  },
  {
   "cell_type": "code",
   "execution_count": 125,
   "metadata": {},
   "outputs": [
    {
     "data": {
      "text/plain": [
       "(14477, 261)"
      ]
     },
     "execution_count": 125,
     "metadata": {},
     "output_type": "execute_result"
    }
   ],
   "source": [
    "X.shape"
   ]
  },
  {
   "cell_type": "code",
   "execution_count": 126,
   "metadata": {},
   "outputs": [
    {
     "data": {
      "text/plain": [
       "(14477, 9)"
      ]
     },
     "execution_count": 126,
     "metadata": {},
     "output_type": "execute_result"
    }
   ],
   "source": [
    "metadata.shape"
   ]
  },
  {
   "cell_type": "code",
   "execution_count": null,
   "metadata": {},
   "outputs": [],
   "source": []
  }
 ],
 "metadata": {
  "kernelspec": {
   "display_name": "Python 3",
   "language": "python",
   "name": "python3"
  },
  "language_info": {
   "codemirror_mode": {
    "name": "ipython",
    "version": 3
   },
   "file_extension": ".py",
   "mimetype": "text/x-python",
   "name": "python",
   "nbconvert_exporter": "python",
   "pygments_lexer": "ipython3",
   "version": "3.8.3"
  }
 },
 "nbformat": 4,
 "nbformat_minor": 4
}
