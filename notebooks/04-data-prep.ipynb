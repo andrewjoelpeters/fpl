{
 "cells": [
  {
   "cell_type": "code",
<<<<<<< HEAD
   "execution_count": 45,
=======
   "execution_count": 19,
>>>>>>> parent of 6dfaf54 (update noteebooks)
   "metadata": {},
   "outputs": [],
   "source": [
    "import pandas as pd\n",
    "import seaborn as sns\n",
    "import numpy as np\n",
    "import pickle\n",
    "sns.set()\n",
    "pd.set_option('display.max_rows', 500)\n",
    "pd.set_option('display.max_columns', 500)\n",
    "pd.set_option('display.width', 150)"
   ]
  },
  {
   "cell_type": "code",
<<<<<<< HEAD
   "execution_count": 46,
=======
   "execution_count": 20,
>>>>>>> parent of 6dfaf54 (update noteebooks)
   "metadata": {},
   "outputs": [],
   "source": [
    "df = pd.read_pickle('/Users/andrewpeters/GitHub/fpl/data/interim/df_with_rolling_features.pkl')"
   ]
  },
  {
   "cell_type": "code",
<<<<<<< HEAD
   "execution_count": 47,
   "metadata": {},
   "outputs": [
    {
     "data": {
      "text/plain": [
       "105230"
      ]
     },
     "execution_count": 47,
     "metadata": {},
     "output_type": "execute_result"
    }
   ],
   "source": [
    "len(df)"
   ]
  },
  {
   "cell_type": "code",
   "execution_count": 48,
=======
   "execution_count": 21,
>>>>>>> parent of 6dfaf54 (update noteebooks)
   "metadata": {},
   "outputs": [],
   "source": [
    "df = df[df['total_points'] >= 0] #possible, but rare, to get negative points. Will remove negative points for ease of use\n",
<<<<<<< HEAD
    "df['past_three_avg_mins'] = (df['minutes_prev'] + df['minutes_prev_2'])/2\n",
    "df = df[df['past_three_avg_mins'] > 45]\n",
    "df = df[df['minutes'] > 40] #minutes played is very much after-the-fact knowledge, but usually we know who won't even be playing 40 minutes\n"
=======
    "df['past_three_avg_mins'] = (df['minutes_prev'] + df['minutes_prev_2'] + df['minutes_prev_3'])/3\n",
    "df = df[df['past_three_avg_mins'] > 60]\n",
    "df = df[df['minutes'] > 40] #minutes played is very much after-the-fact knowledge, but usually we know who won't even be playing 40 minutes\n",
    "df = df.drop(columns = ['past_three_avg_mins', 'minutes'])"
>>>>>>> parent of 6dfaf54 (update noteebooks)
   ]
  },
  {
   "cell_type": "code",
<<<<<<< HEAD
   "execution_count": 49,
   "metadata": {},
   "outputs": [
    {
     "data": {
      "text/plain": [
       "30509"
      ]
     },
     "execution_count": 49,
     "metadata": {},
     "output_type": "execute_result"
    }
   ],
   "source": [
    "len(df)"
   ]
  },
  {
   "cell_type": "code",
   "execution_count": 50,
=======
   "execution_count": 22,
>>>>>>> parent of 6dfaf54 (update noteebooks)
   "metadata": {},
   "outputs": [],
   "source": [
    "def prep_final_features(df):\n",
    "    df['was_home'] = df['was_home'].astype('int') #convert bool to numeric\n",
    "    positions_df = pd.get_dummies(df['position'], prefix='position_')\n",
    "    df = df.join(positions_df)\n",
    "    return df"
   ]
  },
  {
   "cell_type": "code",
<<<<<<< HEAD
   "execution_count": 51,
=======
   "execution_count": 23,
>>>>>>> parent of 6dfaf54 (update noteebooks)
   "metadata": {},
   "outputs": [],
   "source": [
    "df = prep_final_features(df)"
   ]
  },
  {
   "cell_type": "code",
<<<<<<< HEAD
   "execution_count": 52,
=======
   "execution_count": 24,
>>>>>>> parent of 6dfaf54 (update noteebooks)
   "metadata": {},
   "outputs": [],
   "source": [
    "metadata_cols = ['player', 'team', 'position','opponent_team', 'gw', 'kickoff_time', 'season', 'team_opponent','total_points_opponent']"
   ]
  },
  {
   "cell_type": "code",
<<<<<<< HEAD
   "execution_count": 53,
=======
   "execution_count": 25,
>>>>>>> parent of 6dfaf54 (update noteebooks)
   "metadata": {},
   "outputs": [],
   "source": [
    "metadata = df[metadata_cols]"
   ]
  },
  {
   "cell_type": "code",
<<<<<<< HEAD
   "execution_count": 54,
   "metadata": {},
   "outputs": [],
   "source": [
    "metadata_cols = ['player', 'minutes', 'team', 'position', 'opponent_team', 'gw', 'date', 'season', 'team_opponent']"
=======
   "execution_count": 26,
   "metadata": {},
   "outputs": [],
   "source": [
    "df = df.dropna()"
>>>>>>> parent of 6dfaf54 (update noteebooks)
   ]
  },
  {
   "cell_type": "code",
<<<<<<< HEAD
   "execution_count": 55,
=======
   "execution_count": 41,
>>>>>>> parent of 6dfaf54 (update noteebooks)
   "metadata": {},
   "outputs": [],
   "source": [
    "#remove top .05% of performance \n",
    "df = df.sort_values('total_points', ascending=False).iloc[round(len(df)*.005):]"
   ]
  },
  {
   "cell_type": "code",
<<<<<<< HEAD
   "execution_count": 56,
=======
   "execution_count": 42,
>>>>>>> parent of 6dfaf54 (update noteebooks)
   "metadata": {},
   "outputs": [],
   "source": [
    "X = df.drop(columns = metadata_cols)\n",
    "X = X.drop(columns = 'total_points')"
   ]
  },
  {
   "cell_type": "code",
<<<<<<< HEAD
   "execution_count": 57,
=======
   "execution_count": 43,
>>>>>>> parent of 6dfaf54 (update noteebooks)
   "metadata": {},
   "outputs": [],
   "source": [
    "y = df['total_points']"
   ]
  },
  {
   "cell_type": "code",
<<<<<<< HEAD
   "execution_count": 58,
=======
   "execution_count": 44,
>>>>>>> parent of 6dfaf54 (update noteebooks)
   "metadata": {},
   "outputs": [],
   "source": [
    "#save the final features names -- I'll use this when predicting future data to make sure I have the correct features\n",
    "with open('/Users/andrewpeters/GitHub/fpl/data/interim/x_features.pkl', 'wb') as f:\n",
    "    pickle.dump(list(X), f)"
   ]
  },
  {
   "cell_type": "code",
<<<<<<< HEAD
   "execution_count": 59,
=======
   "execution_count": 45,
>>>>>>> parent of 6dfaf54 (update noteebooks)
   "metadata": {},
   "outputs": [],
   "source": [
    "with open('/Users/andrewpeters/GitHub/fpl/data/processed/X.npy', 'wb') as file:\n",
    "    np.save(file, X)"
   ]
  },
  {
   "cell_type": "code",
<<<<<<< HEAD
   "execution_count": 60,
=======
   "execution_count": 46,
>>>>>>> parent of 6dfaf54 (update noteebooks)
   "metadata": {},
   "outputs": [],
   "source": [
    "with open('/Users/andrewpeters/GitHub/fpl/data/processed/y.npy', 'wb') as file:\n",
    "    np.save(file, y)"
   ]
  },
  {
   "cell_type": "code",
<<<<<<< HEAD
   "execution_count": 61,
   "metadata": {},
   "outputs": [],
   "source": [
    "with open('/Users/andrewpeters/GitHub/fpl/data/processed/metadata.npy', 'wb') as file:\n",
    "    np.save(file, metadata)"
   ]
  },
  {
   "cell_type": "code",
   "execution_count": 62,
=======
   "execution_count": 47,
>>>>>>> parent of 6dfaf54 (update noteebooks)
   "metadata": {},
   "outputs": [
    {
     "data": {
      "text/plain": [
       "(30025, 325)"
      ]
     },
<<<<<<< HEAD
     "execution_count": 62,
=======
     "execution_count": 47,
>>>>>>> parent of 6dfaf54 (update noteebooks)
     "metadata": {},
     "output_type": "execute_result"
    }
   ],
   "source": [
    "X.shape"
   ]
  },
  {
   "cell_type": "code",
<<<<<<< HEAD
   "execution_count": 63,
   "metadata": {},
   "outputs": [
    {
     "data": {
      "text/plain": [
       "(30025, 9)"
      ]
     },
     "execution_count": 63,
     "metadata": {},
     "output_type": "execute_result"
    }
   ],
   "source": [
    "metadata.shape"
   ]
  },
  {
   "cell_type": "code",
=======
>>>>>>> parent of 6dfaf54 (update noteebooks)
   "execution_count": null,
   "metadata": {},
   "outputs": [],
   "source": []
  }
 ],
 "metadata": {
  "kernelspec": {
   "display_name": "Python 3",
   "language": "python",
   "name": "python3"
  },
  "language_info": {
   "codemirror_mode": {
    "name": "ipython",
    "version": 3
   },
   "file_extension": ".py",
   "mimetype": "text/x-python",
   "name": "python",
   "nbconvert_exporter": "python",
   "pygments_lexer": "ipython3",
   "version": "3.8.3"
  }
 },
 "nbformat": 4,
 "nbformat_minor": 4
}
