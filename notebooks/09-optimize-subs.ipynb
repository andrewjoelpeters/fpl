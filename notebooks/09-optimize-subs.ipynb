{
 "cells": [
  {
   "cell_type": "code",
   "execution_count": 75,
   "metadata": {},
   "outputs": [],
   "source": [
    "import requests\n",
    "import pandas as pd\n",
    "import numpy as np\n",
    "import pulp"
   ]
  },
  {
   "cell_type": "markdown",
   "metadata": {},
   "source": [
    "# Use API to Grab Current Team"
   ]
  },
  {
   "cell_type": "code",
   "execution_count": 53,
   "metadata": {},
   "outputs": [],
   "source": [
    "history = pd.read_pickle('/Users/andrewpeters/GitHub/fpl/data/interim/df.pkl')\n",
    "current_gw = int(history[history['finished'] == True].sort_values('kickoff_time')['gw'].tail(1))"
   ]
  },
  {
   "cell_type": "code",
   "execution_count": 54,
   "metadata": {},
   "outputs": [],
   "source": [
    "url = f'https://fantasy.premierleague.com/api/entry/5171826/event/{current_gw}/picks/'\n",
    "r = requests.get(url)\n",
    "json = r.json()"
   ]
  },
  {
   "cell_type": "code",
   "execution_count": 87,
   "metadata": {},
   "outputs": [],
   "source": [
    "current_team = pd.DataFrame(json['picks'])\n",
    "money_remaining = json['entry_history']['bank']"
   ]
  },
  {
   "cell_type": "code",
   "execution_count": 66,
   "metadata": {},
   "outputs": [],
   "source": [
    "current_team = current_team.merge(history[['element', 'player']], how='left').drop_duplicates().reset_index(drop=True)"
   ]
  },
  {
   "cell_type": "markdown",
   "metadata": {},
   "source": [
    "# Solve Knapsack Problem"
   ]
  },
  {
   "cell_type": "code",
   "execution_count": 109,
   "metadata": {},
   "outputs": [],
   "source": [
    "df = pd.read_pickle('/Users/andrewpeters/GitHub/fpl/data/processed/grouped_predictions_with_cost.pkl')"
   ]
  },
  {
   "cell_type": "code",
   "execution_count": 110,
   "metadata": {},
   "outputs": [],
   "source": [
    "df.gw = df.gw.astype('int64')\n",
    "data = df[df.gw.isin(df.gw.unique()[:5])] #filter for next 5 gws only\n",
    "data = data.groupby(['player', 'position', 'team', 'now_cost', 'element'])['predicted_points'].sum().reset_index()\n",
    "\n",
    "expected_scores = data.predicted_points.values\n",
    "num_players = len(data)\n",
    "prices = data.now_cost.values / 10\n",
    "positions = data.position.values\n",
    "teams = data.team.values\n",
    "names = data.player.values\n",
    "budget_now = money_remaining/10"
   ]
  },
  {
   "cell_type": "code",
   "execution_count": 118,
   "metadata": {},
   "outputs": [],
   "source": [
    "from transfer_optimizer import TransferOptimiser"
   ]
  },
  {
   "cell_type": "code",
   "execution_count": 113,
   "metadata": {},
   "outputs": [],
   "source": [
    "opt = TransferOptimiser(expected_scores, buy_prices, sell_prices, positions, teams)"
   ]
  },
  {
   "cell_type": "code",
   "execution_count": 114,
   "metadata": {},
   "outputs": [],
   "source": [
    "current_squad_indices = data[data.element.isin(current_team.element)].index #look up indices for current team"
   ]
  },
  {
   "cell_type": "code",
   "execution_count": 115,
   "metadata": {},
   "outputs": [
    {
     "name": "stderr",
     "output_type": "stream",
     "text": [
      "/Users/andrewpeters/anaconda3/lib/python3.8/site-packages/pulp/pulp.py:1198: UserWarning: Spaces are not permitted in the name. Converted to '_'\n",
      "  warnings.warn(\"Spaces are not permitted in the name. Converted to '_'\")\n"
     ]
    },
    {
     "name": "stdout",
     "output_type": "stream",
     "text": [
      "Solver status: 1\n"
     ]
    }
   ],
   "source": [
    "transfer_in_decisions, transfer_out_decisions, starters, sub_decisions, captain_decisions = opt.solve(current_squad_indices, budget_now, sub_factor=0.2)"
   ]
  },
  {
   "cell_type": "code",
   "execution_count": 116,
   "metadata": {},
   "outputs": [
    {
     "name": "stdout",
     "output_type": "stream",
     "text": [
      "Transferred out: Alex_McCarthy 4.5 8.80\n",
      "Transferred in: Alexis_Mac Allister 5.3 90.00\n",
      "Transferred in: Anwar_El Ghazi 5.3 87.00\n",
      "Transferred in: Ayoze_Pérez 6.0 90.00\n",
      "Transferred out: Ben_Mee 5.1 16.03\n",
      "Transferred out: Bruno Miguel_Borges Fernandes 11.6 11.55\n",
      "Transferred in: Danny_Ward 4.3 45.00\n",
      "Transferred out: Dominic_Calvert-Lewin 7.6 25.23\n",
      "Transferred out: Emiliano_Martínez 5.3 30.80\n",
      "Transferred out: Ilkay_Gündogan 6.1 31.23\n",
      "Transferred out: Jack_Grealish 7.7 30.80\n",
      "Transferred in: Jan_Bednarek 4.9 45.00\n",
      "Transferred in: Jannik_Vestergaard 4.7 45.00\n",
      "Transferred out: João Pedro Cavaco_Cancelo 6.1 31.23\n",
      "Transferred in: Kelechi_Iheanacho 5.6 90.00\n",
      "Transferred in: Matej_Vydra 4.8 72.00\n",
      "Transferred in: Max_Kilman 4.0 72.00\n",
      "Transferred out: Mohamed_Salah 12.6 6.24\n",
      "Transferred out: Patrick_Bamford 6.9 7.80\n",
      "Transferred out: Pedro_Lomba Neto 5.7 20.53\n",
      "Transferred in: Ross_Barkley 5.9 108.00\n",
      "Transferred out: Rúben Santos_Gato Alves Dias 6.1 15.43\n",
      "Transferred in: Steven_Alzate 4.2 90.00\n",
      "Transferred in: Thomas_McGill 3.9 45.00\n"
     ]
    }
   ],
   "source": [
    "for i in range(num_players):\n",
    "    if transfer_in_decisions[i].value() == 1:\n",
    "        print(\"Transferred in: {} {} {:.2f}\".format(names[i], buy_prices[i], expected_scores[i]))\n",
    "    if transfer_out_decisions[i].value() == 1:\n",
    "        print(\"Transferred out: {} {} {:.2f}\".format(names[i], sell_prices[i], expected_scores[i]))"
   ]
  },
  {
   "cell_type": "code",
   "execution_count": 103,
   "metadata": {},
   "outputs": [
    {
     "name": "stdout",
     "output_type": "stream",
     "text": [
      "\n",
      "First Team:\n",
      "Ahmed_El Mohamady\n",
      "Alexis_Mac Allister\n",
      "Ayoze_Pérez\n",
      "Jed_Steer\n",
      "Jimmy_Dunne\n",
      "Kelechi_Iheanacho\n",
      "Matej_Vydra\n",
      "Max_Kilman\n",
      "Ross_Barkley*\n",
      "Steven_Alzate\n",
      "Willian José_Da Silva\n",
      "\n",
      "Subs:\n",
      "Ilkay_Gündogan\n",
      "João Pedro Cavaco_Cancelo\n",
      "Thomas_McGill\n",
      "Vladimir_Coufal\n"
     ]
    }
   ],
   "source": [
    "player_indices = []\n",
    "print()\n",
    "print(\"First Team:\")\n",
    "for i in range(len(starters)):\n",
    "    if starters[i].value() == 1:\n",
    "        print(\"{}{}\".format(names[i], \"*\" if captain_decisions[i].value() == 1 else \"\"))\n",
    "        player_indices.append(i)\n",
    "print()\n",
    "print(\"Subs:\")\n",
    "for i in range(len(sub_decisions)):\n",
    "    if sub_decisions[i].value() == 1:\n",
    "        print(names[i])\n",
    "        player_indices.append(i)"
   ]
  },
  {
   "cell_type": "code",
   "execution_count": null,
   "metadata": {},
   "outputs": [],
   "source": []
  }
 ],
 "metadata": {
  "kernelspec": {
   "display_name": "Python 3",
   "language": "python",
   "name": "python3"
  },
  "language_info": {
   "codemirror_mode": {
    "name": "ipython",
    "version": 3
   },
   "file_extension": ".py",
   "mimetype": "text/x-python",
   "name": "python",
   "nbconvert_exporter": "python",
   "pygments_lexer": "ipython3",
   "version": "3.8.3"
  }
 },
 "nbformat": 4,
 "nbformat_minor": 4
}
