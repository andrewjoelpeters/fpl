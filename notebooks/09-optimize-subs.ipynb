{
 "cells": [
  {
   "cell_type": "code",
   "execution_count": 155,
   "metadata": {},
   "outputs": [],
   "source": [
    "import requests\n",
    "import pandas as pd\n",
    "import numpy as np\n",
    "import pulp"
   ]
  },
  {
   "cell_type": "markdown",
   "metadata": {},
   "source": [
    "# Use API to Grab Current Team"
   ]
  },
  {
   "cell_type": "code",
   "execution_count": 156,
   "metadata": {},
   "outputs": [],
   "source": [
    "history = pd.read_pickle('/Users/andrewpeters/GitHub/fpl/data/interim/df.pkl')\n",
    "current_gw = int(history[history['finished'] == True].sort_values('kickoff_time')['gw'].tail(1))"
   ]
  },
  {
   "cell_type": "code",
   "execution_count": 157,
   "metadata": {},
   "outputs": [],
   "source": [
    "url = f'https://fantasy.premierleague.com/api/entry/5171826/event/{current_gw}/picks/'\n",
    "r = requests.get(url)\n",
    "json = r.json()"
   ]
  },
  {
   "cell_type": "code",
   "execution_count": 158,
   "metadata": {},
   "outputs": [],
   "source": [
    "current_team = pd.DataFrame(json['picks'])\n",
    "money_remaining = json['entry_history']['bank']"
   ]
  },
  {
   "cell_type": "code",
   "execution_count": 159,
   "metadata": {},
   "outputs": [],
   "source": [
    "current_team = current_team.merge(history[['element', 'player']], how='left').drop_duplicates().reset_index(drop=True)"
   ]
  },
  {
   "cell_type": "markdown",
   "metadata": {},
   "source": [
    "# Solve Knapsack Problem"
   ]
  },
  {
   "cell_type": "code",
   "execution_count": 160,
   "metadata": {},
   "outputs": [],
   "source": [
    "df = pd.read_pickle('/Users/andrewpeters/GitHub/fpl/data/processed/grouped_predictions_with_cost.pkl')"
   ]
  },
  {
   "cell_type": "code",
   "execution_count": 183,
   "metadata": {},
   "outputs": [],
   "source": [
    "#currently not calculating for change in player value\n",
    "\n",
    "df.gw = df.gw.astype('int64')\n",
    "data = df[df.gw.isin(df.gw.unique()[:5])] #filter for next 5 gws only\n",
    "data = data.groupby(['player', 'position', 'team', 'now_cost', 'element'])['predicted_points'].sum().reset_index()\n",
    "\n",
    "expected_scores = data.predicted_points.values\n",
    "num_players = len(data)\n",
    "buy_prices = data.now_cost.values / 10\n",
    "sell_prices = data.now_cost.values / 10\n",
    "positions = data.position.values\n",
    "teams = data.team.values\n",
    "names = data.player.values\n",
    "budget_now = money_remaining/10"
   ]
  },
  {
   "cell_type": "code",
   "execution_count": 184,
   "metadata": {},
   "outputs": [],
   "source": [
    "from transfer_optimizer import TransferOptimiser"
   ]
  },
  {
   "cell_type": "code",
   "execution_count": 185,
   "metadata": {},
   "outputs": [],
   "source": [
    "opt = TransferOptimiser(expected_scores, buy_prices, sell_prices, positions, teams)"
   ]
  },
  {
   "cell_type": "code",
   "execution_count": 186,
   "metadata": {},
   "outputs": [],
   "source": [
    "current_squad_indices = data[data.element.isin(current_team.element)].index #look up indices for current team"
   ]
  },
  {
   "cell_type": "code",
   "execution_count": 187,
   "metadata": {},
   "outputs": [
    {
     "name": "stdout",
     "output_type": "stream",
     "text": [
      "Solver status: 1\n"
     ]
    }
   ],
   "source": [
    "transfer_in_decisions, transfer_out_decisions, starters, sub_decisions, captain_decisions = opt.solve(current_squad_indices, budget_now, sub_factor=0.2)"
   ]
  },
  {
   "cell_type": "code",
   "execution_count": 188,
   "metadata": {},
   "outputs": [
    {
     "name": "stdout",
     "output_type": "stream",
     "text": [
      "Transferred in: Anthony_Knockaert 5.0 34.15\n",
      "Transferred out: Ben_Mee 5.1 19.47\n",
      "Transferred out: Bruno Miguel_Borges Fernandes 11.6 29.65\n",
      "Transferred in: Craig_Dawson 4.5 45.17\n",
      "Transferred in: Luke_Thomas 4.2 37.09\n",
      "Transferred out: Mohamed_Salah 12.6 13.14\n",
      "Transferred in: Richarlison_de Andrade 7.9 32.46\n",
      "Transferred in: Rob_Holding 4.5 38.12\n",
      "Transferred out: Rúben Santos_Gato Alves Dias 6.1 26.80\n",
      "Transferred in: Tomas_Soucek 5.3 57.97\n",
      "Transferred in: Wilfred_Ndidi 4.8 36.23\n"
     ]
    }
   ],
   "source": [
    "for i in range(num_players):\n",
    "    if transfer_in_decisions[i].value() == 1:\n",
    "        print(\"Transferred in: {} {} {:.2f}\".format(names[i], buy_prices[i], expected_scores[i]))\n",
    "    if transfer_out_decisions[i].value() == 1:\n",
    "        print(\"Transferred out: {} {} {:.2f}\".format(names[i], sell_prices[i], expected_scores[i]))"
   ]
  },
  {
   "cell_type": "code",
   "execution_count": 189,
   "metadata": {},
   "outputs": [
    {
     "name": "stdout",
     "output_type": "stream",
     "text": [
      "\n",
      "First Team:\n",
      "Craig_Dawson\n",
      "Dominic_Calvert-Lewin\n",
      "Emiliano_Martínez\n",
      "Jack_Grealish\n",
      "Luke_Thomas\n",
      "Ollie_Watkins\n",
      "Pedro_Lomba Neto\n",
      "Rob_Holding\n",
      "Tomas_Soucek*\n",
      "Vladimir_Coufal\n",
      "Wilfred_Ndidi\n",
      "\n",
      "Subs:\n",
      "Alex_McCarthy\n",
      "Anthony_Knockaert\n",
      "João Pedro Cavaco_Cancelo\n",
      "Richarlison_de Andrade\n"
     ]
    }
   ],
   "source": [
    "player_indices = []\n",
    "print()\n",
    "print(\"First Team:\")\n",
    "for i in range(len(starters)):\n",
    "    if starters[i].value() == 1:\n",
    "        print(\"{}{}\".format(names[i], \"*\" if captain_decisions[i].value() == 1 else \"\"))\n",
    "        player_indices.append(i)\n",
    "print()\n",
    "print(\"Subs:\")\n",
    "for i in range(len(sub_decisions)):\n",
    "    if sub_decisions[i].value() == 1:\n",
    "        print(names[i])\n",
    "        player_indices.append(i)"
   ]
  },
  {
   "cell_type": "code",
   "execution_count": null,
   "metadata": {},
   "outputs": [],
   "source": []
  }
 ],
 "metadata": {
  "kernelspec": {
   "display_name": "Python 3",
   "language": "python",
   "name": "python3"
  },
  "language_info": {
   "codemirror_mode": {
    "name": "ipython",
    "version": 3
   },
   "file_extension": ".py",
   "mimetype": "text/x-python",
   "name": "python",
   "nbconvert_exporter": "python",
   "pygments_lexer": "ipython3",
   "version": "3.8.3"
  }
 },
 "nbformat": 4,
 "nbformat_minor": 4
}
