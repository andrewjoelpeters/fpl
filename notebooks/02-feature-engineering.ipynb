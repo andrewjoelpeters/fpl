{
 "cells": [
  {
   "cell_type": "code",
   "execution_count": 246,
   "metadata": {},
   "outputs": [],
   "source": [
    "import pandas as pd\n",
    "import numpy as np\n",
    "from tqdm import tqdm"
   ]
  },
  {
   "cell_type": "code",
   "execution_count": 247,
   "metadata": {},
   "outputs": [],
   "source": [
    "pd.set_option('display.max_rows', 500)\n",
    "pd.set_option('display.max_columns', 500)\n",
    "pd.set_option('display.width', 150)\n",
    "%matplotlib inline"
   ]
  },
  {
   "cell_type": "code",
   "execution_count": 248,
   "metadata": {},
   "outputs": [],
   "source": [
    "df = pd.read_pickle('/Users/andrewpeters/GitHub/fpl/data/interim/df.pkl')"
   ]
  },
  {
   "cell_type": "markdown",
   "metadata": {},
   "source": [
    "To start, the main way I'll be adding features here is by making lag and rolling features. I also want to correct for that fact that not all data in each row is knowable _before_ the game. I know the fixture and the opponent before a game, but I don't know the minutes a player played until after, for example"
   ]
  },
  {
   "cell_type": "code",
   "execution_count": 249,
   "metadata": {},
   "outputs": [],
   "source": [
    "prior_knowledge = ['player','team', 'position', 'gw', 'opponent_team', 'was_home', 'kickoff_time', 'season']\n",
    "posterior_knowledge = ['team_h_score', 'team_a_score', 'minutes', 'goals_scored', 'assists', 'clean_sheets', \n",
    "                       'goals_conceded', 'bonus', 'bps', 'influence', 'creativity', 'threat', 'ict_index',\n",
    "                      'transfers_balance', 'selected', 'transfers_in', 'transfers_out']"
   ]
  },
  {
   "cell_type": "code",
   "execution_count": 250,
   "metadata": {},
   "outputs": [],
   "source": [
    "#ordering the columns so I can keep better track of this\n",
    "df = df[['total_points'] + prior_knowledge + posterior_knowledge]"
   ]
  },
  {
   "cell_type": "code",
   "execution_count": 251,
   "metadata": {},
   "outputs": [],
   "source": [
    "df = df.sort_values(['player', 'kickoff_time'])\n",
    "shifted_df = df.groupby('player')[['total_points'] + posterior_knowledge].shift(1)\n",
    "df = df.join(shifted_df, rsuffix='_prev').sort_values(['player', 'kickoff_time'])"
   ]
  },
  {
   "cell_type": "code",
   "execution_count": 252,
   "metadata": {},
   "outputs": [],
   "source": [
    "posterior_knowledge_shift = [f'{col}_prev' for col in posterior_knowledge]"
   ]
  },
  {
   "cell_type": "code",
   "execution_count": 253,
   "metadata": {},
   "outputs": [
    {
     "name": "stderr",
     "output_type": "stream",
     "text": [
      "100%|██████████| 9/9 [00:13<00:00,  1.55s/it]\n"
     ]
    }
   ],
   "source": [
    "#generate rolling features, and join back with the original df. Using a minimum period of 4 to balance precision and not ending up with too many NaNs.\n",
    "\n",
    "for window_size in tqdm(np.arange(2,11)):\n",
    "    rolling_df = df.groupby('player')[['total_points_prev'] + posterior_knowledge_shift].rolling(window=window_size, min_periods=1).mean().reset_index().set_index('level_1')\n",
    "    df = df.join(rolling_df[['total_points_prev'] + posterior_knowledge_shift], rsuffix = f'_{window_size}')"
   ]
  },
  {
   "cell_type": "code",
   "execution_count": 254,
   "metadata": {},
   "outputs": [],
   "source": [
    "# at this point, I should drop the posterior_knowledge features -- the features we don't actually know until after the end of the gw\n",
    "df = df.drop(columns=posterior_knowledge)"
   ]
  },
  {
   "cell_type": "code",
   "execution_count": 255,
   "metadata": {},
   "outputs": [],
   "source": [
    "# engineer features to show team-level performance\n",
    "team_level = df.groupby(['team', 'season','gw']).sum(min_count=1) #min_count preserves NAs\n",
    "\n",
    "#not all of the player-level features are helpful at the team-level; pick what I want to keep\n",
    "team_level_keep_features = ['total_points', 'goals_scored', 'goals_conceded', 'clean_sheets', 'influence', 'creativity', 'threat']\n",
    "\n",
    "#I want to keep all rolling window versions of the columns listed above:\n",
    "team_level_cols = []\n",
    "for col in list(team_level):\n",
    "    for keep_col in team_level_keep_features:\n",
    "        if keep_col in col:\n",
    "            team_level_cols.append(col)\n",
    "            \n",
    "team_level = team_level[team_level_cols]\n",
    "team_level = team_level.reset_index()"
   ]
  },
  {
   "cell_type": "code",
   "execution_count": 256,
   "metadata": {},
   "outputs": [],
   "source": [
    "#merge the team-level features back in to the original df\n",
    "df = df.merge(team_level, on = ['team', 'season', 'gw'], suffixes = ('', '_team'))\n",
    "\n",
    "#do the same for opponents, so this can provide features on the difficulty of the opponent\n",
    "df = df.merge(team_level, left_on = ['opponent_team', 'season', 'gw'], right_on = ['team', 'season', 'gw'], suffixes = ('', '_opponent'))"
   ]
  },
  {
   "cell_type": "code",
   "execution_count": 257,
   "metadata": {},
   "outputs": [],
   "source": [
    "df.to_pickle('/Users/andrewpeters/GitHub/fpl/data/interim/df_with_rolling_features.pkl')"
   ]
  },
  {
   "cell_type": "code",
   "execution_count": 258,
   "metadata": {},
   "outputs": [],
   "source": [
    "#save the team_level table so I can use later for forward-looking games\n",
    "team_level.to_pickle('/Users/andrewpeters/GitHub/fpl/data/interim/team_level_rolling.pkl')"
   ]
  },
  {
   "cell_type": "code",
   "execution_count": null,
   "metadata": {},
   "outputs": [],
   "source": []
  }
 ],
 "metadata": {
  "kernelspec": {
   "display_name": "Python 3",
   "language": "python",
   "name": "python3"
  },
  "language_info": {
   "codemirror_mode": {
    "name": "ipython",
    "version": 3
   },
   "file_extension": ".py",
   "mimetype": "text/x-python",
   "name": "python",
   "nbconvert_exporter": "python",
   "pygments_lexer": "ipython3",
   "version": "3.8.3"
  }
 },
 "nbformat": 4,
 "nbformat_minor": 4
}
