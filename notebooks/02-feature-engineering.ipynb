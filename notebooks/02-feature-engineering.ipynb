{
 "cells": [
  {
   "cell_type": "code",
   "execution_count": 325,
   "metadata": {},
   "outputs": [],
   "source": [
    "import pandas as pd\n",
    "import numpy as np\n",
    "from tqdm import tqdm"
   ]
  },
  {
   "cell_type": "code",
   "execution_count": 326,
   "metadata": {},
   "outputs": [],
   "source": [
    "pd.set_option('display.max_rows', 500)\n",
    "pd.set_option('display.max_columns', 500)\n",
    "pd.set_option('display.width', 150)\n",
    "%matplotlib inline"
   ]
  },
  {
   "cell_type": "code",
   "execution_count": 327,
   "metadata": {},
   "outputs": [],
   "source": [
    "df = pd.read_pickle('/Users/andrewpeters/GitHub/fpl/data/interim/01a-understat-merged-df.pkl')"
   ]
  },
  {
   "cell_type": "code",
   "execution_count": 328,
   "metadata": {},
   "outputs": [
    {
     "data": {
      "text/plain": [
       "105230"
      ]
     },
     "execution_count": 328,
     "metadata": {},
     "output_type": "execute_result"
    }
   ],
   "source": [
    "len(df)"
   ]
  },
  {
   "cell_type": "code",
   "execution_count": 329,
   "metadata": {},
   "outputs": [],
   "source": [
    "df[['key_passes','xA', 'xGChain', 'xGBuildup']] = df[['key_passes','xA', 'xGChain', 'xGBuildup']].apply(pd.to_numeric)"
   ]
  },
  {
   "cell_type": "markdown",
   "metadata": {},
   "source": [
    "To start, the main way I'll be adding features here is by making lag and rolling features. I also want to correct for that fact that not all data in each row is knowable _before_ the game. I know the fixture and the opponent before a game, but I don't know the minutes a player played until after, for example"
   ]
  },
  {
   "cell_type": "code",
   "execution_count": 330,
   "metadata": {},
   "outputs": [],
   "source": [
    "prior_knowledge = ['player', 'team', 'position', 'gw', 'opponent_team', 'was_home', 'date', 'season']\n",
    "posterior_knowledge = ['minutes', 'goals_scored', 'assists', 'clean_sheets', \n",
    "                       'goals_conceded', 'bonus', 'bps', 'influence', 'creativity', 'threat', 'ict_index',\n",
    "                      'transfers_balance', 'selected', 'transfers_in', 'transfers_out', 'key_passes',\n",
    "                       'xA', 'xGChain', 'xGBuildup']"
   ]
  },
  {
   "cell_type": "code",
   "execution_count": 331,
   "metadata": {},
   "outputs": [],
   "source": [
    "#ordering the columns so I can keep better track of this\n",
    "#minutes are very much posterior knowledge as well, but I want to use this later to drop players who we could have easily predicted weren't going to play\n",
    "\n",
    "df = df[['total_points'] + prior_knowledge + posterior_knowledge]"
   ]
  },
  {
   "cell_type": "code",
   "execution_count": 332,
   "metadata": {},
   "outputs": [],
   "source": [
    "df = df.sort_values(['player', 'date'])\n",
    "shifted_df = df.groupby('player')[['total_points'] + posterior_knowledge].shift(1)\n",
    "df = df.join(shifted_df, rsuffix='_prev').sort_values(['player', 'date'])"
   ]
  },
  {
   "cell_type": "code",
   "execution_count": 333,
   "metadata": {},
   "outputs": [],
   "source": [
    "posterior_knowledge_shift = [f'{col}_prev' for col in posterior_knowledge]"
   ]
  },
  {
   "cell_type": "code",
   "execution_count": 334,
   "metadata": {},
   "outputs": [
    {
     "name": "stderr",
     "output_type": "stream",
     "text": [
      "100%|██████████| 7/7 [00:10<00:00,  1.51s/it]\n"
     ]
    }
   ],
   "source": [
    "#generate rolling features, and join back with the original df. Using a minimum period of 4 to balance precision and not ending up with too many NaNs.\n",
    "df = df.sort_values(['player', 'date'])\n",
    "for window_size in tqdm(np.arange(2,15,2)):\n",
    "    rolling_df = df.groupby('player')[['total_points_prev'] + posterior_knowledge_shift].rolling(window=window_size, min_periods=1).mean().reset_index().set_index('level_1')\n",
    "    df = df.join(rolling_df[['total_points_prev'] + posterior_knowledge_shift], rsuffix = f'_{window_size}')"
   ]
  },
  {
   "cell_type": "code",
   "execution_count": 335,
   "metadata": {},
   "outputs": [
    {
     "data": {
      "text/plain": [
       "'minutes'"
      ]
     },
     "execution_count": 335,
     "metadata": {},
     "output_type": "execute_result"
    }
   ],
   "source": [
    "# at this point, I should drop the posterior_knowledge features -- the features we don't actually know until after the end of the gw\n",
    "# i want to at least leave the 'minutes' col intact for the time being, because I might use this later for filter, or making the target value 'pts/minute'\n",
    "posterior_knowledge.pop(0) "
   ]
  },
  {
   "cell_type": "code",
   "execution_count": 336,
   "metadata": {},
   "outputs": [],
   "source": [
    "df = df.drop(columns=posterior_knowledge)"
   ]
  },
  {
   "cell_type": "markdown",
   "metadata": {},
   "source": [
    "# Now, onto a similar process, but for team-level features"
   ]
  },
  {
   "cell_type": "code",
   "execution_count": 338,
   "metadata": {},
   "outputs": [],
   "source": [
    "team_level = pd.read_pickle('/Users/andrewpeters/GitHub/understat/fixture_level_stats.pkl')"
   ]
  },
  {
   "cell_type": "code",
   "execution_count": 339,
   "metadata": {},
   "outputs": [],
   "source": [
    "team_level = team_level.drop(columns = ['id', 'isResult', 'team_opp'])"
   ]
  },
  {
   "cell_type": "code",
   "execution_count": 340,
   "metadata": {},
   "outputs": [],
   "source": [
    "team_level = team_level.sort_values(['team', 'datetime']).reset_index(drop=True)"
   ]
  },
  {
   "cell_type": "code",
   "execution_count": 341,
   "metadata": {},
   "outputs": [],
   "source": [
    "shifted_team_level = team_level.groupby('team').shift(1).reset_index(drop=True)"
   ]
  },
  {
   "cell_type": "code",
   "execution_count": 342,
   "metadata": {},
   "outputs": [],
   "source": [
    "team_level = team_level.join(shifted_team_level, rsuffix='_prev')"
   ]
  },
  {
   "cell_type": "code",
   "execution_count": 343,
   "metadata": {},
   "outputs": [],
   "source": [
    "team_level = team_level.drop(columns=['xg_team', 'xg_opp', 'team_goals', 'goals_opp', 'xg_diff', 'goal_diff', 'datetime_prev'])"
   ]
  },
  {
   "cell_type": "code",
   "execution_count": 344,
   "metadata": {},
   "outputs": [],
   "source": [
    "team_level_posterior_cols = ['xg_team_prev', 'xg_opp_prev', 'team_goals_prev', 'goals_opp_prev', 'xg_diff_prev', 'goal_diff_prev']"
   ]
  },
  {
   "cell_type": "code",
   "execution_count": 345,
   "metadata": {},
   "outputs": [
    {
     "name": "stderr",
     "output_type": "stream",
     "text": [
      "100%|██████████| 7/7 [00:00<00:00, 41.01it/s]\n"
     ]
    }
   ],
   "source": [
    "team_level = team_level.sort_values(['team', 'datetime'])\n",
    "for window_size in tqdm(np.arange(2,15,2)):\n",
    "    rolling_team_df = team_level.groupby('team')[team_level_posterior_cols].rolling(window=window_size, min_periods=1).mean().reset_index().set_index('level_1')\n",
    "    team_level = team_level.join(rolling_team_df[team_level_posterior_cols], rsuffix = f'_{window_size}')"
   ]
  },
  {
   "cell_type": "code",
   "execution_count": 346,
   "metadata": {},
   "outputs": [],
   "source": [
    "team_level['date'] = team_level['datetime'].dt.date"
   ]
  },
  {
   "cell_type": "code",
   "execution_count": 347,
   "metadata": {},
   "outputs": [],
   "source": [
    "team_level = team_level.drop(columns = 'datetime')"
   ]
  },
  {
   "cell_type": "code",
   "execution_count": 359,
   "metadata": {},
   "outputs": [],
   "source": [
    "team_level = team_level.replace({'Brighton': 'Brighton and Hove Albion',\n",
    "'West Ham': 'West Ham United',\n",
    "'Huddersfield': 'Huddersfield Town',\n",
    "'Sheffield United': 'Sheffield Utd',\n",
    " 'Manchester United': 'Man Utd',\n",
    "'Hull': 'Hull City',\n",
    "'Wolverhampton Wanderers': 'Wolves',\n",
    "'Leicester': 'Leicester City',\n",
    "'Manchester City': 'Man City',\n",
    "'West Bromwich Albion': 'West Brom',\n",
    " 'Tottenham': 'Tottenham Hotspur',\n",
    " 'Cardiff': 'Cardiff City',\n",
    " 'Swansea': 'Swansea City',\n",
    " 'Newcastle United': 'Newcastle',\n",
    " 'Stoke' : 'Stoke City'})"
   ]
  },
  {
   "cell_type": "code",
   "execution_count": 361,
   "metadata": {},
   "outputs": [],
   "source": [
    "df = df.replace({'Spurs': 'Tottenham Hotspur'})"
   ]
  },
  {
   "cell_type": "code",
   "execution_count": 305,
   "metadata": {},
   "outputs": [],
   "source": [
    "#save the team_level table so I can use later for forward-looking games\n",
    "team_level.to_pickle('/Users/andrewpeters/GitHub/fpl/data/interim/team_level_rolling.pkl')"
   ]
  },
  {
   "cell_type": "code",
   "execution_count": 351,
   "metadata": {},
   "outputs": [],
   "source": [
    "#merge team level rolling stats\n",
    "df = df.merge(team_level, left_on = ['team', 'date'], right_on = ['team', 'date'], suffixes = ('', '_team'), how = 'left')"
   ]
  },
  {
   "cell_type": "code",
   "execution_count": 352,
   "metadata": {},
   "outputs": [],
   "source": [
    "#do the same for opponents, so this can provide features on the difficulty of the opponent\n",
    "df = df.merge(team_level, left_on = ['opponent_team', 'date'], right_on = ['team', 'date'], suffixes = ('', '_opponent'), how = 'left')"
   ]
  },
  {
   "cell_type": "code",
   "execution_count": 353,
   "metadata": {},
   "outputs": [],
   "source": [
    "df.to_pickle('/Users/andrewpeters/GitHub/fpl/data/interim/df_with_rolling_features.pkl')"
   ]
  },
  {
   "cell_type": "code",
   "execution_count": 354,
   "metadata": {},
   "outputs": [
    {
     "data": {
      "text/plain": [
       "array(['Arsenal', 'Aston Villa', 'Bournemouth', 'Brighton', 'Burnley',\n",
       "       'Cardiff', 'Chelsea', 'Crystal Palace', 'Everton', 'Fulham',\n",
       "       'Huddersfield', 'Hull', 'Leeds', 'Leicester', 'Liverpool',\n",
       "       'Manchester City', 'Manchester United', 'Middlesbrough',\n",
       "       'Newcastle United', 'Norwich', 'Sheffield United', 'Southampton',\n",
       "       'Stoke', 'Sunderland', 'Swansea', 'Tottenham', 'Watford',\n",
       "       'West Bromwich Albion', 'West Ham', 'Wolverhampton Wanderers'],\n",
       "      dtype=object)"
      ]
     },
     "execution_count": 354,
     "metadata": {},
     "output_type": "execute_result"
    }
   ],
   "source": [
    "team_level.team.unique()"
   ]
  },
  {
   "cell_type": "code",
   "execution_count": 355,
   "metadata": {},
   "outputs": [
    {
     "data": {
      "text/plain": [
       "array(['Brighton and Hove Albion', 'Brighton', 'West Ham United',\n",
       "       'West Ham', 'Everton', 'Burnley', 'Huddersfield Town',\n",
       "       'Bournemouth', 'Sheffield Utd', 'Arsenal', 'Crystal Palace',\n",
       "       'Manchester United', 'Man Utd', 'Watford', 'Chelsea', 'Hull City',\n",
       "       'Fulham', 'Middlesbrough', 'Leeds', 'Norwich', 'Liverpool',\n",
       "       'Sunderland', 'Wolverhampton Wanderers', 'Wolves',\n",
       "       'Leicester City', 'Leicester', 'Man City', 'West Bromwich Albion',\n",
       "       'West Brom', 'Aston Villa', 'Manchester City', 'Newcastle United',\n",
       "       'Southampton', 'Tottenham Hotspur', 'Cardiff City', 'Spurs',\n",
       "       'Swansea City', 'Newcastle', 'Sheffield United', 'Stoke City'],\n",
       "      dtype=object)"
      ]
     },
     "execution_count": 355,
     "metadata": {},
     "output_type": "execute_result"
    }
   ],
   "source": [
    "df.team.unique()"
   ]
  },
  {
   "cell_type": "code",
   "execution_count": 362,
   "metadata": {},
   "outputs": [
    {
     "data": {
      "text/plain": [
       "['Brighton',\n",
       " 'West Ham',\n",
       " 'Manchester United',\n",
       " 'Wolverhampton Wanderers',\n",
       " 'Leicester',\n",
       " 'West Bromwich Albion',\n",
       " 'Manchester City',\n",
       " 'Newcastle United',\n",
       " 'Sheffield United']"
      ]
     },
     "execution_count": 362,
     "metadata": {},
     "output_type": "execute_result"
    }
   ],
   "source": [
    "[team for team in df.team.unique() if team not in team_level.team.unique()]"
   ]
  },
  {
   "cell_type": "code",
   "execution_count": null,
   "metadata": {},
   "outputs": [],
   "source": []
  }
 ],
 "metadata": {
  "kernelspec": {
   "display_name": "Python 3",
   "language": "python",
   "name": "python3"
  },
  "language_info": {
   "codemirror_mode": {
    "name": "ipython",
    "version": 3
   },
   "file_extension": ".py",
   "mimetype": "text/x-python",
   "name": "python",
   "nbconvert_exporter": "python",
   "pygments_lexer": "ipython3",
   "version": "3.8.3"
  }
 },
 "nbformat": 4,
 "nbformat_minor": 4
}
