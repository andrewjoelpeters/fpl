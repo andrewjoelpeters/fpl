{
 "cells": [
  {
   "cell_type": "code",
   "execution_count": 255,
   "metadata": {},
   "outputs": [],
   "source": [
    "import pandas as pd\n",
    "import numpy as np\n",
    "from tqdm import tqdm\n",
    "import re\n",
    "from IPython.display import IFrame\n",
    "from IPython.display import display"
   ]
  },
  {
   "cell_type": "code",
   "execution_count": 256,
   "metadata": {},
   "outputs": [],
   "source": [
    "pd.set_option('display.max_rows', 500)\n",
    "pd.set_option('display.max_columns', 500)\n",
    "pd.set_option('display.width', 150)\n",
    "%matplotlib inline"
   ]
  },
  {
   "cell_type": "code",
   "execution_count": 257,
   "metadata": {},
   "outputs": [],
   "source": [
    "df = pd.read_pickle('/Users/andrewpeters/GitHub/fpl/data/interim/df.pkl')"
   ]
  },
  {
   "cell_type": "code",
   "execution_count": 258,
   "metadata": {},
   "outputs": [],
   "source": [
    "xg_df = pd.read_pickle('/Users/andrewpeters/GitHub/understat/match_level_player_stats.pkl')"
   ]
  },
  {
   "cell_type": "code",
   "execution_count": 261,
   "metadata": {},
   "outputs": [],
   "source": [
    "fpl_replace_dict = {}"
   ]
  },
  {
   "cell_type": "code",
   "execution_count": 262,
   "metadata": {},
   "outputs": [],
   "source": [
    "fpl_replace_dict['Bojan_Krkic'] = 'Bojan_Krkic Perez'\n",
    "fpl_replace_dict['Ahmed El-Sayed_Hegazy'] = 'Ahmed El-Sayed_Hegazi'"
   ]
  },
  {
   "cell_type": "code",
   "execution_count": 263,
   "metadata": {},
   "outputs": [],
   "source": [
    "#look at players from understat who are not showing up in the fpl data. Don't want to look at symmetric difference, because understat only has data for people who played\n",
    "\n",
    "unmatched_names = [player for player in xg_df.player.unique() if player not in df.player.unique()]"
   ]
  },
  {
   "cell_type": "code",
   "execution_count": 264,
   "metadata": {},
   "outputs": [
    {
     "name": "stdout",
     "output_type": "stream",
     "text": [
      "searched for Richarlison, and found Richarlison_de Andrade as a replacement\n",
      "searched for Nyom, and found Allan-Roméo_Nyom as a replacement\n",
      "searched for Oriol_Romeu, and found Oriol_Romeu Vidal as a replacement\n",
      "searched for David_Luiz, and found David_Luiz Moreira Marinho as a replacement\n",
      "searched for Ederson, and found Ederson_Santana de Moraes as a replacement\n",
      "searched for Danilo, and found Danilo Luiz_da Silva as a replacement\n",
      "searched for Jesús_Gámez, and found Jesús_Gámez Duarte as a replacement\n",
      "searched for Yaya_Touré, and found Gnegneri Yaya_Touré as a replacement\n",
      "searched for Fousseni_Diabate, and found Fousseni_Diabaté as a replacement\n",
      "searched for Kenedy, and found Robert Kenedy_Nunes do Nascimento as a replacement\n",
      "searched for Kepa, and found Kepa_Arrizabalaga as a replacement\n",
      "searched for Fabri, and found Fabricio_Agosto Ramírez as a replacement\n",
      "searched for Junior_Hoilett, and found David Junior_Hoilett as a replacement\n",
      "searched for Jonny, and found Jonny_Evans as a replacement\n",
      "searched for Alisson, and found Alisson_Ramses Becker as a replacement\n",
      "searched for Sokratis, and found Sokratis_Papastathopoulos as a replacement\n",
      "searched for Jazz_Richards, and found Ashley Darel Jazz_Richards as a replacement\n",
      "searched for Greg_Cunningham, and found Greg_Cunninghamm as a replacement\n",
      "searched for Diogo_Dalot, and found José Diogo_Dalot Teixeira as a replacement\n",
      "searched for Pablo_Hernández, and found Pablo_Hernández Domínguez as a replacement\n",
      "searched for Joelinton, and found Joelinton Cássio_Apolinário de Lira as a replacement\n",
      "searched for Thiago_Alcántara, and found Thiago_Alcántara do Nascimento as a replacement\n",
      "searched for Emiliano_Martinez, and found Damian Emiliano_Martinez as a replacement\n"
     ]
    }
   ],
   "source": [
    "name_replace_dict = {}\n",
    "no_results = []\n",
    "multi_results = {}\n",
    "\n",
    "mylist = df.player.unique()\n",
    "\n",
    "for name in unmatched_names:\n",
    "    r = re.compile(f'.*{name}*')\n",
    "    results = list(filter(r.match, mylist))\n",
    "    if len(results) == 1:\n",
    "        name_replace_dict[name] = results[0]\n",
    "        print(f'searched for {name}, and found {results[0]} as a replacement')\n",
    "    elif len(results) > 1:\n",
    "        multi_results[name] = results\n",
    "    else:\n",
    "        no_results.append(name)"
   ]
  },
  {
   "cell_type": "code",
   "execution_count": 265,
   "metadata": {},
   "outputs": [
    {
     "name": "stdout",
     "output_type": "stream",
     "text": [
      "searched for Femenía, and found Francisco_Femenía Far as a replacement\n",
      "searched for Kanté, and found N'Golo_Kanté as a replacement\n",
      "searched for Gudmundsson, and found Johann Berg_Gudmundsson as a replacement\n",
      "searched for Aanholt, and found Patrick_van Aanholt as a replacement\n",
      "searched for Diouf, and found Mame Biram_Diouf as a replacement\n",
      "searched for Choupo-Moting, and found Eric Maxim_Choupo-Moting as a replacement\n",
      "searched for Bruyne, and found Kevin_De Bruyne as a replacement\n",
      "searched for Heung-Min, and found Heung-Min_Son as a replacement\n",
      "searched for Chung-yong, and found Chung-yong_Lee as a replacement\n",
      "searched for Hoorn, and found Mike_van der Hoorn as a replacement\n",
      "searched for Dijk, and found Virgil_van Dijk as a replacement\n",
      "searched for Chilwell, and found Benjamin_Chilwell as a replacement\n",
      "searched for Ladapo, and found Olayinka Fredrick Oladotun_Ladapo as a replacement\n",
      "searched for Sung-yueng, and found Sung-yueng_Ki as a replacement\n",
      "searched for Mário, and found João Mário_Naval Costa Eduardo as a replacement\n",
      "searched for Moura, and found Lucas_Rodrigues Moura da Silva as a replacement\n",
      "searched for Nketiah, and found Edward_Nketiah as a replacement\n",
      "searched for Marchand, and found Maxime_Le Marchand as a replacement\n",
      "searched for Patrício, and found Rui Pedro_dos Santos Patrício as a replacement\n",
      "searched for Moutinho, and found João Filipe Iria_Santos Moutinho as a replacement\n",
      "searched for Vinagre, and found Rúben Gonçalo_Silva Nascimento Vinagre as a replacement\n",
      "searched for Zambo, and found André-Frank_Zambo Anguissa as a replacement\n",
      "searched for Stankovic, and found Jon Gorenc_Stankovic as a replacement\n",
      "searched for Söyüncü, and found Çaglar_Söyüncü as a replacement\n",
      "searched for Ceballos, and found Daniel_Ceballos Fernández as a replacement\n",
      "searched for Podence, and found Daniel_Castelo Podence as a replacement\n",
      "searched for Neto, and found Pedro_Lomba Neto as a replacement\n",
      "searched for Beek, and found Donny_van de Beek as a replacement\n",
      "searched for Celso, and found Giovani_Lo Celso as a replacement\n",
      "searched for Poveda-Ocampo, and found Ian Carlo_Poveda-Ocampo as a replacement\n",
      "searched for Semedo, and found Nélson_Cabral Semedo as a replacement\n",
      "searched for Cancelo, and found João Pedro Cavaco_Cancelo as a replacement\n",
      "searched for Allister, and found Alexis_Mac Allister as a replacement\n",
      "searched for Nouri, and found Rayan_Ait Nouri as a replacement\n",
      "searched for Benrahma, and found Saïd_Benrahma as a replacement\n",
      "searched for Vinicius, and found Carlos Vinicius_Alves Morais as a replacement\n",
      "searched for Ghazi, and found Anwar_El Ghazi as a replacement\n",
      "searched for Telles, and found Alex Nicolao_Telles as a replacement\n",
      "searched for Martinelli, and found Gabriel Teodoro_Martinelli Silva as a replacement\n",
      "searched for Casilla, and found Francisco_Casilla Cortés as a replacement\n",
      "searched for Rúnarsson, and found Rúnar Alex_Rúnarsson as a replacement\n"
     ]
    }
   ],
   "source": [
    "mylist = df.player.unique()\n",
    "\n",
    "still_no_results = []\n",
    "\n",
    "for full_name in no_results:\n",
    "    name = full_name.split('_')[-1]\n",
    "    r = re.compile(f'.*{name}*')\n",
    "    results = list(filter(r.match, mylist))\n",
    "    if len(results) == 1:\n",
    "        name_replace_dict[full_name] = results[0]\n",
    "        print(f'searched for {name}, and found {results[0]} as a replacement')\n",
    "    elif len(results) > 1:\n",
    "        multi_results[full_name] = results\n",
    "    else:\n",
    "        still_no_results.append(name)"
   ]
  },
  {
   "cell_type": "code",
   "execution_count": 266,
   "metadata": {},
   "outputs": [
    {
     "data": {
      "text/plain": [
       "17"
      ]
     },
     "execution_count": 266,
     "metadata": {},
     "output_type": "execute_result"
    }
   ],
   "source": [
    "len(still_no_results)"
   ]
  },
  {
   "cell_type": "code",
   "execution_count": 267,
   "metadata": {},
   "outputs": [
    {
     "data": {
      "text/plain": [
       "44"
      ]
     },
     "execution_count": 267,
     "metadata": {},
     "output_type": "execute_result"
    }
   ],
   "source": [
    "len(multi_results)"
   ]
  },
  {
   "cell_type": "code",
   "execution_count": 269,
   "metadata": {},
   "outputs": [
    {
     "name": "stdout",
     "output_type": "stream",
     "text": [
      "Willian, Arsenal\n",
      "0: William_Saliba\n",
      "1: Willian_Borges Da Silva\n",
      "2: Neco_Williams\n",
      "3: Rhys_Williams\n",
      "4: Brandon_Williams\n",
      "5: William_Smallbone\n",
      "6: Willian José_Da Silva\n",
      "7: Ashley_Williams\n",
      "8: Jonathan_Williams\n",
      "9: Joe_Williams\n",
      "10: Danny_Williams\n"
     ]
    },
    {
     "name": "stdin",
     "output_type": "stream",
     "text": [
      "Index of Correct Match:  1\n"
     ]
    },
    {
     "name": "stdout",
     "output_type": "stream",
     "text": [
      "Added Willian as Willian_Borges Da Silva \n",
      "\n",
      "Bojan, Everton\n",
      "0: Bojan_Krkic\n",
      "1: Bojan_Krkic Perez\n"
     ]
    },
    {
     "name": "stdin",
     "output_type": "stream",
     "text": [
      "Index of Correct Match:  1\n"
     ]
    },
    {
     "name": "stdout",
     "output_type": "stream",
     "text": [
      "Added Bojan as Bojan_Krkic Perez \n",
      "\n",
      "Bruno, Brighton\n",
      "0: Bruno Miguel_Borges Fernandes\n",
      "1: Zak_Brunt\n",
      "2: Bruno André_Cavaco Jordao\n",
      "3: Chris_Brunt\n",
      "4: Bruno_Martins Indi\n",
      "5: Bruno_Saltor Grau\n",
      "6: Bruno_Ecuele Manga\n"
     ]
    },
    {
     "name": "stdin",
     "output_type": "stream",
     "text": [
      "Index of Correct Match:  0\n"
     ]
    },
    {
     "name": "stdout",
     "output_type": "stream",
     "text": [
      "Added Bruno as Bruno Miguel_Borges Fernandes \n",
      "\n",
      "Jesé, Stoke\n",
      "0: Gabriel Fernando_de Jesus\n",
      "1: Jesse_Lingard\n",
      "2: Jesús_Navas\n",
      "3: Jesús_Gámez Duarte\n",
      "4: Jesé_Rodríguez Ruiz\n",
      "5: Jesús_Vallejo Lázaro\n",
      "6: João Pedro_Junqueira de Jesus\n"
     ]
    },
    {
     "name": "stdin",
     "output_type": "stream",
     "text": [
      "Index of Correct Match:  4\n"
     ]
    },
    {
     "name": "stdout",
     "output_type": "stream",
     "text": [
      "Added Jesé as Jesé_Rodríguez Ruiz \n",
      "\n",
      "Pedro, Chelsea\n",
      "0: João Pedro Cavaco_Cancelo\n",
      "1: Rui Pedro_dos Santos Patrício\n",
      "2: Pedro_Lomba Neto\n",
      "3: Pedro_Chirivella\n",
      "4: Pedro_Obiang\n",
      "5: Pedro_Rodríguez Ledesma\n",
      "6: Rui Pedro_da Rocha Fonte\n",
      "7: João Pedro_Junqueira de Jesus\n"
     ]
    },
    {
     "name": "stdin",
     "output_type": "stream",
     "text": [
      "Index of Correct Match:  5\n"
     ]
    },
    {
     "name": "stdout",
     "output_type": "stream",
     "text": [
      "Added Pedro as Pedro_Rodríguez Ledesma \n",
      "\n",
      "Adrián, West Ham\n",
      "0: Adrián_San Miguel del Castillo\n",
      "1: Adrián_Bernabé\n"
     ]
    },
    {
     "name": "stdin",
     "output_type": "stream",
     "text": [
      "Index of Correct Match:  0\n"
     ]
    },
    {
     "name": "stdout",
     "output_type": "stream",
     "text": [
      "Added Adrián as Adrián_San Miguel del Castillo \n",
      "\n",
      "Emerson, Chelsea\n",
      "0: Emerson_Palmieri dos Santos\n",
      "1: Emerson_Hyndman\n"
     ]
    },
    {
     "name": "stdin",
     "output_type": "stream",
     "text": [
      "Index of Correct Match:  0\n"
     ]
    },
    {
     "name": "stdout",
     "output_type": "stream",
     "text": [
      "Added Emerson as Emerson_Palmieri dos Santos \n",
      "\n",
      "Fred, Manchester United\n",
      "0: Jorge Luiz_Frello Filho\n",
      "1: Frederico_Rodrigues de Paula Santos\n",
      "2: Luke_Freeman\n",
      "3: Ryan_Fredericks\n",
      "4: Frederik_Alves\n",
      "5: Fredrik_Ulvestad\n",
      "6: Olayinka Fredrick Oladotun_Ladapo\n",
      "7: Freddie_Woodman\n",
      "8: Frederick_Woodman\n",
      "9: Kieron_Freeman\n"
     ]
    },
    {
     "name": "stdin",
     "output_type": "stream",
     "text": [
      "Index of Correct Match:  1\n"
     ]
    },
    {
     "name": "stdout",
     "output_type": "stream",
     "text": [
      "Added Fred as Frederico_Rodrigues de Paula Santos \n",
      "\n",
      "Bernardo, Brighton\n",
      "0: Bernardo_Fernandes da Silva Junior\n",
      "1: Bernard_Anício Caldeira Duarte\n",
      "2: Bernardo Mota_Veiga de Carvalho e Silva\n",
      "3: Bernardo_Espinosa Zúñiga\n",
      "4: Bernard_Ashley-Seal\n",
      "5: Bernardo_Costa Da Rosa\n"
     ]
    },
    {
     "name": "stdin",
     "output_type": "stream",
     "text": [
      "Index of Correct Match:  0\n"
     ]
    },
    {
     "name": "stdout",
     "output_type": "stream",
     "text": [
      "Added Bernardo as Bernardo_Fernandes da Silva Junior \n",
      "\n",
      "Bernard, Everton\n",
      "0: Bernardo_Fernandes da Silva Junior\n",
      "1: Bernard_Anício Caldeira Duarte\n",
      "2: Bernardo Mota_Veiga de Carvalho e Silva\n",
      "3: Bernardo_Espinosa Zúñiga\n",
      "4: Bernard_Ashley-Seal\n",
      "5: Bernardo_Costa Da Rosa\n"
     ]
    },
    {
     "name": "stdin",
     "output_type": "stream",
     "text": [
      "Index of Correct Match:  1\n"
     ]
    },
    {
     "name": "stdout",
     "output_type": "stream",
     "text": [
      "Added Bernard as Bernard_Anício Caldeira Duarte \n",
      "\n",
      "Gabriel, Arsenal\n",
      "0: Gabriel Teodoro_Martinelli Silva\n",
      "1: Gabriel_Magalhães\n",
      "2: Gabriel Fernando_de Jesus\n",
      "3: Gabriel Armando_de Abreu\n"
     ]
    },
    {
     "name": "stdin",
     "output_type": "stream",
     "text": [
      "Index of Correct Match:  1\n"
     ]
    },
    {
     "name": "stdout",
     "output_type": "stream",
     "text": [
      "Added Gabriel as Gabriel_Magalhães \n",
      "\n",
      "Rodrigo, Leeds\n",
      "0: Jay_Rodriguez\n",
      "1: Rodrigo_Moreno\n",
      "2: Rodrigo_Hernandez\n",
      "3: Frederico_Rodrigues de Paula Santos\n",
      "4: Lucas_Rodrigues Moura da Silva\n"
     ]
    },
    {
     "name": "stdin",
     "output_type": "stream",
     "text": [
      "Index of Correct Match:  g\n"
     ]
    },
    {
     "data": {
      "text/html": [
       "\n",
       "        <iframe\n",
       "            width=\"100%\"\n",
       "            height=\"300\"\n",
       "            src=\"https://www.google.com/search?igu=1&ei=&q=Rodrigo+epl+Leeds\"\n",
       "            frameborder=\"0\"\n",
       "            allowfullscreen\n",
       "        ></iframe>\n",
       "        "
      ],
      "text/plain": [
       "<IPython.lib.display.IFrame at 0x7f8f73a9efa0>"
      ]
     },
     "metadata": {},
     "output_type": "display_data"
    },
    {
     "name": "stdin",
     "output_type": "stream",
     "text": [
      "Index of Correct Match:  1\n"
     ]
    },
    {
     "name": "stdout",
     "output_type": "stream",
     "text": [
      "Added Rodrigo as Rodrigo_Moreno \n",
      "\n",
      "Allan, Everton\n",
      "0: Allan_Marques Loureiro\n",
      "1: Allan_Saint-Maximin\n",
      "2: Allan_Tchaptchet\n",
      "3: Allan-Roméo_Nyom\n",
      "4: Allan_McGregor\n",
      "5: Thomas_Allan\n"
     ]
    },
    {
     "name": "stdin",
     "output_type": "stream",
     "text": [
      "Index of Correct Match:  g\n"
     ]
    },
    {
     "data": {
      "text/html": [
       "\n",
       "        <iframe\n",
       "            width=\"100%\"\n",
       "            height=\"300\"\n",
       "            src=\"https://www.google.com/search?igu=1&ei=&q=Allan+epl+Everton\"\n",
       "            frameborder=\"0\"\n",
       "            allowfullscreen\n",
       "        ></iframe>\n",
       "        "
      ],
      "text/plain": [
       "<IPython.lib.display.IFrame at 0x7f8f6bf071f0>"
      ]
     },
     "metadata": {},
     "output_type": "display_data"
    },
    {
     "name": "stdin",
     "output_type": "stream",
     "text": [
      "Index of Correct Match:  0\n"
     ]
    },
    {
     "name": "stdout",
     "output_type": "stream",
     "text": [
      "Added Allan as Allan_Marques Loureiro \n",
      "\n",
      "Rodri, Manchester City\n",
      "0: Jay_Rodriguez\n",
      "1: James_Rodríguez\n",
      "2: Rodrigo_Moreno\n",
      "3: Rodrigo_Hernandez\n",
      "4: Frederico_Rodrigues de Paula Santos\n",
      "5: Lucas_Rodrigues Moura da Silva\n",
      "6: Pedro_Rodríguez Ledesma\n",
      "7: Jesé_Rodríguez Ruiz\n"
     ]
    },
    {
     "name": "stdin",
     "output_type": "stream",
     "text": [
      "Index of Correct Match:  g\n"
     ]
    },
    {
     "data": {
      "text/html": [
       "\n",
       "        <iframe\n",
       "            width=\"100%\"\n",
       "            height=\"300\"\n",
       "            src=\"https://www.google.com/search?igu=1&ei=&q=Rodri+epl+Manchester City\"\n",
       "            frameborder=\"0\"\n",
       "            allowfullscreen\n",
       "        ></iframe>\n",
       "        "
      ],
      "text/plain": [
       "<IPython.lib.display.IFrame at 0x7f8f6bf071f0>"
      ]
     },
     "metadata": {},
     "output_type": "display_data"
    },
    {
     "name": "stdin",
     "output_type": "stream",
     "text": [
      "Index of Correct Match:  3\n"
     ]
    },
    {
     "name": "stdout",
     "output_type": "stream",
     "text": [
      "Added Rodri as Rodrigo_Hernandez \n",
      "\n",
      "Ahmed_Hegazy, West Bromwich Albion\n",
      "0: Ahmed El-Sayed_Hegazy\n",
      "1: Ahmed El-Sayed_Hegazi\n"
     ]
    },
    {
     "name": "stdin",
     "output_type": "stream",
     "text": [
      "Index of Correct Match:  g\n"
     ]
    },
    {
     "data": {
      "text/html": [
       "\n",
       "        <iframe\n",
       "            width=\"100%\"\n",
       "            height=\"300\"\n",
       "            src=\"https://www.google.com/search?igu=1&ei=&q=Ahmed_Hegazy+epl+West Bromwich Albion\"\n",
       "            frameborder=\"0\"\n",
       "            allowfullscreen\n",
       "        ></iframe>\n",
       "        "
      ],
      "text/plain": [
       "<IPython.lib.display.IFrame at 0x7f8f6bde2ac0>"
      ]
     },
     "metadata": {},
     "output_type": "display_data"
    },
    {
     "name": "stdin",
     "output_type": "stream",
     "text": [
      "Index of Correct Match:  1\n"
     ]
    },
    {
     "name": "stdout",
     "output_type": "stream",
     "text": [
      "Added Ahmed_Hegazy as Ahmed El-Sayed_Hegazi \n",
      "\n",
      "Rajiv_van_La_Parra, Leicester\n",
      "0: Rajiv_van La Parra\n",
      "1: Troy_Parrott\n"
     ]
    },
    {
     "name": "stdin",
     "output_type": "stream",
     "text": [
      "Index of Correct Match:  0\n"
     ]
    },
    {
     "name": "stdout",
     "output_type": "stream",
     "text": [
      "Added Rajiv_van_La_Parra as Rajiv_van La Parra \n",
      "\n",
      "Mat_Ryan, Brighton\n",
      "0: Mathew_Ryan\n",
      "1: Ryan_Inniss\n",
      "2: Ryan_Fraser\n",
      "3: Ryan_Bertrand\n",
      "4: Ryan_Sessegnon\n",
      "5: Ryan_Fredericks\n",
      "6: Ryan_Bennett\n",
      "7: Ryan_Finnigan\n",
      "8: Ryan_Mason\n",
      "9: Ryan_Shawcross\n",
      "10: Ryan_Allsop\n",
      "11: Ryan_Schofield\n",
      "12: Ryan John_Giles\n",
      "13: Ryan_Babel\n",
      "14: Ryan_Giles\n"
     ]
    },
    {
     "name": "stdin",
     "output_type": "stream",
     "text": [
      "Index of Correct Match:  0\n"
     ]
    },
    {
     "name": "stdout",
     "output_type": "stream",
     "text": [
      "Added Mat_Ryan as Mathew_Ryan \n",
      "\n",
      "Solly_March, Brighton\n",
      "0: Solomon_March\n",
      "1: Marcos_Alonso\n",
      "2: Marc_Albrighton\n",
      "3: Marcos_Rojo\n",
      "4: Marcus_Rashford\n",
      "5: Maxime_Le Marchand\n",
      "6: Marcus_Bettinelli\n",
      "7: Marcin_Wasilewski\n",
      "8: Marco_Van Ginkel\n",
      "9: Marc_Muniesa\n",
      "10: Marc_Pugh\n",
      "11: Marc_Wilson\n",
      "12: Marcus_Browne\n",
      "13: Marc_Navarro\n",
      "14: Addji Keaninkin Marc-Israel_Guehi\n",
      "15: Marco_Stiepermann\n"
     ]
    },
    {
     "name": "stdin",
     "output_type": "stream",
     "text": [
      "Index of Correct Match:  0\n"
     ]
    },
    {
     "name": "stdout",
     "output_type": "stream",
     "text": [
      "Added Solly_March as Solomon_March \n",
      "\n",
      "Gabriel_Jesus, Manchester City\n",
      "0: Gabriel Fernando_de Jesus\n",
      "1: João Pedro_Junqueira de Jesus\n"
     ]
    },
    {
     "name": "stdin",
     "output_type": "stream",
     "text": [
      "Index of Correct Match:  0\n"
     ]
    },
    {
     "name": "stdout",
     "output_type": "stream",
     "text": [
      "Added Gabriel_Jesus as Gabriel Fernando_de Jesus \n",
      "\n",
      "Bernardo_Silva, Manchester City\n",
      "0: Gabriel Teodoro_Martinelli Silva\n",
      "1: Willian_Borges Da Silva\n",
      "2: Bernardo_Fernandes da Silva Junior\n",
      "3: Adrien_Silva\n",
      "4: Bernardo Mota_Veiga de Carvalho e Silva\n",
      "5: Lucas_Rodrigues Moura da Silva\n",
      "6: Rúben Diogo_da Silva Neves\n",
      "7: Rúben Gonçalo_Silva Nascimento Vinagre\n",
      "8: Fabio_Silva\n",
      "9: Willian José_Da Silva\n",
      "10: David_Silva\n",
      "11: Diego_Da Silva Costa\n",
      "12: Fabio Pereira_da Silva\n",
      "13: Danilo Luiz_da Silva\n",
      "14: Adrien Sebastian_Perruchet Silva\n",
      "15: Alexandre Nascimento_Costa Silva\n",
      "16: Heurelho da Silva_Gomes\n"
     ]
    },
    {
     "name": "stdin",
     "output_type": "stream",
     "text": [
      "Index of Correct Match:  g\n"
     ]
    },
    {
     "data": {
      "text/html": [
       "\n",
       "        <iframe\n",
       "            width=\"100%\"\n",
       "            height=\"300\"\n",
       "            src=\"https://www.google.com/search?igu=1&ei=&q=Bernardo_Silva+epl+Manchester City\"\n",
       "            frameborder=\"0\"\n",
       "            allowfullscreen\n",
       "        ></iframe>\n",
       "        "
      ],
      "text/plain": [
       "<IPython.lib.display.IFrame at 0x7f8f73a9efa0>"
      ]
     },
     "metadata": {},
     "output_type": "display_data"
    },
    {
     "name": "stdin",
     "output_type": "stream",
     "text": [
      "Index of Correct Match:  4\n"
     ]
    },
    {
     "name": "stdout",
     "output_type": "stream",
     "text": [
      "Added Bernardo_Silva as Bernardo Mota_Veiga de Carvalho e Silva \n",
      "\n",
      "Dele_Alli, Tottenham\n",
      "0: Alexis_Mac Allister\n",
      "1: Allan_Marques Loureiro\n",
      "2: Allan_Saint-Maximin\n",
      "3: Bamidele_Alli\n",
      "4: Allan_Tchaptchet\n",
      "5: Allan-Roméo_Nyom\n",
      "6: Allan_McGregor\n",
      "7: Joe_Allen\n",
      "8: Ryan_Allsop\n",
      "9: Thomas_Allan\n"
     ]
    },
    {
     "name": "stdin",
     "output_type": "stream",
     "text": [
      "Index of Correct Match:  g\n"
     ]
    },
    {
     "data": {
      "text/html": [
       "\n",
       "        <iframe\n",
       "            width=\"100%\"\n",
       "            height=\"300\"\n",
       "            src=\"https://www.google.com/search?igu=1&ei=&q=Dele_Alli+epl+Tottenham\"\n",
       "            frameborder=\"0\"\n",
       "            allowfullscreen\n",
       "        ></iframe>\n",
       "        "
      ],
      "text/plain": [
       "<IPython.lib.display.IFrame at 0x7f8f58922820>"
      ]
     },
     "metadata": {},
     "output_type": "display_data"
    },
    {
     "name": "stdin",
     "output_type": "stream",
     "text": [
      "Index of Correct Match:  3\n"
     ]
    },
    {
     "name": "stdout",
     "output_type": "stream",
     "text": [
      "Added Dele_Alli as Bamidele_Alli \n",
      "\n",
      "David_de_Gea, Manchester United\n",
      "0: Georginio_Wijnaldum\n",
      "1: David_de Gea\n",
      "2: George_Baldock\n",
      "3: Gedson_Carvalho Fernandes\n",
      "4: Joe_Gelhardt\n",
      "5: Geoff_Cameron\n",
      "6: George_Boyd\n",
      "7: George_Friend\n",
      "8: Gerard_Deulofeu\n",
      "9: Luke_McGee\n",
      "10: Georges-Kévin_Nkoudou\n",
      "11: George_Honeyman\n",
      "12: Rudy_Gestede\n",
      "13: Gerhard_Tremmel\n",
      "14: George_Thomas\n",
      "15: George_Marsh\n",
      "16: George_Hirst\n"
     ]
    },
    {
     "name": "stdin",
     "output_type": "stream",
     "text": [
      "Index of Correct Match:  1\n"
     ]
    },
    {
     "name": "stdout",
     "output_type": "stream",
     "text": [
      "Added David_de_Gea as David_de Gea \n",
      "\n",
      "José_Fonte, West Ham\n",
      "0: Jose_Fonte\n",
      "1: Rui Pedro_da Rocha Fonte\n"
     ]
    },
    {
     "name": "stdin",
     "output_type": "stream",
     "text": [
      "Index of Correct Match:  0\n"
     ]
    },
    {
     "name": "stdout",
     "output_type": "stream",
     "text": [
      "Added José_Fonte as Jose_Fonte \n",
      "\n",
      "Bruno_Martins_Indi, Stoke\n",
      "0: Indiana_Vassilev\n",
      "1: Bruno_Martins Indi\n"
     ]
    },
    {
     "name": "stdin",
     "output_type": "stream",
     "text": [
      "Index of Correct Match:  1\n"
     ]
    },
    {
     "name": "stdout",
     "output_type": "stream",
     "text": [
      "Added Bruno_Martins_Indi as Bruno_Martins Indi \n",
      "\n",
      "Badou_Ndiaye, Stoke\n",
      "0: Iliman_Ndiaye\n",
      "1: Papa Alioune_Ndiaye\n"
     ]
    },
    {
     "name": "stdin",
     "output_type": "stream",
     "text": [
      "Index of Correct Match:  g\n"
     ]
    },
    {
     "data": {
      "text/html": [
       "\n",
       "        <iframe\n",
       "            width=\"100%\"\n",
       "            height=\"300\"\n",
       "            src=\"https://www.google.com/search?igu=1&ei=&q=Badou_Ndiaye+epl+Stoke\"\n",
       "            frameborder=\"0\"\n",
       "            allowfullscreen\n",
       "        ></iframe>\n",
       "        "
      ],
      "text/plain": [
       "<IPython.lib.display.IFrame at 0x7f8f73a9efa0>"
      ]
     },
     "metadata": {},
     "output_type": "display_data"
    },
    {
     "name": "stdin",
     "output_type": "stream",
     "text": [
      "Index of Correct Match:  1\n"
     ]
    },
    {
     "name": "stdout",
     "output_type": "stream",
     "text": [
      "Added Badou_Ndiaye as Papa Alioune_Ndiaye \n",
      "\n",
      "Ramiro_Funes_Mori, Everton\n",
      "0: David_Luiz Moreira Marinho\n",
      "1: Wesley_Moraes\n",
      "2: Wes_Morgan\n",
      "3: Rodrigo_Moreno\n",
      "4: Ederson_Santana de Moraes\n",
      "5: Carlos Vinicius_Alves Morais\n",
      "6: Morgan_Gibbs-White\n",
      "7: Morgan_Sanson\n",
      "8: Alberto_Moreno\n",
      "9: James_Morrison\n",
      "10: Morgan_Schneiderlin\n",
      "11: Ramiro_Funes Mori\n",
      "12: Álvaro_Morata\n",
      "13: Moritz_Bauer\n",
      "14: Sean_Morrison\n",
      "15: Abd-Al-Ali Morakinyo Olaposi_Koiki\n",
      "16: Moritz_Leitner\n",
      "17: Ravel_Morrison\n"
     ]
    },
    {
     "name": "stdin",
     "output_type": "stream",
     "text": [
      "Index of Correct Match:  11\n"
     ]
    },
    {
     "name": "stdout",
     "output_type": "stream",
     "text": [
      "Added Ramiro_Funes_Mori as Ramiro_Funes Mori \n",
      "\n",
      "Joe_Willock, West Bromwich Albion\n",
      "0: Joseph_Willock\n",
      "1: Matthew_Willock\n"
     ]
    },
    {
     "name": "stdin",
     "output_type": "stream",
     "text": [
      "Index of Correct Match:  0\n"
     ]
    },
    {
     "name": "stdout",
     "output_type": "stream",
     "text": [
      "Added Joe_Willock as Joseph_Willock \n",
      "\n",
      "Ricardo_Pereira, Leicester\n",
      "0: Ricardo Domingos_Barbosa Pereira\n",
      "1: Andreas_Pereira\n",
      "2: Matheus_Pereira\n",
      "3: Felipe Anderson_Pereira Gomes\n",
      "4: Fabio Pereira_da Silva\n",
      "5: Dion_Pereira\n",
      "6: Joel Dinis_Castro Pereira\n"
     ]
    },
    {
     "name": "stdin",
     "output_type": "stream",
     "text": [
      "Index of Correct Match:  0\n"
     ]
    },
    {
     "name": "stdout",
     "output_type": "stream",
     "text": [
      "Added Ricardo_Pereira as Ricardo Domingos_Barbosa Pereira \n",
      "\n",
      "Jean_Michael_Seri, Bournemouth\n",
      "0: Sergio_Agüero\n",
      "1: Sergio_Romero\n",
      "2: Serge_Aurier\n",
      "3: Sergio_Reguilón\n",
      "4: Jean Michaël_Seri\n",
      "5: Serge_Gnabry\n",
      "6: Aleix_García Serrano\n",
      "7: Jean Michael_Seri\n",
      "8: Sergio_Rico\n"
     ]
    },
    {
     "name": "stdin",
     "output_type": "stream",
     "text": [
      "Index of Correct Match:  4\n"
     ]
    },
    {
     "name": "stdout",
     "output_type": "stream",
     "text": [
      "Added Jean_Michael_Seri as Jean Michaël_Seri \n",
      "\n",
      "Bruno_Ecuele_Manga, Manchester United\n",
      "0: Eliaquim_Mangala\n",
      "1: Bruno_Ecuele Manga\n"
     ]
    },
    {
     "name": "stdin",
     "output_type": "stream",
     "text": [
      "Index of Correct Match:  1\n"
     ]
    },
    {
     "name": "stdout",
     "output_type": "stream",
     "text": [
      "Added Bruno_Ecuele_Manga as Bruno_Ecuele Manga \n",
      "\n",
      "Rúben_Neves, Wolverhampton Wanderers\n",
      "0: Rúben Diogo_da Silva Neves\n",
      "1: Ivan Ricardo_Neves Abreu Cavaleiro\n",
      "2: João Manuel_Neves Virgínia\n"
     ]
    },
    {
     "name": "stdin",
     "output_type": "stream",
     "text": [
      "Index of Correct Match:  0\n"
     ]
    },
    {
     "name": "stdout",
     "output_type": "stream",
     "text": [
      "Added Rúben_Neves as Rúben Diogo_da Silva Neves \n",
      "\n",
      "Felipe_Anderson, Tottenham\n",
      "0: Elliot_Anderson\n",
      "1: Felipe Anderson_Pereira Gomes\n",
      "2: Keshi_Anderson\n"
     ]
    },
    {
     "name": "stdin",
     "output_type": "stream",
     "text": [
      "Index of Correct Match:  1\n"
     ]
    },
    {
     "name": "stdout",
     "output_type": "stream",
     "text": [
      "Added Felipe_Anderson as Felipe Anderson_Pereira Gomes \n",
      "\n",
      "André_Gomes, Everton\n",
      "0: André Filipe_Tavares Gomes\n",
      "1: Joseph_Gomez\n",
      "2: Felipe Anderson_Pereira Gomes\n",
      "3: Claudio_Gomes\n",
      "4: Heurelho_Gomes\n",
      "5: Angel_Gomes\n",
      "6: Heurelho da Silva_Gomes\n"
     ]
    },
    {
     "name": "stdin",
     "output_type": "stream",
     "text": [
      "Index of Correct Match:  0\n"
     ]
    },
    {
     "name": "stdout",
     "output_type": "stream",
     "text": [
      "Added André_Gomes as André Filipe_Tavares Gomes \n",
      "\n",
      "Xande_Silva, Burnley\n",
      "0: Gabriel Teodoro_Martinelli Silva\n",
      "1: Willian_Borges Da Silva\n",
      "2: Bernardo_Fernandes da Silva Junior\n",
      "3: Adrien_Silva\n",
      "4: Bernardo Mota_Veiga de Carvalho e Silva\n",
      "5: Lucas_Rodrigues Moura da Silva\n",
      "6: Rúben Diogo_da Silva Neves\n",
      "7: Rúben Gonçalo_Silva Nascimento Vinagre\n",
      "8: Fabio_Silva\n",
      "9: Willian José_Da Silva\n",
      "10: David_Silva\n",
      "11: Diego_Da Silva Costa\n",
      "12: Fabio Pereira_da Silva\n",
      "13: Danilo Luiz_da Silva\n",
      "14: Adrien Sebastian_Perruchet Silva\n",
      "15: Alexandre Nascimento_Costa Silva\n",
      "16: Heurelho da Silva_Gomes\n"
     ]
    },
    {
     "name": "stdin",
     "output_type": "stream",
     "text": [
      "Index of Correct Match:  g\n"
     ]
    },
    {
     "data": {
      "text/html": [
       "\n",
       "        <iframe\n",
       "            width=\"100%\"\n",
       "            height=\"300\"\n",
       "            src=\"https://www.google.com/search?igu=1&ei=&q=Xande_Silva+epl+Burnley\"\n",
       "            frameborder=\"0\"\n",
       "            allowfullscreen\n",
       "        ></iframe>\n",
       "        "
      ],
      "text/plain": [
       "<IPython.lib.display.IFrame at 0x7f8f6bf071f0>"
      ]
     },
     "metadata": {},
     "output_type": "display_data"
    },
    {
     "name": "stdin",
     "output_type": "stream",
     "text": [
      "Index of Correct Match:  15\n"
     ]
    },
    {
     "name": "stdout",
     "output_type": "stream",
     "text": [
      "Added Xande_Silva as Alexandre Nascimento_Costa Silva \n",
      "\n",
      "Matty_Daly, Huddersfield\n",
      "0: Dale_Stephens\n",
      "1: Vontae_Daley-Campbell\n",
      "2: Stuart_Dallas\n",
      "3: José Diogo_Dalot Teixeira\n",
      "4: Daley_Blind\n",
      "5: James_Daly\n",
      "6: Matthew_Daly\n"
     ]
    },
    {
     "name": "stdin",
     "output_type": "stream",
     "text": [
      "Index of Correct Match:  6\n"
     ]
    },
    {
     "name": "stdout",
     "output_type": "stream",
     "text": [
      "Added Matty_Daly as Matthew_Daly \n",
      "\n",
      "Semi_Ajayi, West Bromwich Albion\n",
      "0: Oluwasemilogo Adesewo Ibidapo_Ajayi\n",
      "1: Isaac_Success Ajayi\n"
     ]
    },
    {
     "name": "stdin",
     "output_type": "stream",
     "text": [
      "Index of Correct Match:  0\n"
     ]
    },
    {
     "name": "stdout",
     "output_type": "stream",
     "text": [
      "Added Semi_Ajayi as Oluwasemilogo Adesewo Ibidapo_Ajayi \n",
      "\n",
      "Bruno_Fernandes, Manchester United\n",
      "0: Bernardo_Fernandes da Silva Junior\n",
      "1: Bruno Miguel_Borges Fernandes\n",
      "2: Gedson_Carvalho Fernandes\n",
      "3: Edimilson_Fernandes\n"
     ]
    },
    {
     "name": "stdin",
     "output_type": "stream",
     "text": [
      "Index of Correct Match:  1\n"
     ]
    },
    {
     "name": "stdout",
     "output_type": "stream",
     "text": [
      "Added Bruno_Fernandes as Bruno Miguel_Borges Fernandes \n",
      "\n",
      "Ezri_Konsa_Ngoyo, Aston Villa\n",
      "0: Ezri_Konsa Ngoyo\n",
      "1: Julien_Ngoy\n"
     ]
    },
    {
     "name": "stdin",
     "output_type": "stream",
     "text": [
      "Index of Correct Match:  0\n"
     ]
    },
    {
     "name": "stdout",
     "output_type": "stream",
     "text": [
      "Added Ezri_Konsa_Ngoyo as Ezri_Konsa Ngoyo \n",
      "\n",
      "Douglas_Luiz, Aston Villa\n",
      "0: David_Luiz Moreira Marinho\n",
      "1: Douglas Luiz_Soares de Paulo\n",
      "2: Jorge Luiz_Frello Filho\n",
      "3: Fernando_Luiz Rosa\n",
      "4: Jose Luis_Mato Sanmartín\n",
      "5: Luis_Hernández\n",
      "6: Danilo Luiz_da Silva\n"
     ]
    },
    {
     "name": "stdin",
     "output_type": "stream",
     "text": [
      "Index of Correct Match:  1\n"
     ]
    },
    {
     "name": "stdout",
     "output_type": "stream",
     "text": [
      "Added Douglas_Luiz as Douglas Luiz_Soares de Paulo \n",
      "\n",
      "Ferrán_Torres, Manchester City\n",
      "0: Lucas_Torreira\n",
      "1: Ferran_Torres\n",
      "2: Luca_De La Torre\n"
     ]
    },
    {
     "name": "stdin",
     "output_type": "stream",
     "text": [
      "Index of Correct Match:  1\n"
     ]
    },
    {
     "name": "stdout",
     "output_type": "stream",
     "text": [
      "Added Ferrán_Torres as Ferran_Torres \n",
      "\n",
      "Thiago_Silva, Chelsea\n",
      "0: Gabriel Teodoro_Martinelli Silva\n",
      "1: Willian_Borges Da Silva\n",
      "2: Bernardo_Fernandes da Silva Junior\n",
      "3: Adrien_Silva\n",
      "4: Bernardo Mota_Veiga de Carvalho e Silva\n",
      "5: Lucas_Rodrigues Moura da Silva\n",
      "6: Rúben Diogo_da Silva Neves\n",
      "7: Rúben Gonçalo_Silva Nascimento Vinagre\n",
      "8: Fabio_Silva\n",
      "9: Willian José_Da Silva\n",
      "10: David_Silva\n",
      "11: Diego_Da Silva Costa\n",
      "12: Fabio Pereira_da Silva\n",
      "13: Danilo Luiz_da Silva\n",
      "14: Adrien Sebastian_Perruchet Silva\n",
      "15: Alexandre Nascimento_Costa Silva\n",
      "16: Heurelho da Silva_Gomes\n"
     ]
    },
    {
     "name": "stdin",
     "output_type": "stream",
     "text": [
      "Index of Correct Match:  g\n"
     ]
    },
    {
     "data": {
      "text/html": [
       "\n",
       "        <iframe\n",
       "            width=\"100%\"\n",
       "            height=\"300\"\n",
       "            src=\"https://www.google.com/search?igu=1&ei=&q=Thiago_Silva+epl+Chelsea\"\n",
       "            frameborder=\"0\"\n",
       "            allowfullscreen\n",
       "        ></iframe>\n",
       "        "
      ],
      "text/plain": [
       "<IPython.lib.display.IFrame at 0x7f8f6b43fcd0>"
      ]
     },
     "metadata": {},
     "output_type": "display_data"
    },
    {
     "name": "stdin",
     "output_type": "stream",
     "text": [
      "Index of Correct Match:  skip\n",
      "Index of Correct Match:  1\n"
     ]
    },
    {
     "name": "stdout",
     "output_type": "stream",
     "text": [
      "Added Thiago_Silva as Willian_Borges Da Silva \n",
      "\n",
      "Rúben_Dias, Manchester City\n",
      "0: Rúben Santos_Gato Alves Dias\n",
      "1: Ibrahima_Diallo\n",
      "2: Grady_Diangana\n",
      "3: Cheikh_Diaby\n",
      "4: Mbaye_Diagne\n",
      "5: Raphael_Dias Belloli\n",
      "6: Amad_Diallo\n",
      "7: Diafra_Sakho\n",
      "8: Mohamed_Diamé\n",
      "9: Alfred_N'Diaye\n",
      "10: Brahim_Diaz\n",
      "11: Fousseni_Diabaté\n",
      "12: Adama_Diakhaby\n"
     ]
    },
    {
     "name": "stdin",
     "output_type": "stream",
     "text": [
      "Index of Correct Match:  0\n"
     ]
    },
    {
     "name": "stdout",
     "output_type": "stream",
     "text": [
      "Added Rúben_Dias as Rúben Santos_Gato Alves Dias \n",
      "\n",
      "Willian_José, Wolverhampton Wanderers\n",
      "0: José Ignacio_Peleteiro Romallo\n",
      "1: José_Izquierdo\n",
      "2: Josh_Brownhill\n",
      "3: Josh_Benson\n",
      "4: Joshua_King\n",
      "5: Joseph_Gomez\n",
      "6: José Diogo_Dalot Teixeira\n",
      "7: Joseph_Willock\n",
      "8: Josh_Sims\n",
      "9: Josh_Onomah\n",
      "10: Josh_Maja\n",
      "11: Willian José_Da Silva\n",
      "12: Jose Angel_Esmoris Tasende\n",
      "13: Jose Luis_Mato Sanmartín\n",
      "14: Jose_Fonte\n",
      "15: Joshua_Onomah\n",
      "16: Josh_Clackstone\n",
      "17: Josh_Cullen\n",
      "18: Josh_Tymon\n",
      "19: José_Holebas\n",
      "20: Josh_Robson\n",
      "21: Joshua_Sims\n",
      "22: Joshua_Harrop\n",
      "23: José Heriberto_Izquierdo Mena\n",
      "24: Josh_Pask\n",
      "25: Josh_Murphy\n",
      "26: Josh_Knight\n",
      "27: Josip_Drmic\n",
      "28: José Ángel_Esmorís Tasende\n",
      "29: Joseph_Anang\n",
      "30: José_Reina\n",
      "31: Josh_Martin\n"
     ]
    },
    {
     "name": "stdin",
     "output_type": "stream",
     "text": [
      "Index of Correct Match:  11\n"
     ]
    },
    {
     "name": "stdout",
     "output_type": "stream",
     "text": [
      "Added Willian_José as Willian José_Da Silva \n",
      "\n",
      "Sidnei_Tavares, Brighton\n",
      "0: André Filipe_Tavares Gomes\n",
      "1: Fabio Henrique_Tavares\n",
      "2: Nikola_Tavares\n"
     ]
    },
    {
     "name": "stdin",
     "output_type": "stream",
     "text": [
      "Index of Correct Match:  g\n"
     ]
    },
    {
     "data": {
      "text/html": [
       "\n",
       "        <iframe\n",
       "            width=\"100%\"\n",
       "            height=\"300\"\n",
       "            src=\"https://www.google.com/search?igu=1&ei=&q=Sidnei_Tavares+epl+Brighton\"\n",
       "            frameborder=\"0\"\n",
       "            allowfullscreen\n",
       "        ></iframe>\n",
       "        "
      ],
      "text/plain": [
       "<IPython.lib.display.IFrame at 0x7f8f6b013670>"
      ]
     },
     "metadata": {},
     "output_type": "display_data"
    },
    {
     "name": "stdin",
     "output_type": "stream",
     "text": [
      "Index of Correct Match:  1\n"
     ]
    },
    {
     "name": "stdout",
     "output_type": "stream",
     "text": [
      "Added Sidnei_Tavares as Fabio Henrique_Tavares \n",
      "\n"
     ]
    }
   ],
   "source": [
    "for k,v in multi_results.items():\n",
    "    try:\n",
    "        name_replace_dict[k]\n",
    "        continue\n",
    "        #skip this player if they've already been added to the replacement dict\n",
    "    except:\n",
    "        team = xg_df[(xg_df.player == k)].tail(10)['home_team'].value_counts().index[0]\n",
    "        print(f'{k}, {team}')\n",
    "        for idx, name in enumerate(v):\n",
    "            print(f'{idx}: {name}')\n",
    "        inp = ''\n",
    "        while not inp.isdigit():\n",
    "            inp = input('Index of Correct Match: ')\n",
    "            if inp == 'exit':\n",
    "                break\n",
    "            elif inp == 'skip':\n",
    "                continue\n",
    "            elif inp == 'g':\n",
    "                query = f'https://www.google.com/search?igu=1&ei=&q={k}+epl+{team}'\n",
    "                display(IFrame(query, width='100%', height=300))\n",
    "        name_replace_dict[k] = v[int(inp)]\n",
    "        print(f'Added {k} as {v[int(inp)]} \\n')"
   ]
  },
  {
   "cell_type": "code",
   "execution_count": 270,
   "metadata": {},
   "outputs": [],
   "source": [
    "name_replace_dict['Bruno'] = 'Bruno_Saltor Grau'\n",
    "name_replace_dict['Sidnei_Tavares'] = 'Sidnei_Tavares'"
   ]
  },
  {
   "cell_type": "code",
   "execution_count": 276,
   "metadata": {},
   "outputs": [],
   "source": [
    "name_replace_dict['Thiago_Silva'] = 'Thiago_Thiago'\n"
   ]
  },
  {
   "cell_type": "code",
   "execution_count": 279,
   "metadata": {},
   "outputs": [],
   "source": [
    "xg_df.player = xg_df.player.replace(to_replace = name_replace_dict)"
   ]
  },
  {
   "cell_type": "code",
   "execution_count": 285,
   "metadata": {},
   "outputs": [
    {
     "data": {
      "text/plain": [
       "['Zanka',\n",
       " 'Fernandinho',\n",
       " 'Chicharito',\n",
       " 'Joselu',\n",
       " 'Jorginho',\n",
       " 'Romain_Saiss',\n",
       " 'Fabinho',\n",
       " 'Nicolas_Pepe',\n",
       " 'Dara_O&#039;Shea',\n",
       " 'Tanguy_NDombele_Alvaro',\n",
       " 'Jack_O&#039;Connell',\n",
       " 'Vitinha',\n",
       " 'Trézéguet',\n",
       " 'Raphinha',\n",
       " 'Daniel_N&#039;Lundulu',\n",
       " 'Martin_Odegaard',\n",
       " 'Shola_Shoretire',\n",
       " 'Sidnei_Tavares']"
      ]
     },
     "execution_count": 285,
     "metadata": {},
     "output_type": "execute_result"
    }
   ],
   "source": [
    "[player for player in xg_df.player.unique() if player not in df.player.unique()]"
   ]
  },
  {
   "cell_type": "code",
   "execution_count": 302,
   "metadata": {},
   "outputs": [],
   "source": [
    "name_replace_dict['Fernandinho'] = 'Fernando_Luiz Rosa'\n",
    "name_replace_dict['Jorginho'] = 'Jorge Luiz_Frello Filho'\n",
    "name_replace_dict['Romain_Saiss'] = 'Romain_Saïss'\n",
    "name_replace_dict['Fabinho'] = 'Fabio Henrique_Tavares'\n",
    "name_replace_dict['Nicolas_Pepe'] = 'Nicolas_Pépé'\n",
    "name_replace_dict['Tanguy_NDombele_Alvaro'] = 'Tanguy_Ndombele'\n",
    "name_replace_dict['Dara_O&#039;Shea'] = \"Dara_O'Shea\"\n",
    "name_replace_dict['Vitinha'] = 'Vitor_Ferreira'\n",
    "name_replace_dict['Trézéguet'] = 'Mahmoud Ahmed_Ibrahim Hassan'\n",
    "name_replace_dict['Raphinha'] = 'Raphael_Dias Belloli'\n",
    "name_replace_dict['Martin_Odegaard'] = 'Martin_Ødegaard'"
   ]
  },
  {
   "cell_type": "code",
   "execution_count": 303,
   "metadata": {},
   "outputs": [],
   "source": [
    "xg_df.player = xg_df.player.replace(to_replace = name_replace_dict)"
   ]
  },
  {
   "cell_type": "code",
   "execution_count": 304,
   "metadata": {},
   "outputs": [
    {
     "data": {
      "text/plain": [
       "['Zanka',\n",
       " 'Chicharito',\n",
       " 'Joselu',\n",
       " 'Jack_O&#039;Connell',\n",
       " 'Daniel_N&#039;Lundulu',\n",
       " 'Shola_Shoretire',\n",
       " 'Sidnei_Tavares']"
      ]
     },
     "execution_count": 304,
     "metadata": {},
     "output_type": "execute_result"
    }
   ],
   "source": [
    "[player for player in xg_df.player.unique() if player not in df.player.unique()]"
   ]
  },
  {
   "cell_type": "code",
   "execution_count": 259,
   "metadata": {},
   "outputs": [],
   "source": [
    "df['date'] = df.kickoff_time.dt.date"
   ]
  },
  {
   "cell_type": "code",
   "execution_count": 260,
   "metadata": {},
   "outputs": [],
   "source": [
    "xg_df['date'] = xg_df.datetime.dt.date"
   ]
  },
  {
   "cell_type": "code",
   "execution_count": 318,
   "metadata": {},
   "outputs": [],
   "source": [
    "merged = df.merge(xg_df, how = 'left', on = ['date', 'player'])"
   ]
  },
  {
   "cell_type": "code",
   "execution_count": 319,
   "metadata": {},
   "outputs": [
    {
     "data": {
      "text/plain": [
       "element              121268\n",
       "opponent_team             0\n",
       "total_points              0\n",
       "was_home                  0\n",
       "kickoff_time              0\n",
       "team_h_score              0\n",
       "team_a_score              0\n",
       "gw                        0\n",
       "minutes                   0\n",
       "goals_scored              0\n",
       "assists_x                 0\n",
       "clean_sheets              0\n",
       "goals_conceded            0\n",
       "own_goals_x               0\n",
       "penalties_saved           0\n",
       "penalties_missed          0\n",
       "yellow_cards              0\n",
       "red_cards                 0\n",
       "saves                     0\n",
       "bonus                     0\n",
       "bps                       0\n",
       "influence                 0\n",
       "creativity                0\n",
       "threat                    0\n",
       "ict_index                 0\n",
       "transfers_balance         0\n",
       "selected                  0\n",
       "transfers_in              0\n",
       "transfers_out             0\n",
       "position_x                0\n",
       "player                    0\n",
       "play_proba           102378\n",
       "team                      0\n",
       "season                    0\n",
       "finished                  0\n",
       "home                 136064\n",
       "date                      0\n",
       "id                    78208\n",
       "goals                 78208\n",
       "own_goals_y           78208\n",
       "shots                 78208\n",
       "xG                    78208\n",
       "time                  78208\n",
       "player_id             78208\n",
       "team_id               78208\n",
       "position_y            78208\n",
       "h_a                   78208\n",
       "yellow_card           78208\n",
       "red_card              78208\n",
       "roster_in             78208\n",
       "roster_out            78208\n",
       "key_passes            78208\n",
       "assists_y             78208\n",
       "xA                    78208\n",
       "xGChain               78208\n",
       "xGBuildup             78208\n",
       "positionOrder         78208\n",
       "match_id              78208\n",
       "id_match              78208\n",
       "isResult              78208\n",
       "h                     78208\n",
       "a                     78208\n",
       "goals_match           78208\n",
       "xG_match              78208\n",
       "datetime              78208\n",
       "forecast              78208\n",
       "home_team             78208\n",
       "away_team             78208\n",
       "home_xg               78208\n",
       "away_xg               78208\n",
       "xg_team               78208\n",
       "xg_opp                78208\n",
       "xg_diff               78208\n",
       "dtype: int64"
      ]
     },
     "execution_count": 319,
     "metadata": {},
     "output_type": "execute_result"
    }
   ],
   "source": [
    "merged.isna().sum()"
   ]
  },
  {
   "cell_type": "code",
   "execution_count": 314,
   "metadata": {},
   "outputs": [
    {
     "data": {
      "text/plain": [
       "105232"
      ]
     },
     "execution_count": 314,
     "metadata": {},
     "output_type": "execute_result"
    }
   ],
   "source": [
    "len(df)"
   ]
  },
  {
   "cell_type": "code",
   "execution_count": null,
   "metadata": {},
   "outputs": [],
   "source": []
  }
 ],
 "metadata": {
  "kernelspec": {
   "display_name": "Python 3",
   "language": "python",
   "name": "python3"
  },
  "language_info": {
   "codemirror_mode": {
    "name": "ipython",
    "version": 3
   },
   "file_extension": ".py",
   "mimetype": "text/x-python",
   "name": "python",
   "nbconvert_exporter": "python",
   "pygments_lexer": "ipython3",
   "version": "3.8.3"
  }
 },
 "nbformat": 4,
 "nbformat_minor": 4
}
