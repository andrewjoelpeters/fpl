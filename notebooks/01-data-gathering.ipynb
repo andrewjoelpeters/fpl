{
 "cells": [
  {
   "cell_type": "code",
   "execution_count": 168,
   "metadata": {},
   "outputs": [],
   "source": [
    "import pandas as pd\n",
    "import requests\n",
    "from tqdm import tqdm #progress bar library -- not necessary, but helpful since some of this is slower"
   ]
  },
  {
   "cell_type": "code",
   "execution_count": 169,
   "metadata": {},
   "outputs": [],
   "source": [
    "pd.set_option('display.max_rows', 500)\n",
    "pd.set_option('display.max_columns', 500)\n",
    "pd.set_option('display.width', 150)\n",
    "sns.set()\n",
    "%matplotlib inline"
   ]
  },
  {
   "cell_type": "code",
   "execution_count": 170,
   "metadata": {},
   "outputs": [],
   "source": [
    "# I spent a long time cleaning & concatenating data from different seasons until I stumbled upon this:\n",
    "# https://github.com/solpaul/fpl-prediction/blob/master/data/train_v5.csv\n",
    "# this df has data from all seasons since 16-17 by gameweek, with the 19-20 season labeled as 1920, for example, in the \"season\" col\n",
    "# thanks solpaul!\n",
    "\n",
    "# the only thing this dataset is missing is player value on fpl, but from previous analyis, player value wasn't\n",
    "# an effictive predicting feature, so I'm not worried about it for now. Can always merge it later\n",
    "\n",
    "def get_previous_seasons_data():\n",
    "    previous_seasons_data_url = '/Users/andrewpeters/GitHub/fpl/data/external/solpaul-train_v5-311220.csv' #date-code for last time I downloaded this df\n",
    "    previous_seasons_data = pd.read_csv(previous_seasons_data_url, index_col = 0)\n",
    "    \n",
    "    #this dataset has some data from the current (20-21) season, which we don't want\n",
    "    previous_seasons_data = previous_seasons_data[previous_seasons_data.season != 2021]\n",
    "    return previous_seasons_data"
   ]
  },
  {
   "cell_type": "code",
   "execution_count": 171,
   "metadata": {},
   "outputs": [],
   "source": [
    "def get_latest_data():\n",
    "    #first, pull the ids for all players\n",
    "    url = 'https://fantasy.premierleague.com/api/bootstrap-static/'\n",
    "    r = requests.get(url)\n",
    "    json = r.json()\n",
    "    elements_df = pd.DataFrame(json['elements']) #probably a more efficient way to this than a df\n",
    "    \n",
    "    #using the player ids from elements_df, pull in detailed player info\n",
    "    # I'm going compile two dataframes -- one that shows gw by gw history for each player (this season), and \n",
    "    # another that shows games to be played\n",
    "    history_df = pd.DataFrame()\n",
    "    fixtures_df = pd.DataFrame()\n",
    "\n",
    "    for player in tqdm(elements_df.id):\n",
    "        url = f'https://fantasy.premierleague.com/api/element-summary/{player}/'\n",
    "        r = requests.get(url)\n",
    "        json = r.json()\n",
    "        player_history_df = pd.DataFrame(json['history'])\n",
    "        player_fixtures_df = pd.DataFrame(json['fixtures'])\n",
    "        history_df = history_df.append(player_history_df)\n",
    "        fixtures_df = fixtures_df.append(player_fixtures_df)\n",
    "    \n",
    "    return history_df, fixtures_df"
   ]
  },
  {
   "cell_type": "code",
   "execution_count": 175,
   "metadata": {},
   "outputs": [],
   "source": [
    "previous_season_df = get_previous_seasons_data()"
   ]
  },
  {
   "cell_type": "code",
   "execution_count": 176,
   "metadata": {},
   "outputs": [
    {
     "name": "stderr",
     "output_type": "stream",
     "text": [
      "100%|██████████| 670/670 [01:37<00:00,  6.89it/s]\n"
     ]
    }
   ],
   "source": [
    "current_season_df, unplayed_fixtures_df = get_latest_data()"
   ]
  },
  {
   "cell_type": "code",
   "execution_count": 93,
   "metadata": {},
   "outputs": [],
   "source": [
    "#dump data to /raw folder for safekeeping if api breaks\n",
    "current_season_df.to_pickle('/Users/andrewpeters/GitHub/fpl/data/raw/current_season_df.pkl')\n",
    "unplayed_fixtures_df.to_pickle('/Users/andrewpeters/GitHub/fpl/data/raw/unplayed_fixtures_df.pkl')"
   ]
  },
  {
   "cell_type": "code",
   "execution_count": 174,
   "metadata": {},
   "outputs": [],
   "source": [
    "def get_player_info():\n",
    "    url = 'https://fantasy.premierleague.com/api/bootstrap-static/'\n",
    "    r = requests.get(url)\n",
    "    json = r.json()\n",
    "\n",
    "    #pull player info\n",
    "    elements_df = pd.DataFrame(json['elements'])\n",
    "    elements_df['player'] = elements_df['first_name'] + '_' + elements_df['second_name']\n",
    "    elements_df = elements_df.loc[:, ['id', 'element_type', 'team_code', 'player', 'chance_of_playing_this_round']]\n",
    "    \n",
    "    #merge in team names\n",
    "    teams_df = pd.DataFrame(json['teams'])\n",
    "    elements_df = elements_df.merge(teams_df[['code', 'name']], left_on = 'team_code', right_on='code')\n",
    "    \n",
    "    return elements_df"
   ]
  },
  {
   "cell_type": "code",
   "execution_count": 178,
   "metadata": {},
   "outputs": [],
   "source": [
    "def append_historical_current_df():\n",
    "\n",
    "    # merge in some of the basic player info from the elements df\n",
    "    merged_current_season_df = current_season_df.merge(elements_df, left_on = 'element', right_on = 'id')\n",
    "    merged_current_season_df = merged_current_season_df.rename(columns={'element_type': 'position',\n",
    "                                     'round': 'gw',\n",
    "                                      'name': 'team',\n",
    "                                      'chance_of_playing_this_round': 'play_proba' \n",
    "                                     })\n",
    "    merged_current_season_df['season'] = 2021\n",
    "    \n",
    "    #add in opp team names\n",
    "    merged_current_season_df = merged_current_season_df.merge(teams_df[['id', 'name']], left_on = 'opponent_team', right_on = 'id')\n",
    "    merged_current_season_df['opponent_team'] = merged_current_season_df['name']\n",
    "\n",
    "    #append the newly merged current season df with the previous season\n",
    "    df = merged_current_season_df.append(previous_season_df)\n",
    "\n",
    "    #drop columns that only were in one df or the other prior to appending, and that we're not going to use\n",
    "    df = df.drop(columns=['element', 'fixture', 'value', 'team_code', 'code', 'relative_market_value_team',\n",
    "                'relative_market_value_opponent_team', 'relative_market_value_team_season',\n",
    "                'relative_market_value_opponent_team_season', 'name'])\n",
    "\n",
    "    return df"
   ]
  },
  {
   "cell_type": "code",
   "execution_count": 179,
   "metadata": {},
   "outputs": [],
   "source": [
    "elements_df = get_player_info()"
   ]
  },
  {
   "cell_type": "code",
   "execution_count": 180,
   "metadata": {},
   "outputs": [],
   "source": [
    "df = append_historical_current_df()"
   ]
  },
  {
   "cell_type": "code",
   "execution_count": 181,
   "metadata": {},
   "outputs": [],
   "source": [
    "df = df.reset_index(drop=True) #reset indices -- some duplicates occur when appending\n",
    "df.to_pickle('/Users/andrewpeters/GitHub/fpl/data/interim/df.pkl')"
   ]
  },
  {
   "cell_type": "code",
   "execution_count": null,
   "metadata": {},
   "outputs": [],
   "source": []
  }
 ],
 "metadata": {
  "kernelspec": {
   "display_name": "Python 3",
   "language": "python",
   "name": "python3"
  },
  "language_info": {
   "codemirror_mode": {
    "name": "ipython",
    "version": 3
   },
   "file_extension": ".py",
   "mimetype": "text/x-python",
   "name": "python",
   "nbconvert_exporter": "python",
   "pygments_lexer": "ipython3",
   "version": "3.8.3"
  }
 },
 "nbformat": 4,
 "nbformat_minor": 4
}
