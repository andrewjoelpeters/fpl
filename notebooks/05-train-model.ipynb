{
 "cells": [
  {
   "cell_type": "code",
<<<<<<< HEAD
   "execution_count": 14,
=======
   "execution_count": 19,
>>>>>>> parent of 6dfaf54 (update noteebooks)
   "metadata": {},
   "outputs": [],
   "source": [
    "import pandas as pd\n",
    "import numpy as np\n",
    "import matplotlib.pyplot as plt\n",
    "import pickle"
   ]
  },
  {
   "cell_type": "code",
<<<<<<< HEAD
   "execution_count": 15,
=======
   "execution_count": 20,
>>>>>>> parent of 6dfaf54 (update noteebooks)
   "metadata": {},
   "outputs": [],
   "source": [
    "with open('/Users/andrewpeters/GitHub/fpl/data/processed/X.npy', 'rb') as file:\n",
    "    X = np.load(file, allow_pickle=True)\n",
    "with open('/Users/andrewpeters/GitHub/fpl/data/processed/y.npy', 'rb') as file:\n",
<<<<<<< HEAD
    "    y = np.load(file)\n",
    "with open('/Users/andrewpeters/GitHub/fpl/data/processed/metadata.npy', 'rb') as file:\n",
    "    metadata = np.load(file, allow_pickle=True)"
=======
    "    y = np.load(file)"
>>>>>>> parent of 6dfaf54 (update noteebooks)
   ]
  },
  {
   "cell_type": "code",
<<<<<<< HEAD
   "execution_count": 16,
=======
   "execution_count": 21,
>>>>>>> parent of 6dfaf54 (update noteebooks)
   "metadata": {},
   "outputs": [],
   "source": [
    "from sklearn.model_selection import train_test_split"
   ]
  },
  {
   "cell_type": "code",
<<<<<<< HEAD
   "execution_count": 17,
=======
   "execution_count": 22,
>>>>>>> parent of 6dfaf54 (update noteebooks)
   "metadata": {},
   "outputs": [],
   "source": [
    "from helpers import score_model"
   ]
  },
  {
   "cell_type": "code",
<<<<<<< HEAD
   "execution_count": 18,
=======
   "execution_count": 23,
>>>>>>> parent of 6dfaf54 (update noteebooks)
   "metadata": {},
   "outputs": [],
   "source": [
    "import xgboost as xgb"
   ]
  },
  {
   "cell_type": "code",
<<<<<<< HEAD
   "execution_count": 19,
=======
   "execution_count": 24,
>>>>>>> parent of 6dfaf54 (update noteebooks)
   "metadata": {},
   "outputs": [],
   "source": [
    "X_train, X_test, y_train, y_test = train_test_split(X, y, test_size=0.25, random_state=42)"
   ]
  },
  {
   "cell_type": "code",
<<<<<<< HEAD
   "execution_count": 20,
=======
   "execution_count": 25,
>>>>>>> parent of 6dfaf54 (update noteebooks)
   "metadata": {},
   "outputs": [],
   "source": [
    "from sklearn.preprocessing import MinMaxScaler\n",
    "scaler = MinMaxScaler()\n",
    "X_train = scaler.fit_transform(X_train)"
   ]
  },
  {
   "cell_type": "code",
<<<<<<< HEAD
   "execution_count": 21,
=======
   "execution_count": 26,
>>>>>>> parent of 6dfaf54 (update noteebooks)
   "metadata": {},
   "outputs": [],
   "source": [
    "X_test = scaler.transform(X_test)"
   ]
  },
  {
   "cell_type": "code",
<<<<<<< HEAD
   "execution_count": 22,
=======
   "execution_count": 27,
>>>>>>> parent of 6dfaf54 (update noteebooks)
   "metadata": {},
   "outputs": [
    {
     "data": {
      "text/plain": [
       "XGBRegressor(base_score=0.5, booster='gbtree', colsample_bylevel=1,\n",
       "             colsample_bynode=1, colsample_bytree=1, gamma=0, gpu_id=-1,\n",
       "             importance_type='gain', interaction_constraints='',\n",
       "             learning_rate=0.300000012, max_delta_step=0, max_depth=8,\n",
       "             min_child_weight=1, missing=nan, monotone_constraints='()',\n",
<<<<<<< HEAD
       "             n_estimators=20, n_jobs=8, num_parallel_tree=1, random_state=123,\n",
=======
       "             n_estimators=10, n_jobs=8, num_parallel_tree=1, random_state=123,\n",
>>>>>>> parent of 6dfaf54 (update noteebooks)
       "             reg_alpha=0, reg_lambda=1, scale_pos_weight=1, seed=123,\n",
       "             subsample=1, tree_method='exact', validate_parameters=1,\n",
       "             verbosity=None)"
      ]
     },
<<<<<<< HEAD
     "execution_count": 22,
=======
     "execution_count": 27,
>>>>>>> parent of 6dfaf54 (update noteebooks)
     "metadata": {},
     "output_type": "execute_result"
    }
   ],
   "source": [
<<<<<<< HEAD
    "xgb_reg = xgb.XGBRegressor(objective='reg:squarederror', n_estimators = 20, seed = 123, max_depth = 8)\n",
=======
    "xgb_reg = xgb.XGBRegressor(objective='reg:squarederror', n_estimators = 10, seed = 123, max_depth = 6)\n",
>>>>>>> parent of 6dfaf54 (update noteebooks)
    "xgb_reg.fit(X_train,y_train)"
   ]
  },
  {
   "cell_type": "code",
<<<<<<< HEAD
   "execution_count": 23,
=======
   "execution_count": 28,
>>>>>>> parent of 6dfaf54 (update noteebooks)
   "metadata": {},
   "outputs": [],
   "source": [
    "y_predicted = xgb_reg.predict(X_test)"
   ]
  },
  {
   "cell_type": "code",
<<<<<<< HEAD
   "execution_count": 24,
=======
   "execution_count": 29,
>>>>>>> parent of 6dfaf54 (update noteebooks)
   "metadata": {},
   "outputs": [
    {
     "name": "stdout",
     "output_type": "stream",
     "text": [
<<<<<<< HEAD
      "Overall Score is: 3.271086639484942\n",
      "MAE over the entire dataset is: 2.0598267706983715\n",
      "MAE when a player earns more than 5pts is: 3.8767165738782268\n"
=======
      "Overall Score is: 2.5641745246169236\n",
      "MAE over the entire dataset is: 1.6035513208474632\n",
      "MAE when a player earns more than 5pts is: 3.044486126501654\n"
>>>>>>> parent of 6dfaf54 (update noteebooks)
     ]
    }
   ],
   "source": [
    "results_df = score_model(predictions = y_predicted, y_test = y_test)"
   ]
  },
  {
   "cell_type": "code",
   "execution_count": 30,
   "metadata": {},
   "outputs": [],
   "source": [
    "with open ('/Users/andrewpeters/GitHub/fpl/models/xgb_256.pkl', 'wb') as file: #filename = model + score\n",
    "    pickle.dump(xgb_reg, file)"
   ]
  },
  {
   "cell_type": "code",
   "execution_count": 31,
   "metadata": {},
   "outputs": [],
   "source": [
    "with open ('/Users/andrewpeters/GitHub/fpl/models/min_max_scaler.pkl', 'wb') as file: #filename = model + score\n",
    "    pickle.dump(scaler, file)"
   ]
  },
  {
   "cell_type": "markdown",
   "metadata": {},
   "source": [
    "# show learning curve"
   ]
  },
  {
   "cell_type": "code",
<<<<<<< HEAD
   "execution_count": 12,
=======
   "execution_count": 67,
>>>>>>> parent of 6dfaf54 (update noteebooks)
   "metadata": {},
   "outputs": [],
   "source": [
    "#Assess if model is improving more data\n",
    "m = len(X_train)\n",
    "index = np.arange(0, m)\n",
    "permu = np.random.permutation(m)\n",
    "num_samples = 20\n",
    "rmse_train_list = []\n",
    "rmse_test_list = []\n",
    "\n",
    "for sample in np.arange(1,num_samples):\n",
    "    num_rows = round((m/num_samples)*sample)\n",
    "    to_keep = permu[:num_rows]\n",
    "    X_train_reduced = X_train[(to_keep), :]\n",
    "    y_train_reduced = y_train[to_keep]\n",
    "    model = xgb_reg.fit(X_train_reduced, y_train_reduced)\n",
    "    rmse_train = np.sqrt(mean_squared_error(model.predict(X_train_reduced), y_train_reduced))\n",
    "    rmse_test = np.sqrt(mean_squared_error(model.predict(X_test), y_test))\n",
    "    rmse_train_list.append(float(rmse_train))\n",
    "    rmse_test_list.append(float(rmse_test))"
   ]
  },
  {
   "cell_type": "code",
<<<<<<< HEAD
   "execution_count": 13,
=======
   "execution_count": 68,
>>>>>>> parent of 6dfaf54 (update noteebooks)
   "metadata": {},
   "outputs": [
    {
     "data": {
      "text/plain": [
<<<<<<< HEAD
       "<matplotlib.legend.Legend at 0x7f81c49689a0>"
      ]
     },
     "execution_count": 13,
=======
       "<matplotlib.legend.Legend at 0x7fb787748a90>"
      ]
     },
     "execution_count": 68,
>>>>>>> parent of 6dfaf54 (update noteebooks)
     "metadata": {},
     "output_type": "execute_result"
    },
    {
     "data": {
<<<<<<< HEAD
      "image/png": "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\n",
=======
      "image/png": "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\n",
>>>>>>> parent of 6dfaf54 (update noteebooks)
      "text/plain": [
       "<Figure size 432x288 with 1 Axes>"
      ]
     },
     "metadata": {
      "needs_background": "light"
     },
     "output_type": "display_data"
    }
   ],
   "source": [
    "plt.plot(np.arange(1, num_samples)/num_samples, rmse_train_list, color = 'blue', label = 'train')\n",
    "plt.plot(np.arange(1, num_samples)/num_samples, rmse_test_list, color = 'green', label = 'test')\n",
    "plt.xlabel('Portion of Dataset Used')\n",
    "plt.ylabel('Mean squared error')\n",
    "plt.legend()"
   ]
  },
  {
   "cell_type": "code",
   "execution_count": null,
   "metadata": {},
   "outputs": [],
   "source": []
  }
 ],
 "metadata": {
  "kernelspec": {
   "display_name": "Python 3",
   "language": "python",
   "name": "python3"
  },
  "language_info": {
   "codemirror_mode": {
    "name": "ipython",
    "version": 3
   },
   "file_extension": ".py",
   "mimetype": "text/x-python",
   "name": "python",
   "nbconvert_exporter": "python",
   "pygments_lexer": "ipython3",
   "version": "3.8.3"
  }
 },
 "nbformat": 4,
 "nbformat_minor": 4
}
