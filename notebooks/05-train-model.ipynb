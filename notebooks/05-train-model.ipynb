{
 "cells": [
  {
   "cell_type": "code",
   "execution_count": 323,
   "metadata": {},
   "outputs": [],
   "source": [
    "import pandas as pd\n",
    "import numpy as np\n",
    "import matplotlib.pyplot as plt\n",
    "import pickle"
   ]
  },
  {
   "cell_type": "code",
   "execution_count": 325,
   "metadata": {},
   "outputs": [],
   "source": [
    "with open('/Users/andrewpeters/GitHub/fpl/data/processed/X_forward_rolling.npy', 'rb') as file:\n",
    "    X = np.load(file, allow_pickle=True)\n",
    "with open('/Users/andrewpeters/GitHub/fpl/data/processed/y_forward_rolling.npy', 'rb') as file:\n",
    "    y = np.load(file)\n",
    "with open('/Users/andrewpeters/GitHub/fpl/data/processed/metadata_forward_rolling.npy', 'rb') as file:\n",
    "    metadata = np.load(file, allow_pickle=True)"
   ]
  },
  {
   "cell_type": "code",
   "execution_count": 326,
   "metadata": {},
   "outputs": [],
   "source": [
    "from sklearn.model_selection import train_test_split\n",
    "from sklearn.metrics import mean_squared_error"
   ]
  },
  {
   "cell_type": "code",
   "execution_count": 327,
   "metadata": {},
   "outputs": [],
   "source": [
    "from helpers import score_model"
   ]
  },
  {
   "cell_type": "code",
   "execution_count": 328,
   "metadata": {},
   "outputs": [],
   "source": [
    "import xgboost as xgb"
   ]
  },
  {
   "cell_type": "code",
   "execution_count": 329,
   "metadata": {},
   "outputs": [],
   "source": [
    "X_train, X_test, y_train, y_test, metadata_train, metadata_test = train_test_split(X, y, metadata, test_size=0.25, random_state=42)"
   ]
  },
  {
   "cell_type": "code",
   "execution_count": 330,
   "metadata": {},
   "outputs": [],
   "source": [
    "from sklearn.preprocessing import MinMaxScaler\n",
    "scaler = MinMaxScaler()\n",
    "X_train = scaler.fit_transform(X_train)"
   ]
  },
  {
   "cell_type": "code",
   "execution_count": 331,
   "metadata": {},
   "outputs": [],
   "source": [
    "X_test = scaler.transform(X_test)"
   ]
  },
  {
   "cell_type": "code",
   "execution_count": 332,
   "metadata": {},
   "outputs": [
    {
     "data": {
      "text/plain": [
       "XGBRegressor(base_score=0.5, booster='gbtree', colsample_bylevel=1,\n",
       "             colsample_bynode=1, colsample_bytree=1, gamma=0, gpu_id=-1,\n",
       "             importance_type='gain', interaction_constraints='',\n",
       "             learning_rate=0.300000012, max_delta_step=0, max_depth=6,\n",
       "             min_child_weight=1, missing=nan, monotone_constraints='()',\n",
       "             n_estimators=30, n_jobs=8, num_parallel_tree=1, random_state=123,\n",
       "             reg_alpha=0, reg_lambda=1, scale_pos_weight=1, seed=123,\n",
       "             subsample=1, tree_method='exact', validate_parameters=1,\n",
       "             verbosity=None)"
      ]
     },
     "execution_count": 332,
     "metadata": {},
     "output_type": "execute_result"
    }
   ],
   "source": [
    "xgb_reg = xgb.XGBRegressor(objective='reg:squarederror', n_estimators = 30, seed = 123, max_depth = 6)\n",
    "xgb_reg.fit(X_train,y_train)"
   ]
  },
  {
   "cell_type": "code",
   "execution_count": 333,
   "metadata": {},
   "outputs": [],
   "source": [
    "y_predicted = xgb_reg.predict(X_test)"
   ]
  },
  {
   "cell_type": "code",
   "execution_count": 352,
   "metadata": {},
   "outputs": [
    {
     "name": "stdout",
     "output_type": "stream",
     "text": [
      "Overall Score is: 3.6624937123660364\n",
      "MAE over the entire dataset is: 3.7296704592276826\n",
      "MAE when a player earns more than 5pts is: 3.6289053389352133\n"
     ]
    }
   ],
   "source": [
    "results_df = score_model(predictions = y_predicted, y_test = y_test)"
   ]
  },
  {
   "cell_type": "code",
   "execution_count": 340,
   "metadata": {},
   "outputs": [],
   "source": [
    "#with open ('/Users/andrewpeters/GitHub/fpl/models/xgb_forward_rolling_232.pkl', 'wb') as file: #filename = model + score\n",
    "    pickle.dump(xgb_reg, file)"
   ]
  },
  {
   "cell_type": "code",
   "execution_count": 341,
   "metadata": {},
   "outputs": [],
   "source": [
    "#with open ('/Users/andrewpeters/GitHub/fpl/models/min_max_scaler_foward_rolling.pkl', 'wb') as file: #filename = model + score\n",
    "    pickle.dump(scaler, file)"
   ]
  },
  {
   "cell_type": "markdown",
   "metadata": {},
   "source": [
    "# show learning curve"
   ]
  },
  {
   "cell_type": "code",
   "execution_count": 342,
   "metadata": {},
   "outputs": [],
   "source": [
    "#Assess if model is improving more data\n",
    "m = len(X_train)\n",
    "index = np.arange(0, m)\n",
    "permu = np.random.permutation(m)\n",
    "num_samples = 20\n",
    "rmse_train_list = []\n",
    "rmse_test_list = []\n",
    "rmse_test_over5_list = []\n",
    "\n",
    "for sample in np.arange(1,num_samples):\n",
    "    num_rows = round((m/num_samples)*sample)\n",
    "    to_keep = permu[:num_rows]\n",
    "    X_train_reduced = X_train[(to_keep), :]\n",
    "    y_train_reduced = y_train[to_keep]\n",
    "    model = xgb_reg.fit(X_train_reduced, y_train_reduced)\n",
    "    rmse_train = np.sqrt(mean_squared_error(model.predict(X_train_reduced), y_train_reduced))\n",
    "    rmse_test = np.sqrt(mean_squared_error(model.predict(X_test), y_test))\n",
    "    rmse_test_over5 = np.sqrt(mean_squared_error(model.predict(X_test[y_test > 5]), y_test[y_test > 5]))\n",
    "    rmse_train_list.append(float(rmse_train))\n",
    "    rmse_test_list.append(float(rmse_test))\n",
    "    rmse_test_over5_list.append(float(rmse_test_over5))"
   ]
  },
  {
   "cell_type": "code",
   "execution_count": 343,
   "metadata": {},
   "outputs": [
    {
     "data": {
      "text/plain": [
       "<matplotlib.legend.Legend at 0x7fc3c4508040>"
      ]
     },
     "execution_count": 343,
     "metadata": {},
     "output_type": "execute_result"
    },
    {
     "data": {
      "image/png": "[encoded data removed]",
      "text/plain": [
       "<Figure size 432x288 with 1 Axes>"
      ]
     },
     "metadata": {
      "needs_background": "light"
     },
     "output_type": "display_data"
    }
   ],
   "source": [
    "plt.plot(np.arange(1, num_samples)/num_samples, rmse_train_list, color = 'blue', label = 'train')\n",
    "plt.plot(np.arange(1, num_samples)/num_samples, rmse_test_list, color = 'green', label = 'test')\n",
    "plt.plot(np.arange(1, num_samples)/num_samples, rmse_test_over5_list, color = 'red', label = 'test over 5')\n",
    "plt.xlabel('Portion of Dataset Used')\n",
    "plt.ylabel('Mean squared error')\n",
    "plt.legend()"
   ]
  },
  {
   "cell_type": "code",
   "execution_count": null,
   "metadata": {},
   "outputs": [],
   "source": []
  }
 ],
 "metadata": {
  "kernelspec": {
   "display_name": "Python 3",
   "language": "python",
   "name": "python3"
  },
  "language_info": {
   "codemirror_mode": {
    "name": "ipython",
    "version": 3
   },
   "file_extension": ".py",
   "mimetype": "text/x-python",
   "name": "python",
   "nbconvert_exporter": "python",
   "pygments_lexer": "ipython3",
   "version": "3.8.3"
  }
 },
 "nbformat": 4,
 "nbformat_minor": 4
}
