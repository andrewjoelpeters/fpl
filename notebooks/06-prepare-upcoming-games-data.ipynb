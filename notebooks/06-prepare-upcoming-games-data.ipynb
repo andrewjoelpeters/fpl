{
 "cells": [
  {
   "cell_type": "code",
   "execution_count": 188,
   "metadata": {},
   "outputs": [],
   "source": [
    "import pandas as pd\n",
    "import numpy as np\n",
    "import pickle\n",
    "pd.set_option('display.max_rows', 500)\n",
    "pd.set_option('display.max_columns', 500)\n",
    "pd.set_option('display.width', 150)"
   ]
  },
  {
   "cell_type": "code",
   "execution_count": 189,
   "metadata": {},
   "outputs": [],
   "source": [
    "df = pd.read_pickle('/Users/andrewpeters/GitHub/fpl/data/interim/df_with_rolling_features.pkl')\n",
    "unplayed = pd.read_pickle('/Users/andrewpeters/GitHub/fpl/data/interim/unplayed.pkl')\n",
    "team_level = pd.read_pickle('/Users/andrewpeters/GitHub/fpl/data/interim/team_level_rolling.pkl')"
   ]
  },
  {
   "cell_type": "code",
   "execution_count": 190,
   "metadata": {},
   "outputs": [],
   "source": [
    "last_performance = df.sort_values(['kickoff_time', 'player']).drop_duplicates(subset='player', keep='last')"
   ]
  },
  {
   "cell_type": "code",
   "execution_count": 191,
   "metadata": {},
   "outputs": [],
   "source": [
    "#only want to keep cols that have data about the player/teams's previous performance\n",
    "#drop cols that are related to the opponent or the specific game at hand\n",
    "\n",
    "keep_cols = ['player',\n",
    "     'total_points_prev',\n",
    "     'team_h_score_prev',\n",
    "     'team_a_score_prev',\n",
    "     'minutes_prev',\n",
    "     'goals_scored_prev',\n",
    "     'assists_prev',\n",
    "     'clean_sheets_prev',\n",
    "     'goals_conceded_prev',\n",
    "     'bonus_prev',\n",
    "     'bps_prev',\n",
    "     'influence_prev',\n",
    "     'creativity_prev',\n",
    "     'threat_prev',\n",
    "     'ict_index_prev',\n",
    "     'transfers_balance_prev',\n",
    "     'selected_prev',\n",
    "     'transfers_in_prev',\n",
    "     'transfers_out_prev',\n",
    "     'total_points_prev_2',\n",
    "     'team_h_score_prev_2',\n",
    "     'team_a_score_prev_2',\n",
    "     'minutes_prev_2',\n",
    "     'goals_scored_prev_2',\n",
    "     'assists_prev_2',\n",
    "     'clean_sheets_prev_2',\n",
    "     'goals_conceded_prev_2',\n",
    "     'bonus_prev_2',\n",
    "     'bps_prev_2',\n",
    "     'influence_prev_2',\n",
    "     'creativity_prev_2',\n",
    "     'threat_prev_2',\n",
    "     'ict_index_prev_2',\n",
    "     'transfers_balance_prev_2',\n",
    "     'selected_prev_2',\n",
    "     'transfers_in_prev_2',\n",
    "     'transfers_out_prev_2',\n",
    "     'total_points_prev_3',\n",
    "     'team_h_score_prev_3',\n",
    "     'team_a_score_prev_3',\n",
    "     'minutes_prev_3',\n",
    "     'goals_scored_prev_3',\n",
    "     'assists_prev_3',\n",
    "     'clean_sheets_prev_3',\n",
    "     'goals_conceded_prev_3',\n",
    "     'bonus_prev_3',\n",
    "     'bps_prev_3',\n",
    "     'influence_prev_3',\n",
    "     'creativity_prev_3',\n",
    "     'threat_prev_3',\n",
    "     'ict_index_prev_3',\n",
    "     'transfers_balance_prev_3',\n",
    "     'selected_prev_3',\n",
    "     'transfers_in_prev_3',\n",
    "     'transfers_out_prev_3',\n",
    "     'total_points_prev_4',\n",
    "     'team_h_score_prev_4',\n",
    "     'team_a_score_prev_4',\n",
    "     'minutes_prev_4',\n",
    "     'goals_scored_prev_4',\n",
    "     'assists_prev_4',\n",
    "     'clean_sheets_prev_4',\n",
    "     'goals_conceded_prev_4',\n",
    "     'bonus_prev_4',\n",
    "     'bps_prev_4',\n",
    "     'influence_prev_4',\n",
    "     'creativity_prev_4',\n",
    "     'threat_prev_4',\n",
    "     'ict_index_prev_4',\n",
    "     'transfers_balance_prev_4',\n",
    "     'selected_prev_4',\n",
    "     'transfers_in_prev_4',\n",
    "     'transfers_out_prev_4',\n",
    "     'total_points_prev_5',\n",
    "     'team_h_score_prev_5',\n",
    "     'team_a_score_prev_5',\n",
    "     'minutes_prev_5',\n",
    "     'goals_scored_prev_5',\n",
    "     'assists_prev_5',\n",
    "     'clean_sheets_prev_5',\n",
    "     'goals_conceded_prev_5',\n",
    "     'bonus_prev_5',\n",
    "     'bps_prev_5',\n",
    "     'influence_prev_5',\n",
    "     'creativity_prev_5',\n",
    "     'threat_prev_5',\n",
    "     'ict_index_prev_5',\n",
    "     'transfers_balance_prev_5',\n",
    "     'selected_prev_5',\n",
    "     'transfers_in_prev_5',\n",
    "     'transfers_out_prev_5',\n",
    "     'total_points_prev_6',\n",
    "     'team_h_score_prev_6',\n",
    "     'team_a_score_prev_6',\n",
    "     'minutes_prev_6',\n",
    "     'goals_scored_prev_6',\n",
    "     'assists_prev_6',\n",
    "     'clean_sheets_prev_6',\n",
    "     'goals_conceded_prev_6',\n",
    "     'bonus_prev_6',\n",
    "     'bps_prev_6',\n",
    "     'influence_prev_6',\n",
    "     'creativity_prev_6',\n",
    "     'threat_prev_6',\n",
    "     'ict_index_prev_6',\n",
    "     'transfers_balance_prev_6',\n",
    "     'selected_prev_6',\n",
    "     'transfers_in_prev_6',\n",
    "     'transfers_out_prev_6',\n",
    "     'total_points_prev_7',\n",
    "     'team_h_score_prev_7',\n",
    "     'team_a_score_prev_7',\n",
    "     'minutes_prev_7',\n",
    "     'goals_scored_prev_7',\n",
    "     'assists_prev_7',\n",
    "     'clean_sheets_prev_7',\n",
    "     'goals_conceded_prev_7',\n",
    "     'bonus_prev_7',\n",
    "     'bps_prev_7',\n",
    "     'influence_prev_7',\n",
    "     'creativity_prev_7',\n",
    "     'threat_prev_7',\n",
    "     'ict_index_prev_7',\n",
    "     'transfers_balance_prev_7',\n",
    "     'selected_prev_7',\n",
    "     'transfers_in_prev_7',\n",
    "     'transfers_out_prev_7',\n",
    "     'total_points_prev_8',\n",
    "     'team_h_score_prev_8',\n",
    "     'team_a_score_prev_8',\n",
    "     'minutes_prev_8',\n",
    "     'goals_scored_prev_8',\n",
    "     'assists_prev_8',\n",
    "     'clean_sheets_prev_8',\n",
    "     'goals_conceded_prev_8',\n",
    "     'bonus_prev_8',\n",
    "     'bps_prev_8',\n",
    "     'influence_prev_8',\n",
    "     'creativity_prev_8',\n",
    "     'threat_prev_8',\n",
    "     'ict_index_prev_8',\n",
    "     'transfers_balance_prev_8',\n",
    "     'selected_prev_8',\n",
    "     'transfers_in_prev_8',\n",
    "     'transfers_out_prev_8',\n",
    "     'total_points_prev_9',\n",
    "     'team_h_score_prev_9',\n",
    "     'team_a_score_prev_9',\n",
    "     'minutes_prev_9',\n",
    "     'goals_scored_prev_9',\n",
    "     'assists_prev_9',\n",
    "     'clean_sheets_prev_9',\n",
    "     'goals_conceded_prev_9',\n",
    "     'bonus_prev_9',\n",
    "     'bps_prev_9',\n",
    "     'influence_prev_9',\n",
    "     'creativity_prev_9',\n",
    "     'threat_prev_9',\n",
    "     'ict_index_prev_9',\n",
    "     'transfers_balance_prev_9',\n",
    "     'selected_prev_9',\n",
    "     'transfers_in_prev_9',\n",
    "     'transfers_out_prev_9',\n",
    "     'total_points_prev_10',\n",
    "     'team_h_score_prev_10',\n",
    "     'team_a_score_prev_10',\n",
    "     'minutes_prev_10',\n",
    "     'goals_scored_prev_10',\n",
    "     'assists_prev_10',\n",
    "     'clean_sheets_prev_10',\n",
    "     'goals_conceded_prev_10',\n",
    "     'bonus_prev_10',\n",
    "     'bps_prev_10',\n",
    "     'influence_prev_10',\n",
    "     'creativity_prev_10',\n",
    "     'threat_prev_10',\n",
    "     'ict_index_prev_10',\n",
    "     'transfers_balance_prev_10',\n",
    "     'selected_prev_10',\n",
    "     'transfers_in_prev_10',\n",
    "     'transfers_out_prev_10',\n",
    "     'total_points_team',\n",
    "     'total_points_prev_team',\n",
    "     'goals_scored_prev_team',\n",
    "     'clean_sheets_prev_team',\n",
    "     'goals_conceded_prev_team',\n",
    "     'total_points_prev_2_team',\n",
    "     'goals_scored_prev_2_team',\n",
    "     'clean_sheets_prev_2_team',\n",
    "     'goals_conceded_prev_2_team',\n",
    "     'influence_prev_2_team',\n",
    "     'creativity_prev_2_team',\n",
    "     'threat_prev_2_team',\n",
    "     'total_points_prev_3_team',\n",
    "     'goals_scored_prev_3_team',\n",
    "     'clean_sheets_prev_3_team',\n",
    "     'goals_conceded_prev_3_team',\n",
    "     'influence_prev_3_team',\n",
    "     'creativity_prev_3_team',\n",
    "     'threat_prev_3_team',\n",
    "     'total_points_prev_4_team',\n",
    "     'goals_scored_prev_4_team',\n",
    "     'clean_sheets_prev_4_team',\n",
    "     'goals_conceded_prev_4_team',\n",
    "     'influence_prev_4_team',\n",
    "     'creativity_prev_4_team',\n",
    "     'threat_prev_4_team',\n",
    "     'total_points_prev_5_team',\n",
    "     'goals_scored_prev_5_team',\n",
    "     'clean_sheets_prev_5_team',\n",
    "     'goals_conceded_prev_5_team',\n",
    "     'influence_prev_5_team',\n",
    "     'creativity_prev_5_team',\n",
    "     'threat_prev_5_team',\n",
    "     'total_points_prev_6_team',\n",
    "     'goals_scored_prev_6_team',\n",
    "     'clean_sheets_prev_6_team',\n",
    "     'goals_conceded_prev_6_team',\n",
    "     'influence_prev_6_team',\n",
    "     'creativity_prev_6_team',\n",
    "     'threat_prev_6_team',\n",
    "     'total_points_prev_7_team',\n",
    "     'goals_scored_prev_7_team',\n",
    "     'clean_sheets_prev_7_team',\n",
    "     'goals_conceded_prev_7_team',\n",
    "     'influence_prev_7_team',\n",
    "     'creativity_prev_7_team',\n",
    "     'threat_prev_7_team',\n",
    "     'total_points_prev_8_team',\n",
    "     'goals_scored_prev_8_team',\n",
    "     'clean_sheets_prev_8_team',\n",
    "     'goals_conceded_prev_8_team',\n",
    "     'influence_prev_8_team',\n",
    "     'creativity_prev_8_team',\n",
    "     'threat_prev_8_team',\n",
    "     'total_points_prev_9_team',\n",
    "     'goals_scored_prev_9_team',\n",
    "     'clean_sheets_prev_9_team',\n",
    "     'goals_conceded_prev_9_team',\n",
    "     'influence_prev_9_team',\n",
    "     'creativity_prev_9_team',\n",
    "     'threat_prev_9_team',\n",
    "     'total_points_prev_10_team',\n",
    "     'goals_scored_prev_10_team',\n",
    "     'clean_sheets_prev_10_team',\n",
    "     'goals_conceded_prev_10_team',\n",
    "     'influence_prev_10_team',\n",
    "     'creativity_prev_10_team',\n",
    "     'threat_prev_10_team']"
   ]
  },
  {
   "cell_type": "code",
   "execution_count": 192,
   "metadata": {},
   "outputs": [],
   "source": [
    "unplayed = unplayed.merge(last_performance[keep_cols], how='left', on='player')"
   ]
  },
  {
   "cell_type": "code",
   "execution_count": 193,
   "metadata": {},
   "outputs": [],
   "source": [
    "last_team_level = team_level.sort_values(['team', 'season', 'gw']).drop_duplicates(subset='team', keep='last')"
   ]
  },
  {
   "cell_type": "code",
   "execution_count": 194,
   "metadata": {},
   "outputs": [],
   "source": [
    "unplayed = unplayed.merge(last_team_level, how='left', left_on = 'opponent_team', right_on='team', suffixes = ('', '_opponent'))"
   ]
  },
  {
   "cell_type": "code",
   "execution_count": 195,
   "metadata": {},
   "outputs": [],
   "source": [
    "with open('/Users/andrewpeters/GitHub/fpl/data/interim/x_features.pkl', 'rb') as f:\n",
    "    feature_list = pickle.load(f)"
   ]
  },
  {
   "cell_type": "markdown",
   "metadata": {},
   "source": [
    "All the following work is done to make the features and feature names match what was used to train the model"
   ]
  },
  {
   "cell_type": "code",
   "execution_count": 196,
   "metadata": {},
   "outputs": [],
   "source": [
    "unplayed = unplayed.rename(columns={'is_home': 'was_home'})"
   ]
  },
  {
   "cell_type": "code",
   "execution_count": 197,
   "metadata": {},
   "outputs": [],
   "source": [
    "unplayed['was_home'] = unplayed['was_home'].astype('int') #convert bool to numeric"
   ]
  },
  {
   "cell_type": "code",
   "execution_count": 198,
   "metadata": {},
   "outputs": [],
   "source": [
    "positions_df = pd.get_dummies(unplayed['position'], prefix='position_')\n",
    "unplayed = unplayed.join(positions_df)"
   ]
  },
  {
   "cell_type": "markdown",
   "metadata": {},
   "source": [
    "# Reminder:\n",
    "there's a very small amount (14 rows) of NaNs in the unplayed df, all later in the season. I'm dropping for now, but should go back an insprect root caus"
   ]
  },
  {
   "cell_type": "code",
   "execution_count": 200,
   "metadata": {},
   "outputs": [],
   "source": [
    "unplayed = unplayed.dropna()"
   ]
  },
  {
   "cell_type": "code",
   "execution_count": 201,
   "metadata": {},
   "outputs": [],
   "source": [
    "metadata_to_keep = ['element',\n",
    "                   'kickoff_time',\n",
    "                   'gw',\n",
    "                   'player',\n",
    "                   'position',\n",
    "                   'team',\n",
    "                   'opponent_team']"
   ]
  },
  {
   "cell_type": "code",
   "execution_count": 202,
   "metadata": {},
   "outputs": [],
   "source": [
    "#need to keep this info so that once we predict points later, we know which players those predictions belong to\n",
    "unplayed_metadata = unplayed.loc[:, metadata_to_keep]\n",
    "unplayed_metadata.to_pickle('/Users/andrewpeters/GitHub/fpl/data/processed/unplayed_metadata.pkl')"
   ]
  },
  {
   "cell_type": "code",
   "execution_count": 203,
   "metadata": {},
   "outputs": [],
   "source": [
    "unplayed = unplayed.drop(columns = metadata_to_keep \n",
    "                         + ['finished',\n",
    "                             'team_opponent',\n",
    "                             'season',\n",
    "                             'gw_opponent',\n",
    "                             'total_points'])"
   ]
  },
  {
   "cell_type": "code",
   "execution_count": 204,
   "metadata": {},
   "outputs": [
    {
     "data": {
      "text/plain": [
       "True"
      ]
     },
     "execution_count": 204,
     "metadata": {},
     "output_type": "execute_result"
    }
   ],
   "source": [
    "#verify that the unplayed columns match up with the features used to train the model\n",
    "list(unplayed) == feature_list"
   ]
  },
  {
   "cell_type": "code",
   "execution_count": 205,
   "metadata": {},
   "outputs": [],
   "source": [
    "from sklearn.preprocessing import MinMaxScaler\n",
    "scaler = MinMaxScaler()\n",
    "unplayed = scaler.fit_transform(unplayed)"
   ]
  },
  {
   "cell_type": "code",
   "execution_count": 206,
   "metadata": {},
   "outputs": [],
   "source": [
    "with open('/Users/andrewpeters/GitHub/fpl/data/processed/unplayed.npy', 'wb') as file:\n",
    "    np.save(file, unplayed)"
   ]
  },
  {
   "cell_type": "code",
   "execution_count": null,
   "metadata": {},
   "outputs": [],
   "source": []
  }
 ],
 "metadata": {
  "kernelspec": {
   "display_name": "Python 3",
   "language": "python",
   "name": "python3"
  },
  "language_info": {
   "codemirror_mode": {
    "name": "ipython",
    "version": 3
   },
   "file_extension": ".py",
   "mimetype": "text/x-python",
   "name": "python",
   "nbconvert_exporter": "python",
   "pygments_lexer": "ipython3",
   "version": "3.8.3"
  }
 },
 "nbformat": 4,
 "nbformat_minor": 4
}
