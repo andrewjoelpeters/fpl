{
 "cells": [
  {
   "cell_type": "code",
   "execution_count": 127,
   "metadata": {},
   "outputs": [],
   "source": [
    "import pandas as pd\n",
    "import numpy as np\n",
    "import datetime\n",
    "import matplotlib.pyplot as plt\n",
    "import seaborn as sns\n",
    "from sklearn import linear_model\n",
    "from glob import glob\n",
    "import math"
   ]
  },
  {
   "cell_type": "code",
   "execution_count": 3,
   "metadata": {},
   "outputs": [],
   "source": [
    "pd.set_option('display.max_columns', 80)"
   ]
  },
  {
   "cell_type": "markdown",
   "metadata": {},
   "source": [
    "# import & prep df from 538"
   ]
  },
  {
   "cell_type": "code",
   "execution_count": 4,
   "metadata": {},
   "outputs": [],
   "source": [
    "spi_url = 'https://projects.fivethirtyeight.com/soccer-api/club/spi_matches.csv'\n",
    "spi = pd.read_csv(spi_url)"
   ]
  },
  {
   "cell_type": "code",
   "execution_count": 5,
   "metadata": {},
   "outputs": [
    {
     "data": {
      "text/html": [
       "<div>\n",
       "<style scoped>\n",
       "    .dataframe tbody tr th:only-of-type {\n",
       "        vertical-align: middle;\n",
       "    }\n",
       "\n",
       "    .dataframe tbody tr th {\n",
       "        vertical-align: top;\n",
       "    }\n",
       "\n",
       "    .dataframe thead th {\n",
       "        text-align: right;\n",
       "    }\n",
       "</style>\n",
       "<table border=\"1\" class=\"dataframe\">\n",
       "  <thead>\n",
       "    <tr style=\"text-align: right;\">\n",
       "      <th></th>\n",
       "      <th>season</th>\n",
       "      <th>date</th>\n",
       "      <th>league_id</th>\n",
       "      <th>league</th>\n",
       "      <th>team1</th>\n",
       "      <th>team2</th>\n",
       "      <th>spi1</th>\n",
       "      <th>spi2</th>\n",
       "      <th>prob1</th>\n",
       "      <th>prob2</th>\n",
       "      <th>probtie</th>\n",
       "      <th>proj_score1</th>\n",
       "      <th>proj_score2</th>\n",
       "      <th>importance1</th>\n",
       "      <th>importance2</th>\n",
       "      <th>score1</th>\n",
       "      <th>score2</th>\n",
       "      <th>xg1</th>\n",
       "      <th>xg2</th>\n",
       "      <th>nsxg1</th>\n",
       "      <th>nsxg2</th>\n",
       "      <th>adj_score1</th>\n",
       "      <th>adj_score2</th>\n",
       "    </tr>\n",
       "  </thead>\n",
       "  <tbody>\n",
       "    <tr>\n",
       "      <td>0</td>\n",
       "      <td>2016</td>\n",
       "      <td>2016-07-09</td>\n",
       "      <td>7921</td>\n",
       "      <td>FA Women's Super League</td>\n",
       "      <td>Liverpool Women</td>\n",
       "      <td>Reading</td>\n",
       "      <td>51.56</td>\n",
       "      <td>50.42</td>\n",
       "      <td>0.4389</td>\n",
       "      <td>0.2767</td>\n",
       "      <td>0.2844</td>\n",
       "      <td>1.39</td>\n",
       "      <td>1.05</td>\n",
       "      <td>NaN</td>\n",
       "      <td>NaN</td>\n",
       "      <td>2.0</td>\n",
       "      <td>0.0</td>\n",
       "      <td>NaN</td>\n",
       "      <td>NaN</td>\n",
       "      <td>NaN</td>\n",
       "      <td>NaN</td>\n",
       "      <td>NaN</td>\n",
       "      <td>NaN</td>\n",
       "    </tr>\n",
       "    <tr>\n",
       "      <td>1</td>\n",
       "      <td>2016</td>\n",
       "      <td>2016-07-10</td>\n",
       "      <td>7921</td>\n",
       "      <td>FA Women's Super League</td>\n",
       "      <td>Arsenal Women</td>\n",
       "      <td>Notts County Ladies</td>\n",
       "      <td>46.61</td>\n",
       "      <td>54.03</td>\n",
       "      <td>0.3572</td>\n",
       "      <td>0.3608</td>\n",
       "      <td>0.2819</td>\n",
       "      <td>1.27</td>\n",
       "      <td>1.28</td>\n",
       "      <td>NaN</td>\n",
       "      <td>NaN</td>\n",
       "      <td>2.0</td>\n",
       "      <td>0.0</td>\n",
       "      <td>NaN</td>\n",
       "      <td>NaN</td>\n",
       "      <td>NaN</td>\n",
       "      <td>NaN</td>\n",
       "      <td>NaN</td>\n",
       "      <td>NaN</td>\n",
       "    </tr>\n",
       "    <tr>\n",
       "      <td>2</td>\n",
       "      <td>2016</td>\n",
       "      <td>2016-07-10</td>\n",
       "      <td>7921</td>\n",
       "      <td>FA Women's Super League</td>\n",
       "      <td>Chelsea FC Women</td>\n",
       "      <td>Birmingham City</td>\n",
       "      <td>59.85</td>\n",
       "      <td>54.64</td>\n",
       "      <td>0.4799</td>\n",
       "      <td>0.2487</td>\n",
       "      <td>0.2714</td>\n",
       "      <td>1.53</td>\n",
       "      <td>1.03</td>\n",
       "      <td>NaN</td>\n",
       "      <td>NaN</td>\n",
       "      <td>1.0</td>\n",
       "      <td>1.0</td>\n",
       "      <td>NaN</td>\n",
       "      <td>NaN</td>\n",
       "      <td>NaN</td>\n",
       "      <td>NaN</td>\n",
       "      <td>NaN</td>\n",
       "      <td>NaN</td>\n",
       "    </tr>\n",
       "    <tr>\n",
       "      <td>3</td>\n",
       "      <td>2016</td>\n",
       "      <td>2016-07-16</td>\n",
       "      <td>7921</td>\n",
       "      <td>FA Women's Super League</td>\n",
       "      <td>Liverpool Women</td>\n",
       "      <td>Notts County Ladies</td>\n",
       "      <td>53.00</td>\n",
       "      <td>52.35</td>\n",
       "      <td>0.4289</td>\n",
       "      <td>0.2699</td>\n",
       "      <td>0.3013</td>\n",
       "      <td>1.27</td>\n",
       "      <td>0.94</td>\n",
       "      <td>NaN</td>\n",
       "      <td>NaN</td>\n",
       "      <td>0.0</td>\n",
       "      <td>0.0</td>\n",
       "      <td>NaN</td>\n",
       "      <td>NaN</td>\n",
       "      <td>NaN</td>\n",
       "      <td>NaN</td>\n",
       "      <td>NaN</td>\n",
       "      <td>NaN</td>\n",
       "    </tr>\n",
       "    <tr>\n",
       "      <td>4</td>\n",
       "      <td>2016</td>\n",
       "      <td>2016-07-17</td>\n",
       "      <td>7921</td>\n",
       "      <td>FA Women's Super League</td>\n",
       "      <td>Chelsea FC Women</td>\n",
       "      <td>Arsenal Women</td>\n",
       "      <td>59.43</td>\n",
       "      <td>60.99</td>\n",
       "      <td>0.4124</td>\n",
       "      <td>0.3157</td>\n",
       "      <td>0.2719</td>\n",
       "      <td>1.45</td>\n",
       "      <td>1.24</td>\n",
       "      <td>NaN</td>\n",
       "      <td>NaN</td>\n",
       "      <td>1.0</td>\n",
       "      <td>2.0</td>\n",
       "      <td>NaN</td>\n",
       "      <td>NaN</td>\n",
       "      <td>NaN</td>\n",
       "      <td>NaN</td>\n",
       "      <td>NaN</td>\n",
       "      <td>NaN</td>\n",
       "    </tr>\n",
       "  </tbody>\n",
       "</table>\n",
       "</div>"
      ],
      "text/plain": [
       "   season        date  league_id                   league             team1  \\\n",
       "0    2016  2016-07-09       7921  FA Women's Super League   Liverpool Women   \n",
       "1    2016  2016-07-10       7921  FA Women's Super League     Arsenal Women   \n",
       "2    2016  2016-07-10       7921  FA Women's Super League  Chelsea FC Women   \n",
       "3    2016  2016-07-16       7921  FA Women's Super League   Liverpool Women   \n",
       "4    2016  2016-07-17       7921  FA Women's Super League  Chelsea FC Women   \n",
       "\n",
       "                 team2   spi1   spi2   prob1   prob2  probtie  proj_score1  \\\n",
       "0              Reading  51.56  50.42  0.4389  0.2767   0.2844         1.39   \n",
       "1  Notts County Ladies  46.61  54.03  0.3572  0.3608   0.2819         1.27   \n",
       "2      Birmingham City  59.85  54.64  0.4799  0.2487   0.2714         1.53   \n",
       "3  Notts County Ladies  53.00  52.35  0.4289  0.2699   0.3013         1.27   \n",
       "4        Arsenal Women  59.43  60.99  0.4124  0.3157   0.2719         1.45   \n",
       "\n",
       "   proj_score2  importance1  importance2  score1  score2  xg1  xg2  nsxg1  \\\n",
       "0         1.05          NaN          NaN     2.0     0.0  NaN  NaN    NaN   \n",
       "1         1.28          NaN          NaN     2.0     0.0  NaN  NaN    NaN   \n",
       "2         1.03          NaN          NaN     1.0     1.0  NaN  NaN    NaN   \n",
       "3         0.94          NaN          NaN     0.0     0.0  NaN  NaN    NaN   \n",
       "4         1.24          NaN          NaN     1.0     2.0  NaN  NaN    NaN   \n",
       "\n",
       "   nsxg2  adj_score1  adj_score2  \n",
       "0    NaN         NaN         NaN  \n",
       "1    NaN         NaN         NaN  \n",
       "2    NaN         NaN         NaN  \n",
       "3    NaN         NaN         NaN  \n",
       "4    NaN         NaN         NaN  "
      ]
     },
     "execution_count": 5,
     "metadata": {},
     "output_type": "execute_result"
    }
   ],
   "source": [
    "spi.head()"
   ]
  },
  {
   "cell_type": "code",
   "execution_count": 6,
   "metadata": {},
   "outputs": [],
   "source": [
    "spi = spi[spi['league'] == 'Barclays Premier League']"
   ]
  },
  {
   "cell_type": "code",
   "execution_count": 7,
   "metadata": {},
   "outputs": [],
   "source": [
    "spi2 = spi"
   ]
  },
  {
   "cell_type": "code",
   "execution_count": 8,
   "metadata": {},
   "outputs": [],
   "source": [
    "spi = spi.rename(columns={'team1':'team', 'team2': 'team_opp', 'spi1': 'spi', 'spi2': 'spi_opp', 'proj_score1': 'proj_score', 'proj_score2': 'proj_score_opp', 'prob1': 'prob_w', 'prob2': 'prob_l', 'importance1': 'importance', 'importance2': 'importance_opp'})"
   ]
  },
  {
   "cell_type": "code",
   "execution_count": 9,
   "metadata": {},
   "outputs": [],
   "source": [
    "spi2 = spi2.rename(columns={'team2':'team', 'team1': 'team_opp', 'spi2': 'spi', 'spi1': 'spi_opp', 'proj_score2': 'proj_score', 'proj_score1': 'proj_score_opp', 'prob2': 'prob_w', 'prob1': 'prob_l', 'importance2': 'importance', 'importance1': 'importance_opp'})"
   ]
  },
  {
   "cell_type": "code",
   "execution_count": 10,
   "metadata": {},
   "outputs": [
    {
     "name": "stderr",
     "output_type": "stream",
     "text": [
      "/Users/andrewjpeters/opt/anaconda3/lib/python3.7/site-packages/pandas/core/frame.py:7123: FutureWarning: Sorting because non-concatenation axis is not aligned. A future version\n",
      "of pandas will change to not sort by default.\n",
      "\n",
      "To accept the future behavior, pass 'sort=False'.\n",
      "\n",
      "To retain the current behavior and silence the warning, pass 'sort=True'.\n",
      "\n",
      "  sort=sort,\n"
     ]
    }
   ],
   "source": [
    "spi = spi.append(spi2)"
   ]
  },
  {
   "cell_type": "code",
   "execution_count": 11,
   "metadata": {},
   "outputs": [],
   "source": [
    "spi = spi[['date', 'team', 'team_opp', 'spi', 'spi_opp', 'proj_score', 'proj_score_opp', 'prob_w', 'prob_l', 'probtie', 'importance', 'importance_opp']]"
   ]
  },
  {
   "cell_type": "code",
   "execution_count": 12,
   "metadata": {},
   "outputs": [
    {
     "data": {
      "text/plain": [
       "array(['Hull City', 'Burnley', 'Southampton', 'Everton', 'Crystal Palace',\n",
       "       'Middlesbrough', 'Manchester City', 'AFC Bournemouth', 'Arsenal',\n",
       "       'Chelsea', 'Manchester United', 'Stoke City', 'Swansea City',\n",
       "       'Tottenham Hotspur', 'West Bromwich Albion', 'Watford',\n",
       "       'Leicester City', 'Sunderland', 'West Ham United', 'Liverpool',\n",
       "       'Brighton and Hove Albion', 'Newcastle', 'Huddersfield Town',\n",
       "       'Fulham', 'Wolverhampton', 'Cardiff City', 'Norwich City',\n",
       "       'Aston Villa', 'Sheffield United', 'Leeds United'], dtype=object)"
      ]
     },
     "execution_count": 12,
     "metadata": {},
     "output_type": "execute_result"
    }
   ],
   "source": [
    "spi.team.unique()"
   ]
  },
  {
   "cell_type": "code",
   "execution_count": 13,
   "metadata": {},
   "outputs": [],
   "source": [
    "spi = spi.replace({'West Ham United': 'West Ham', \n",
    "    'Manchester City': 'Man City',\n",
    "    'Brighton and Hove Albion': 'Brighton',\n",
    "    'Cardiff City': 'Cardiff',\n",
    "    'Leicester City': 'Leicester',\n",
    "    'Tottenham Hotspur': 'Tottenham',\n",
    "    'AFC Bournemouth': 'Bournemouth',\n",
    "    'Huddersfield Town': 'Huddersfield',\n",
    "    'Wolverhampton': 'Wolves',\n",
    "    'Manchester United': 'Man United'})"
   ]
  },
  {
   "cell_type": "markdown",
   "metadata": {},
   "source": [
    "# import and append fantasy performance data"
   ]
  },
  {
   "cell_type": "code",
   "execution_count": 14,
   "metadata": {},
   "outputs": [],
   "source": [
    "cols = ['name', 'element','kickoff_time', 'total_points',  'fixture', 'opponent_team', 'team_a_score', 'team_h_score', 'was_home', 'season']"
   ]
  },
  {
   "cell_type": "code",
   "execution_count": 15,
   "metadata": {},
   "outputs": [],
   "source": [
    "# I had to change the column names in 2018-19 teams.csv to make a column called \"Team\", to correspond with other seasons"
   ]
  },
  {
   "cell_type": "code",
   "execution_count": 16,
   "metadata": {
    "tags": []
   },
   "outputs": [],
   "source": [
    "years = [('2018-19', 'ISO-8859-1'), ('2019-20', 'utf-8')]\n",
    "# later realized that the 2018-19 CSV is not encoded in UTF-8, so made the above into tuples including the explicit encoding\n",
    "players = pd.DataFrame()\n",
    "for year, encoding in years:\n",
    "    #import player-level data\n",
    "    players_section = '/Users/andrewjpeters/Documents/GitHub/fpl/data/'+year+'/gws/merged_gw.csv'\n",
    "    players_section = pd.read_csv(players_section, engine='python', encoding=encoding)\n",
    "    players_section['season'] = year[:4]\n",
    "    players_section = players_section[cols]\n",
    "    #merge fixture data to identify teams\n",
    "    fixtures = '/Users/andrewjpeters/Documents/GitHub/fpl/data/'+year+'/fixtures.csv'\n",
    "    fixtures = pd.read_csv(fixtures, engine='python')\n",
    "    fixtures = fixtures[['id', 'team_a', 'team_h']]\n",
    "    players_section = players_section.merge(fixtures, how='left', left_on='fixture', right_on='id')\n",
    "    #import and merge team names to align with 538 SPI data\n",
    "    teams = pd.read_csv('/Users/andrewjpeters/Documents/GitHub/fpl/data/'+year+'/teams.csv')\n",
    "    teams = teams[['id', 'Team']]\n",
    "    players_section = players_section.merge(teams, left_on='team_a', right_on='id')\n",
    "    players_section = players_section.rename(columns={'Team': 'team_a_name'})\n",
    "    players_section = players_section.merge(teams, left_on='team_h', right_on='id')\n",
    "    players_section = players_section.rename(columns={'Team': 'team_h_name'})\n",
    "    #import and merge player positions\n",
    "    positions = pd.read_csv('/Users/andrewjpeters/Documents/GitHub/fpl/data/'+year+'/players_raw.csv', engine='python')\n",
    "    players_section = players_section.merge(positions[['id', 'element_type']], how='left', left_on='element', right_on='id')\n",
    "    #append to full players dataframe\n",
    "    players = players.append(players_section, ignore_index=True)"
   ]
  },
  {
   "cell_type": "code",
   "execution_count": 17,
   "metadata": {},
   "outputs": [],
   "source": [
    "players['date'] = pd.to_datetime(players['kickoff_time'])"
   ]
  },
  {
   "cell_type": "code",
   "execution_count": 18,
   "metadata": {},
   "outputs": [],
   "source": [
    "players['date'] = players['date'].dt.strftime('%Y-%m-%d')"
   ]
  },
  {
   "cell_type": "code",
   "execution_count": 19,
   "metadata": {},
   "outputs": [],
   "source": [
    "def team_namer(was_home, home_team, away_team):\n",
    "    if was_home:\n",
    "        return home_team\n",
    "    else:\n",
    "        return away_team"
   ]
  },
  {
   "cell_type": "code",
   "execution_count": 20,
   "metadata": {},
   "outputs": [],
   "source": [
    "players['team'] = players.apply(lambda x: team_namer(x['was_home'], x['team_h_name'], x['team_a_name']), axis=1)"
   ]
  },
  {
   "cell_type": "code",
   "execution_count": 21,
   "metadata": {},
   "outputs": [],
   "source": [
    "players = players[['name', 'element','element_type','total_points', 'date', 'team', 'was_home', 'season']]"
   ]
  },
  {
   "cell_type": "code",
   "execution_count": 22,
   "metadata": {},
   "outputs": [],
   "source": [
    "players = players.replace({'Man Utd': 'Man United',\n",
    "                'Sheffield Utd': 'Sheffield United',\n",
    "                'Norwich': 'Norwich City',\n",
    "                'Spurs': 'Tottenham',\n",
    "})"
   ]
  },
  {
   "cell_type": "code",
   "execution_count": 23,
   "metadata": {},
   "outputs": [],
   "source": [
    "players = players.merge(spi, how='left', left_on=['date', 'team'], right_on=['date', 'team'])"
   ]
  },
  {
   "cell_type": "code",
   "execution_count": 24,
   "metadata": {},
   "outputs": [
    {
     "data": {
      "text/plain": [
       "name               0\n",
       "element            0\n",
       "element_type       0\n",
       "total_points       0\n",
       "date               0\n",
       "team               0\n",
       "was_home           0\n",
       "season             0\n",
       "team_opp          59\n",
       "spi               59\n",
       "spi_opp           59\n",
       "proj_score        59\n",
       "proj_score_opp    59\n",
       "prob_w            59\n",
       "prob_l            59\n",
       "probtie           59\n",
       "importance        59\n",
       "importance_opp    59\n",
       "dtype: int64"
      ]
     },
     "execution_count": 24,
     "metadata": {},
     "output_type": "execute_result"
    }
   ],
   "source": [
    "players.isnull().sum()"
   ]
  },
  {
   "cell_type": "code",
   "execution_count": 25,
   "metadata": {},
   "outputs": [
    {
     "data": {
      "text/html": [
       "<div>\n",
       "<style scoped>\n",
       "    .dataframe tbody tr th:only-of-type {\n",
       "        vertical-align: middle;\n",
       "    }\n",
       "\n",
       "    .dataframe tbody tr th {\n",
       "        vertical-align: top;\n",
       "    }\n",
       "\n",
       "    .dataframe thead th {\n",
       "        text-align: right;\n",
       "    }\n",
       "</style>\n",
       "<table border=\"1\" class=\"dataframe\">\n",
       "  <thead>\n",
       "    <tr style=\"text-align: right;\">\n",
       "      <th></th>\n",
       "      <th>name</th>\n",
       "      <th>element</th>\n",
       "      <th>element_type</th>\n",
       "      <th>total_points</th>\n",
       "      <th>date</th>\n",
       "      <th>team</th>\n",
       "      <th>was_home</th>\n",
       "      <th>season</th>\n",
       "      <th>team_opp</th>\n",
       "      <th>spi</th>\n",
       "      <th>spi_opp</th>\n",
       "      <th>proj_score</th>\n",
       "      <th>proj_score_opp</th>\n",
       "      <th>prob_w</th>\n",
       "      <th>prob_l</th>\n",
       "      <th>probtie</th>\n",
       "      <th>importance</th>\n",
       "      <th>importance_opp</th>\n",
       "    </tr>\n",
       "  </thead>\n",
       "  <tbody>\n",
       "    <tr>\n",
       "      <td>43660</td>\n",
       "      <td>John_Stones_207</td>\n",
       "      <td>207</td>\n",
       "      <td>2</td>\n",
       "      <td>0</td>\n",
       "      <td>2020-03-11</td>\n",
       "      <td>Man City</td>\n",
       "      <td>True</td>\n",
       "      <td>2019</td>\n",
       "      <td>NaN</td>\n",
       "      <td>NaN</td>\n",
       "      <td>NaN</td>\n",
       "      <td>NaN</td>\n",
       "      <td>NaN</td>\n",
       "      <td>NaN</td>\n",
       "      <td>NaN</td>\n",
       "      <td>NaN</td>\n",
       "      <td>NaN</td>\n",
       "      <td>NaN</td>\n",
       "    </tr>\n",
       "    <tr>\n",
       "      <td>43661</td>\n",
       "      <td>David_Silva_219</td>\n",
       "      <td>219</td>\n",
       "      <td>3</td>\n",
       "      <td>0</td>\n",
       "      <td>2020-03-11</td>\n",
       "      <td>Man City</td>\n",
       "      <td>True</td>\n",
       "      <td>2019</td>\n",
       "      <td>NaN</td>\n",
       "      <td>NaN</td>\n",
       "      <td>NaN</td>\n",
       "      <td>NaN</td>\n",
       "      <td>NaN</td>\n",
       "      <td>NaN</td>\n",
       "      <td>NaN</td>\n",
       "      <td>NaN</td>\n",
       "      <td>NaN</td>\n",
       "      <td>NaN</td>\n",
       "    </tr>\n",
       "    <tr>\n",
       "      <td>43662</td>\n",
       "      <td>Bukayo_Saka_541</td>\n",
       "      <td>541</td>\n",
       "      <td>3</td>\n",
       "      <td>0</td>\n",
       "      <td>2020-03-11</td>\n",
       "      <td>Arsenal</td>\n",
       "      <td>False</td>\n",
       "      <td>2019</td>\n",
       "      <td>NaN</td>\n",
       "      <td>NaN</td>\n",
       "      <td>NaN</td>\n",
       "      <td>NaN</td>\n",
       "      <td>NaN</td>\n",
       "      <td>NaN</td>\n",
       "      <td>NaN</td>\n",
       "      <td>NaN</td>\n",
       "      <td>NaN</td>\n",
       "      <td>NaN</td>\n",
       "    </tr>\n",
       "    <tr>\n",
       "      <td>43663</td>\n",
       "      <td>Sead_Kolasinac_3</td>\n",
       "      <td>3</td>\n",
       "      <td>2</td>\n",
       "      <td>0</td>\n",
       "      <td>2020-03-11</td>\n",
       "      <td>Arsenal</td>\n",
       "      <td>False</td>\n",
       "      <td>2019</td>\n",
       "      <td>NaN</td>\n",
       "      <td>NaN</td>\n",
       "      <td>NaN</td>\n",
       "      <td>NaN</td>\n",
       "      <td>NaN</td>\n",
       "      <td>NaN</td>\n",
       "      <td>NaN</td>\n",
       "      <td>NaN</td>\n",
       "      <td>NaN</td>\n",
       "      <td>NaN</td>\n",
       "    </tr>\n",
       "    <tr>\n",
       "      <td>43664</td>\n",
       "      <td>Bernd_Leno_14</td>\n",
       "      <td>14</td>\n",
       "      <td>1</td>\n",
       "      <td>0</td>\n",
       "      <td>2020-03-11</td>\n",
       "      <td>Arsenal</td>\n",
       "      <td>False</td>\n",
       "      <td>2019</td>\n",
       "      <td>NaN</td>\n",
       "      <td>NaN</td>\n",
       "      <td>NaN</td>\n",
       "      <td>NaN</td>\n",
       "      <td>NaN</td>\n",
       "      <td>NaN</td>\n",
       "      <td>NaN</td>\n",
       "      <td>NaN</td>\n",
       "      <td>NaN</td>\n",
       "      <td>NaN</td>\n",
       "    </tr>\n",
       "  </tbody>\n",
       "</table>\n",
       "</div>"
      ],
      "text/plain": [
       "                   name  element  element_type  total_points        date  \\\n",
       "43660   John_Stones_207      207             2             0  2020-03-11   \n",
       "43661   David_Silva_219      219             3             0  2020-03-11   \n",
       "43662   Bukayo_Saka_541      541             3             0  2020-03-11   \n",
       "43663  Sead_Kolasinac_3        3             2             0  2020-03-11   \n",
       "43664     Bernd_Leno_14       14             1             0  2020-03-11   \n",
       "\n",
       "           team  was_home season team_opp  spi  spi_opp  proj_score  \\\n",
       "43660  Man City      True   2019      NaN  NaN      NaN         NaN   \n",
       "43661  Man City      True   2019      NaN  NaN      NaN         NaN   \n",
       "43662   Arsenal     False   2019      NaN  NaN      NaN         NaN   \n",
       "43663   Arsenal     False   2019      NaN  NaN      NaN         NaN   \n",
       "43664   Arsenal     False   2019      NaN  NaN      NaN         NaN   \n",
       "\n",
       "       proj_score_opp  prob_w  prob_l  probtie  importance  importance_opp  \n",
       "43660             NaN     NaN     NaN      NaN         NaN             NaN  \n",
       "43661             NaN     NaN     NaN      NaN         NaN             NaN  \n",
       "43662             NaN     NaN     NaN      NaN         NaN             NaN  \n",
       "43663             NaN     NaN     NaN      NaN         NaN             NaN  \n",
       "43664             NaN     NaN     NaN      NaN         NaN             NaN  "
      ]
     },
     "execution_count": 25,
     "metadata": {},
     "output_type": "execute_result"
    }
   ],
   "source": [
    "players[players.team_opp.isnull()].head()"
   ]
  },
  {
   "cell_type": "code",
   "execution_count": 26,
   "metadata": {},
   "outputs": [],
   "source": [
    "# the 2020-03-11 Man City v. Arsenal game was postponed to 2020-06-17 because of Covid"
   ]
  },
  {
   "cell_type": "code",
   "execution_count": 27,
   "metadata": {},
   "outputs": [
    {
     "data": {
      "text/plain": [
       "array(['Man City', 'Arsenal'], dtype=object)"
      ]
     },
     "execution_count": 27,
     "metadata": {},
     "output_type": "execute_result"
    }
   ],
   "source": [
    "#check that there are no other null games\n",
    "players[players.team_opp.isnull()]['date'].unique()\n",
    "players[players.team_opp.isnull()]['team'].unique()"
   ]
  },
  {
   "cell_type": "code",
   "execution_count": 28,
   "metadata": {},
   "outputs": [],
   "source": [
    "#mke a new df for just the null game\n",
    "ars_man = players[players.team_opp.isnull()]"
   ]
  },
  {
   "cell_type": "code",
   "execution_count": 29,
   "metadata": {},
   "outputs": [
    {
     "data": {
      "text/plain": [
       "name              0\n",
       "element           0\n",
       "element_type      0\n",
       "total_points      0\n",
       "date              0\n",
       "team              0\n",
       "was_home          0\n",
       "season            0\n",
       "team_opp          0\n",
       "spi               0\n",
       "spi_opp           0\n",
       "proj_score        0\n",
       "proj_score_opp    0\n",
       "prob_w            0\n",
       "prob_l            0\n",
       "probtie           0\n",
       "importance        0\n",
       "importance_opp    0\n",
       "dtype: int64"
      ]
     },
     "execution_count": 29,
     "metadata": {},
     "output_type": "execute_result"
    }
   ],
   "source": [
    "#drop the null game from the players df\n",
    "players = players.dropna()\n",
    "players.isnull().sum()"
   ]
  },
  {
   "cell_type": "code",
   "execution_count": 30,
   "metadata": {},
   "outputs": [],
   "source": [
    "ars_man['date'] = '2020-06-17'"
   ]
  },
  {
   "cell_type": "code",
   "execution_count": 31,
   "metadata": {},
   "outputs": [],
   "source": [
    "ars_man = ars_man[['name', 'element','element_type','total_points', 'date', 'team', 'was_home', 'season']]"
   ]
  },
  {
   "cell_type": "code",
   "execution_count": 32,
   "metadata": {},
   "outputs": [],
   "source": [
    "ars_man = ars_man.merge(spi, how='left', on=['date', 'team'])"
   ]
  },
  {
   "cell_type": "code",
   "execution_count": 33,
   "metadata": {},
   "outputs": [
    {
     "data": {
      "text/html": [
       "<div>\n",
       "<style scoped>\n",
       "    .dataframe tbody tr th:only-of-type {\n",
       "        vertical-align: middle;\n",
       "    }\n",
       "\n",
       "    .dataframe tbody tr th {\n",
       "        vertical-align: top;\n",
       "    }\n",
       "\n",
       "    .dataframe thead th {\n",
       "        text-align: right;\n",
       "    }\n",
       "</style>\n",
       "<table border=\"1\" class=\"dataframe\">\n",
       "  <thead>\n",
       "    <tr style=\"text-align: right;\">\n",
       "      <th></th>\n",
       "      <th>name</th>\n",
       "      <th>element</th>\n",
       "      <th>element_type</th>\n",
       "      <th>total_points</th>\n",
       "      <th>date</th>\n",
       "      <th>team</th>\n",
       "      <th>was_home</th>\n",
       "      <th>season</th>\n",
       "      <th>team_opp</th>\n",
       "      <th>spi</th>\n",
       "      <th>spi_opp</th>\n",
       "      <th>proj_score</th>\n",
       "      <th>proj_score_opp</th>\n",
       "      <th>prob_w</th>\n",
       "      <th>prob_l</th>\n",
       "      <th>probtie</th>\n",
       "      <th>importance</th>\n",
       "      <th>importance_opp</th>\n",
       "    </tr>\n",
       "  </thead>\n",
       "  <tbody>\n",
       "    <tr>\n",
       "      <td>0</td>\n",
       "      <td>John_Stones_207</td>\n",
       "      <td>207</td>\n",
       "      <td>2</td>\n",
       "      <td>0</td>\n",
       "      <td>2020-06-17</td>\n",
       "      <td>Man City</td>\n",
       "      <td>True</td>\n",
       "      <td>2019</td>\n",
       "      <td>Arsenal</td>\n",
       "      <td>94.80</td>\n",
       "      <td>76.77</td>\n",
       "      <td>2.68</td>\n",
       "      <td>0.77</td>\n",
       "      <td>0.7727</td>\n",
       "      <td>0.0828</td>\n",
       "      <td>0.1445</td>\n",
       "      <td>0.0</td>\n",
       "      <td>40.2</td>\n",
       "    </tr>\n",
       "    <tr>\n",
       "      <td>1</td>\n",
       "      <td>David_Silva_219</td>\n",
       "      <td>219</td>\n",
       "      <td>3</td>\n",
       "      <td>0</td>\n",
       "      <td>2020-06-17</td>\n",
       "      <td>Man City</td>\n",
       "      <td>True</td>\n",
       "      <td>2019</td>\n",
       "      <td>Arsenal</td>\n",
       "      <td>94.80</td>\n",
       "      <td>76.77</td>\n",
       "      <td>2.68</td>\n",
       "      <td>0.77</td>\n",
       "      <td>0.7727</td>\n",
       "      <td>0.0828</td>\n",
       "      <td>0.1445</td>\n",
       "      <td>0.0</td>\n",
       "      <td>40.2</td>\n",
       "    </tr>\n",
       "    <tr>\n",
       "      <td>2</td>\n",
       "      <td>Bukayo_Saka_541</td>\n",
       "      <td>541</td>\n",
       "      <td>3</td>\n",
       "      <td>0</td>\n",
       "      <td>2020-06-17</td>\n",
       "      <td>Arsenal</td>\n",
       "      <td>False</td>\n",
       "      <td>2019</td>\n",
       "      <td>Man City</td>\n",
       "      <td>76.77</td>\n",
       "      <td>94.80</td>\n",
       "      <td>0.77</td>\n",
       "      <td>2.68</td>\n",
       "      <td>0.0828</td>\n",
       "      <td>0.7727</td>\n",
       "      <td>0.1445</td>\n",
       "      <td>40.2</td>\n",
       "      <td>0.0</td>\n",
       "    </tr>\n",
       "    <tr>\n",
       "      <td>3</td>\n",
       "      <td>Sead_Kolasinac_3</td>\n",
       "      <td>3</td>\n",
       "      <td>2</td>\n",
       "      <td>0</td>\n",
       "      <td>2020-06-17</td>\n",
       "      <td>Arsenal</td>\n",
       "      <td>False</td>\n",
       "      <td>2019</td>\n",
       "      <td>Man City</td>\n",
       "      <td>76.77</td>\n",
       "      <td>94.80</td>\n",
       "      <td>0.77</td>\n",
       "      <td>2.68</td>\n",
       "      <td>0.0828</td>\n",
       "      <td>0.7727</td>\n",
       "      <td>0.1445</td>\n",
       "      <td>40.2</td>\n",
       "      <td>0.0</td>\n",
       "    </tr>\n",
       "    <tr>\n",
       "      <td>4</td>\n",
       "      <td>Bernd_Leno_14</td>\n",
       "      <td>14</td>\n",
       "      <td>1</td>\n",
       "      <td>0</td>\n",
       "      <td>2020-06-17</td>\n",
       "      <td>Arsenal</td>\n",
       "      <td>False</td>\n",
       "      <td>2019</td>\n",
       "      <td>Man City</td>\n",
       "      <td>76.77</td>\n",
       "      <td>94.80</td>\n",
       "      <td>0.77</td>\n",
       "      <td>2.68</td>\n",
       "      <td>0.0828</td>\n",
       "      <td>0.7727</td>\n",
       "      <td>0.1445</td>\n",
       "      <td>40.2</td>\n",
       "      <td>0.0</td>\n",
       "    </tr>\n",
       "  </tbody>\n",
       "</table>\n",
       "</div>"
      ],
      "text/plain": [
       "               name  element  element_type  total_points        date  \\\n",
       "0   John_Stones_207      207             2             0  2020-06-17   \n",
       "1   David_Silva_219      219             3             0  2020-06-17   \n",
       "2   Bukayo_Saka_541      541             3             0  2020-06-17   \n",
       "3  Sead_Kolasinac_3        3             2             0  2020-06-17   \n",
       "4     Bernd_Leno_14       14             1             0  2020-06-17   \n",
       "\n",
       "       team  was_home season  team_opp    spi  spi_opp  proj_score  \\\n",
       "0  Man City      True   2019   Arsenal  94.80    76.77        2.68   \n",
       "1  Man City      True   2019   Arsenal  94.80    76.77        2.68   \n",
       "2   Arsenal     False   2019  Man City  76.77    94.80        0.77   \n",
       "3   Arsenal     False   2019  Man City  76.77    94.80        0.77   \n",
       "4   Arsenal     False   2019  Man City  76.77    94.80        0.77   \n",
       "\n",
       "   proj_score_opp  prob_w  prob_l  probtie  importance  importance_opp  \n",
       "0            0.77  0.7727  0.0828   0.1445         0.0            40.2  \n",
       "1            0.77  0.7727  0.0828   0.1445         0.0            40.2  \n",
       "2            2.68  0.0828  0.7727   0.1445        40.2             0.0  \n",
       "3            2.68  0.0828  0.7727   0.1445        40.2             0.0  \n",
       "4            2.68  0.0828  0.7727   0.1445        40.2             0.0  "
      ]
     },
     "execution_count": 33,
     "metadata": {},
     "output_type": "execute_result"
    }
   ],
   "source": [
    "ars_man.head()"
   ]
  },
  {
   "cell_type": "code",
   "execution_count": 34,
   "metadata": {},
   "outputs": [
    {
     "data": {
      "text/plain": [
       "name              0\n",
       "element           0\n",
       "element_type      0\n",
       "total_points      0\n",
       "date              0\n",
       "team              0\n",
       "was_home          0\n",
       "season            0\n",
       "team_opp          0\n",
       "spi               0\n",
       "spi_opp           0\n",
       "proj_score        0\n",
       "proj_score_opp    0\n",
       "prob_w            0\n",
       "prob_l            0\n",
       "probtie           0\n",
       "importance        0\n",
       "importance_opp    0\n",
       "dtype: int64"
      ]
     },
     "execution_count": 34,
     "metadata": {},
     "output_type": "execute_result"
    }
   ],
   "source": [
    "ars_man.isnull().sum()"
   ]
  },
  {
   "cell_type": "code",
   "execution_count": 35,
   "metadata": {},
   "outputs": [],
   "source": [
    "players = players.append(ars_man)"
   ]
  },
  {
   "cell_type": "code",
   "execution_count": 36,
   "metadata": {},
   "outputs": [],
   "source": [
    "players['spi_d'] = players['spi'] - players['spi_opp']\n",
    "players['proj_score_d'] = players['proj_score'] - players['proj_score_opp']"
   ]
  },
  {
   "cell_type": "code",
   "execution_count": 37,
   "metadata": {},
   "outputs": [
    {
     "data": {
      "text/plain": [
       "'\\nHypothesis: high number of players earning 0 points throws off data\\n'"
      ]
     },
     "execution_count": 37,
     "metadata": {},
     "output_type": "execute_result"
    }
   ],
   "source": [
    "'''\n",
    "Hypothesis: high number of players earning 0 points throws off data\n",
    "'''"
   ]
  },
  {
   "cell_type": "code",
   "execution_count": 38,
   "metadata": {},
   "outputs": [
    {
     "data": {
      "text/plain": [
       "\"\\ndecided to look at all players scoring over 40 points, rather than percentile -- this includes more players\\ntop_players['rank'] = top_players['total_points'].rank(pct=True)\\ntop_players = top_players[top_players['rank'] >= .5].sort_values('total_points')\\n\""
      ]
     },
     "execution_count": 38,
     "metadata": {},
     "output_type": "execute_result"
    }
   ],
   "source": [
    "'''\n",
    "decided to look at all players scoring over 40 points, rather than percentile -- this includes more players\n",
    "top_players['rank'] = top_players['total_points'].rank(pct=True)\n",
    "top_players = top_players[top_players['rank'] >= .5].sort_values('total_points')\n",
    "'''"
   ]
  },
  {
   "cell_type": "code",
   "execution_count": 39,
   "metadata": {},
   "outputs": [],
   "source": [
    "# season_points = players.groupby(['name', 'element', 'season'])['total_points'].sum().reset_index()\n",
    "# top_players = season_points[season_points['total_points'] > 40]\n",
    "# players = players[players['name'].isin(top_players.name)]"
   ]
  },
  {
   "cell_type": "code",
   "execution_count": 40,
   "metadata": {},
   "outputs": [],
   "source": [
    "players['name'] = players['name'].str.replace('\\d+', '')"
   ]
  },
  {
   "cell_type": "code",
   "execution_count": 41,
   "metadata": {},
   "outputs": [],
   "source": [
    "players['name'] = players['name'].str.rstrip('_')"
   ]
  },
  {
   "cell_type": "code",
   "execution_count": 42,
   "metadata": {},
   "outputs": [],
   "source": [
    "players['name'] = players['name'].str.replace('_', ' ')"
   ]
  },
  {
   "cell_type": "code",
   "execution_count": 43,
   "metadata": {},
   "outputs": [
    {
     "data": {
      "text/plain": [
       "['name',\n",
       " 'element',\n",
       " 'element_type',\n",
       " 'total_points',\n",
       " 'date',\n",
       " 'team',\n",
       " 'was_home',\n",
       " 'season',\n",
       " 'team_opp',\n",
       " 'spi',\n",
       " 'spi_opp',\n",
       " 'proj_score',\n",
       " 'proj_score_opp',\n",
       " 'prob_w',\n",
       " 'prob_l',\n",
       " 'probtie',\n",
       " 'importance',\n",
       " 'importance_opp',\n",
       " 'spi_d',\n",
       " 'proj_score_d']"
      ]
     },
     "execution_count": 43,
     "metadata": {},
     "output_type": "execute_result"
    }
   ],
   "source": [
    "list(players)"
   ]
  },
  {
   "cell_type": "code",
   "execution_count": 44,
   "metadata": {},
   "outputs": [
    {
     "data": {
      "text/html": [
       "<div>\n",
       "<style scoped>\n",
       "    .dataframe tbody tr th:only-of-type {\n",
       "        vertical-align: middle;\n",
       "    }\n",
       "\n",
       "    .dataframe tbody tr th {\n",
       "        vertical-align: top;\n",
       "    }\n",
       "\n",
       "    .dataframe thead th {\n",
       "        text-align: right;\n",
       "    }\n",
       "</style>\n",
       "<table border=\"1\" class=\"dataframe\">\n",
       "  <thead>\n",
       "    <tr style=\"text-align: right;\">\n",
       "      <th></th>\n",
       "      <th>name</th>\n",
       "      <th>element</th>\n",
       "      <th>element_type</th>\n",
       "      <th>total_points</th>\n",
       "      <th>date</th>\n",
       "      <th>team</th>\n",
       "      <th>was_home</th>\n",
       "      <th>season</th>\n",
       "      <th>team_opp</th>\n",
       "      <th>spi</th>\n",
       "      <th>spi_opp</th>\n",
       "      <th>proj_score</th>\n",
       "      <th>proj_score_opp</th>\n",
       "      <th>prob_w</th>\n",
       "      <th>prob_l</th>\n",
       "      <th>probtie</th>\n",
       "      <th>importance</th>\n",
       "      <th>importance_opp</th>\n",
       "      <th>spi_d</th>\n",
       "      <th>proj_score_d</th>\n",
       "    </tr>\n",
       "  </thead>\n",
       "  <tbody>\n",
       "    <tr>\n",
       "      <td>0</td>\n",
       "      <td>Aaron Cresswell</td>\n",
       "      <td>402</td>\n",
       "      <td>2</td>\n",
       "      <td>0</td>\n",
       "      <td>2018-08-12</td>\n",
       "      <td>West Ham</td>\n",
       "      <td>False</td>\n",
       "      <td>2018</td>\n",
       "      <td>Liverpool</td>\n",
       "      <td>64.54</td>\n",
       "      <td>88.86</td>\n",
       "      <td>0.55</td>\n",
       "      <td>2.75</td>\n",
       "      <td>0.0505</td>\n",
       "      <td>0.8203</td>\n",
       "      <td>0.1292</td>\n",
       "      <td>20.7</td>\n",
       "      <td>54.8</td>\n",
       "      <td>-24.32</td>\n",
       "      <td>-2.2</td>\n",
       "    </tr>\n",
       "    <tr>\n",
       "      <td>1</td>\n",
       "      <td>Adam Lallana</td>\n",
       "      <td>250</td>\n",
       "      <td>3</td>\n",
       "      <td>0</td>\n",
       "      <td>2018-08-12</td>\n",
       "      <td>Liverpool</td>\n",
       "      <td>True</td>\n",
       "      <td>2018</td>\n",
       "      <td>West Ham</td>\n",
       "      <td>88.86</td>\n",
       "      <td>64.54</td>\n",
       "      <td>2.75</td>\n",
       "      <td>0.55</td>\n",
       "      <td>0.8203</td>\n",
       "      <td>0.0505</td>\n",
       "      <td>0.1292</td>\n",
       "      <td>54.8</td>\n",
       "      <td>20.7</td>\n",
       "      <td>24.32</td>\n",
       "      <td>2.2</td>\n",
       "    </tr>\n",
       "    <tr>\n",
       "      <td>2</td>\n",
       "      <td>Adrián San Miguel del Castillo</td>\n",
       "      <td>399</td>\n",
       "      <td>1</td>\n",
       "      <td>0</td>\n",
       "      <td>2018-08-12</td>\n",
       "      <td>West Ham</td>\n",
       "      <td>False</td>\n",
       "      <td>2018</td>\n",
       "      <td>Liverpool</td>\n",
       "      <td>64.54</td>\n",
       "      <td>88.86</td>\n",
       "      <td>0.55</td>\n",
       "      <td>2.75</td>\n",
       "      <td>0.0505</td>\n",
       "      <td>0.8203</td>\n",
       "      <td>0.1292</td>\n",
       "      <td>20.7</td>\n",
       "      <td>54.8</td>\n",
       "      <td>-24.32</td>\n",
       "      <td>-2.2</td>\n",
       "    </tr>\n",
       "    <tr>\n",
       "      <td>3</td>\n",
       "      <td>Alberto Moreno</td>\n",
       "      <td>240</td>\n",
       "      <td>2</td>\n",
       "      <td>0</td>\n",
       "      <td>2018-08-12</td>\n",
       "      <td>Liverpool</td>\n",
       "      <td>True</td>\n",
       "      <td>2018</td>\n",
       "      <td>West Ham</td>\n",
       "      <td>88.86</td>\n",
       "      <td>64.54</td>\n",
       "      <td>2.75</td>\n",
       "      <td>0.55</td>\n",
       "      <td>0.8203</td>\n",
       "      <td>0.0505</td>\n",
       "      <td>0.1292</td>\n",
       "      <td>54.8</td>\n",
       "      <td>20.7</td>\n",
       "      <td>24.32</td>\n",
       "      <td>2.2</td>\n",
       "    </tr>\n",
       "    <tr>\n",
       "      <td>4</td>\n",
       "      <td>Alex Oxlade-Chamberlain</td>\n",
       "      <td>248</td>\n",
       "      <td>3</td>\n",
       "      <td>0</td>\n",
       "      <td>2018-08-12</td>\n",
       "      <td>Liverpool</td>\n",
       "      <td>True</td>\n",
       "      <td>2018</td>\n",
       "      <td>West Ham</td>\n",
       "      <td>88.86</td>\n",
       "      <td>64.54</td>\n",
       "      <td>2.75</td>\n",
       "      <td>0.55</td>\n",
       "      <td>0.8203</td>\n",
       "      <td>0.0505</td>\n",
       "      <td>0.1292</td>\n",
       "      <td>54.8</td>\n",
       "      <td>20.7</td>\n",
       "      <td>24.32</td>\n",
       "      <td>2.2</td>\n",
       "    </tr>\n",
       "  </tbody>\n",
       "</table>\n",
       "</div>"
      ],
      "text/plain": [
       "                             name  element  element_type  total_points  \\\n",
       "0                 Aaron Cresswell      402             2             0   \n",
       "1                    Adam Lallana      250             3             0   \n",
       "2  Adrián San Miguel del Castillo      399             1             0   \n",
       "3                  Alberto Moreno      240             2             0   \n",
       "4         Alex Oxlade-Chamberlain      248             3             0   \n",
       "\n",
       "         date       team  was_home season   team_opp    spi  spi_opp  \\\n",
       "0  2018-08-12   West Ham     False   2018  Liverpool  64.54    88.86   \n",
       "1  2018-08-12  Liverpool      True   2018   West Ham  88.86    64.54   \n",
       "2  2018-08-12   West Ham     False   2018  Liverpool  64.54    88.86   \n",
       "3  2018-08-12  Liverpool      True   2018   West Ham  88.86    64.54   \n",
       "4  2018-08-12  Liverpool      True   2018   West Ham  88.86    64.54   \n",
       "\n",
       "   proj_score  proj_score_opp  prob_w  prob_l  probtie  importance  \\\n",
       "0        0.55            2.75  0.0505  0.8203   0.1292        20.7   \n",
       "1        2.75            0.55  0.8203  0.0505   0.1292        54.8   \n",
       "2        0.55            2.75  0.0505  0.8203   0.1292        20.7   \n",
       "3        2.75            0.55  0.8203  0.0505   0.1292        54.8   \n",
       "4        2.75            0.55  0.8203  0.0505   0.1292        54.8   \n",
       "\n",
       "   importance_opp  spi_d  proj_score_d  \n",
       "0            54.8 -24.32          -2.2  \n",
       "1            20.7  24.32           2.2  \n",
       "2            54.8 -24.32          -2.2  \n",
       "3            20.7  24.32           2.2  \n",
       "4            20.7  24.32           2.2  "
      ]
     },
     "execution_count": 44,
     "metadata": {},
     "output_type": "execute_result"
    }
   ],
   "source": [
    "players.head()"
   ]
  },
  {
   "cell_type": "code",
   "execution_count": 45,
   "metadata": {},
   "outputs": [],
   "source": [
    "points_to_date = players.groupby(['name', 'element', 'season','date'])['total_points'].sum().reset_index()"
   ]
  },
  {
   "cell_type": "markdown",
   "metadata": {},
   "source": [
    "-> avg_points_to_date looks at the player's average points over the past 5 games <-"
   ]
  },
  {
   "cell_type": "code",
   "execution_count": 46,
   "metadata": {},
   "outputs": [],
   "source": [
    "def avg_points_to_date(player, date):\n",
    "    section = points_to_date[(points_to_date['date'] < date) & (points_to_date['name'] == player)]['total_points'].tail(5)\n",
    "    if len(section) == 0:\n",
    "        return 0\n",
    "    else:\n",
    "        return float(section.mean())"
   ]
  },
  {
   "cell_type": "code",
   "execution_count": 47,
   "metadata": {},
   "outputs": [],
   "source": [
    "points_to_date['avg_points'] = points_to_date.apply(lambda x: avg_points_to_date(x['name'] ,x['date']), axis=1)"
   ]
  },
  {
   "cell_type": "code",
   "execution_count": 48,
   "metadata": {},
   "outputs": [],
   "source": [
    "players = players.merge(points_to_date[['name', 'date', 'avg_points']], on=['name', 'date'])"
   ]
  },
  {
   "cell_type": "code",
   "execution_count": 49,
   "metadata": {},
   "outputs": [],
   "source": [
    "injury_list = pd.DataFrame()\n",
    "for season in ['2018-19', '2019-20']:\n",
    "    dirs = list(glob('/Users/andrewjpeters/Documents/GitHub/fpl/data/'+season+'/players/*/'))\n",
    "    for player in dirs:\n",
    "        path = player + 'gw.csv'\n",
    "        gw_history = pd.read_csv(path)\n",
    "        gw_history['played_more_than_20'] = pd.cut(gw_history.minutes, bins=[0, 20, 100], labels=[0,1], include_lowest=True)\n",
    "        gw_history = gw_history[['element', 'kickoff_time', 'minutes', 'played_more_than_20', 'value']]\n",
    "        injury_list = injury_list.append(gw_history)\n",
    "injury_list['date'] = pd.to_datetime(injury_list.kickoff_time)\n",
    "injury_list['date'] = injury_list['date'].dt.strftime('%Y-%m-%d')"
   ]
  },
  {
   "cell_type": "code",
   "execution_count": 50,
   "metadata": {},
   "outputs": [],
   "source": [
    "players = players.merge(injury_list[['element', 'date', 'value', 'played_more_than_20']], how='left', on=['element', 'date'])"
   ]
  },
  {
   "cell_type": "code",
   "execution_count": 51,
   "metadata": {},
   "outputs": [
    {
     "data": {
      "text/plain": [
       "name                   0\n",
       "element                0\n",
       "element_type           0\n",
       "total_points           0\n",
       "date                   0\n",
       "team                   0\n",
       "was_home               0\n",
       "season                 0\n",
       "team_opp               0\n",
       "spi                    0\n",
       "spi_opp                0\n",
       "proj_score             0\n",
       "proj_score_opp         0\n",
       "prob_w                 0\n",
       "prob_l                 0\n",
       "probtie                0\n",
       "importance             0\n",
       "importance_opp         0\n",
       "spi_d                  0\n",
       "proj_score_d           0\n",
       "avg_points             0\n",
       "value                  2\n",
       "played_more_than_20    2\n",
       "dtype: int64"
      ]
     },
     "execution_count": 51,
     "metadata": {},
     "output_type": "execute_result"
    }
   ],
   "source": [
    "players.isnull().sum()"
   ]
  },
  {
   "cell_type": "code",
   "execution_count": 52,
   "metadata": {},
   "outputs": [
    {
     "data": {
      "text/html": [
       "<div>\n",
       "<style scoped>\n",
       "    .dataframe tbody tr th:only-of-type {\n",
       "        vertical-align: middle;\n",
       "    }\n",
       "\n",
       "    .dataframe tbody tr th {\n",
       "        vertical-align: top;\n",
       "    }\n",
       "\n",
       "    .dataframe thead th {\n",
       "        text-align: right;\n",
       "    }\n",
       "</style>\n",
       "<table border=\"1\" class=\"dataframe\">\n",
       "  <thead>\n",
       "    <tr style=\"text-align: right;\">\n",
       "      <th></th>\n",
       "      <th>name</th>\n",
       "      <th>element</th>\n",
       "      <th>element_type</th>\n",
       "      <th>total_points</th>\n",
       "      <th>date</th>\n",
       "      <th>team</th>\n",
       "      <th>was_home</th>\n",
       "      <th>season</th>\n",
       "      <th>team_opp</th>\n",
       "      <th>spi</th>\n",
       "      <th>spi_opp</th>\n",
       "      <th>proj_score</th>\n",
       "      <th>proj_score_opp</th>\n",
       "      <th>prob_w</th>\n",
       "      <th>prob_l</th>\n",
       "      <th>probtie</th>\n",
       "      <th>importance</th>\n",
       "      <th>importance_opp</th>\n",
       "      <th>spi_d</th>\n",
       "      <th>proj_score_d</th>\n",
       "      <th>avg_points</th>\n",
       "      <th>value</th>\n",
       "      <th>played_more_than_20</th>\n",
       "    </tr>\n",
       "  </thead>\n",
       "  <tbody>\n",
       "    <tr>\n",
       "      <td>27006</td>\n",
       "      <td>Cenk Tosun</td>\n",
       "      <td>146</td>\n",
       "      <td>4</td>\n",
       "      <td>0</td>\n",
       "      <td>2020-06-29</td>\n",
       "      <td>Crystal Palace</td>\n",
       "      <td>True</td>\n",
       "      <td>2019</td>\n",
       "      <td>Burnley</td>\n",
       "      <td>69.70</td>\n",
       "      <td>70.59</td>\n",
       "      <td>1.15</td>\n",
       "      <td>1.07</td>\n",
       "      <td>0.3711</td>\n",
       "      <td>0.3316</td>\n",
       "      <td>0.2973</td>\n",
       "      <td>0.8</td>\n",
       "      <td>0.8</td>\n",
       "      <td>-0.89</td>\n",
       "      <td>0.08</td>\n",
       "      <td>2.2</td>\n",
       "      <td>NaN</td>\n",
       "      <td>NaN</td>\n",
       "    </tr>\n",
       "    <tr>\n",
       "      <td>32829</td>\n",
       "      <td>Ryan Bennett</td>\n",
       "      <td>404</td>\n",
       "      <td>2</td>\n",
       "      <td>0</td>\n",
       "      <td>2020-01-23</td>\n",
       "      <td>Wolves</td>\n",
       "      <td>True</td>\n",
       "      <td>2019</td>\n",
       "      <td>Liverpool</td>\n",
       "      <td>78.63</td>\n",
       "      <td>94.30</td>\n",
       "      <td>1.10</td>\n",
       "      <td>1.86</td>\n",
       "      <td>0.2195</td>\n",
       "      <td>0.5486</td>\n",
       "      <td>0.2319</td>\n",
       "      <td>43.2</td>\n",
       "      <td>6.6</td>\n",
       "      <td>-15.67</td>\n",
       "      <td>-0.76</td>\n",
       "      <td>3.0</td>\n",
       "      <td>NaN</td>\n",
       "      <td>NaN</td>\n",
       "    </tr>\n",
       "  </tbody>\n",
       "</table>\n",
       "</div>"
      ],
      "text/plain": [
       "               name  element  element_type  total_points        date  \\\n",
       "27006    Cenk Tosun      146             4             0  2020-06-29   \n",
       "32829  Ryan Bennett      404             2             0  2020-01-23   \n",
       "\n",
       "                 team  was_home season   team_opp    spi  spi_opp  proj_score  \\\n",
       "27006  Crystal Palace      True   2019    Burnley  69.70    70.59        1.15   \n",
       "32829          Wolves      True   2019  Liverpool  78.63    94.30        1.10   \n",
       "\n",
       "       proj_score_opp  prob_w  prob_l  probtie  importance  importance_opp  \\\n",
       "27006            1.07  0.3711  0.3316   0.2973         0.8             0.8   \n",
       "32829            1.86  0.2195  0.5486   0.2319        43.2             6.6   \n",
       "\n",
       "       spi_d  proj_score_d  avg_points  value played_more_than_20  \n",
       "27006  -0.89          0.08         2.2    NaN                 NaN  \n",
       "32829 -15.67         -0.76         3.0    NaN                 NaN  "
      ]
     },
     "execution_count": 52,
     "metadata": {},
     "output_type": "execute_result"
    }
   ],
   "source": [
    "players[players.value.isnull()]"
   ]
  },
  {
   "cell_type": "code",
   "execution_count": 53,
   "metadata": {},
   "outputs": [],
   "source": [
    "players = players.dropna()"
   ]
  },
  {
   "cell_type": "markdown",
   "metadata": {},
   "source": [
    "# Begin ML Work"
   ]
  },
  {
   "cell_type": "code",
   "execution_count": 54,
   "metadata": {},
   "outputs": [],
   "source": [
    "from sklearn.model_selection import train_test_split\n",
    "from sklearn import model_selection\n",
    "from sklearn.model_selection import cross_val_predict\n",
    "from sklearn.preprocessing import MinMaxScaler\n",
    "from sklearn.metrics import mean_squared_error\n",
    "from sklearn.metrics import mean_absolute_error\n",
    "from sklearn.preprocessing import LabelEncoder\n",
    "from sklearn.linear_model import SGDRegressor\n",
    "from sklearn.linear_model import Lasso\n",
    "from sklearn.linear_model import ElasticNet\n",
    "from sklearn.linear_model import Ridge\n",
    "from sklearn.tree import DecisionTreeRegressor\n",
    "from sklearn.tree import DecisionTreeClassifier\n",
    "from sklearn.ensemble import RandomForestClassifier\n",
    "from sklearn.preprocessing import OneHotEncoder"
   ]
  },
  {
   "cell_type": "code",
   "execution_count": 55,
   "metadata": {},
   "outputs": [],
   "source": [
    "lb_make = LabelEncoder()"
   ]
  },
  {
   "cell_type": "code",
   "execution_count": 56,
   "metadata": {},
   "outputs": [],
   "source": [
    "players['name_code'] = lb_make.fit_transform(players['name'])"
   ]
  },
  {
   "cell_type": "markdown",
   "metadata": {},
   "source": [
    "## compare classifiers"
   ]
  },
  {
   "cell_type": "code",
   "execution_count": 57,
   "metadata": {},
   "outputs": [],
   "source": [
    "feature_cols = ['name_code','spi', 'spi_opp', 'proj_score', 'proj_score_opp', 'spi_d', 'proj_score_d', 'avg_points', 'prob_w', 'prob_l', 'probtie', 'importance', 'importance_opp', 'element_type', 'was_home', 'played_more_than_20']\n",
    "\n",
    "feature_cols_no_name = ['spi', 'spi_opp', 'proj_score', 'proj_score_opp', 'spi_d', 'proj_score_d', 'avg_points', 'prob_w', 'prob_l', 'probtie', 'importance', 'importance_opp', 'element_type', 'was_home', 'played_more_than_20']"
   ]
  },
  {
   "cell_type": "code",
   "execution_count": 58,
   "metadata": {},
   "outputs": [],
   "source": [
    "features_name = players[feature_cols]\n",
    "features_no_name = players[feature_cols_no_name]\n",
    "labels = players['total_points']"
   ]
  },
  {
   "cell_type": "code",
   "execution_count": 59,
   "metadata": {},
   "outputs": [],
   "source": [
    "# prepare configuration for cross validation test harness\n",
    "seed = 7\n",
    "# prepare models\n",
    "models = []\n",
    "# models.append(('SGD', SGDRegressor()))\n",
    "models.append(('DTR', DecisionTreeRegressor()))\n",
    "models.append(('DTC', DecisionTreeClassifier()))\n",
    "models.append(('Lasso', Lasso()))\n",
    "models.append(('Elastic Net', ElasticNet()))\n",
    "models.append(('Ridge', Ridge()))\n",
    "models.append(('Random Forest', RandomForestClassifier()))\n",
    "# evaluate each model in turn"
   ]
  },
  {
   "cell_type": "code",
   "execution_count": 60,
   "metadata": {
    "tags": []
   },
   "outputs": [
    {
     "data": {
      "text/plain": [
       "'\\n#commenting out because i\\'ve already selected my model\\n\\n# evaluate each model in turn\\nfeature_sets = [features_name, features_no_name]\\nresults = []\\nnames = []\\nscoring = \\'r2\\'\\nfor name, model in models:\\n    for features in feature_sets:\\n        kfold = model_selection.KFold(n_splits=10, random_state=seed)\\n        scaler = MinMaxScaler(feature_range=(0, 1))\\n        features = scaler.fit_transform(features)\\n        cv_results = model_selection.cross_val_score(model, features, labels, cv=kfold, scoring=scoring)\\n        results.append(cv_results)\\n        names.append(name)\\n        msg = \"%s: %f (%f)\" % (name, cv_results.mean(), cv_results.std())\\n        print(msg)\\n        predicted = cross_val_predict(model, features, labels, cv=kfold)\\n        fig, ax = plt.subplots()\\n        ax.scatter(labels, predicted, edgecolors=(0, 0, 0))\\n        ax.plot([labels.min(), labels.max()], [labels.min(), labels.max()], \\'k--\\', lw=4)\\n        fig.suptitle(name)\\n        ax.set_xlabel(\\'Measured\\')\\n        ax.set_ylabel(\\'Predicted\\') \\n# boxplot algorithm comparison\\nfig = plt.figure()\\nfig.suptitle(\\'Algorithm Comparison\\')\\nax = fig.add_subplot(111)\\nplt.boxplot(results)\\nax.set_xticklabels(names)\\nplt.show()\\n'"
      ]
     },
     "execution_count": 60,
     "metadata": {},
     "output_type": "execute_result"
    }
   ],
   "source": [
    "'''\n",
    "#commenting out because i've already selected my model\n",
    "\n",
    "# evaluate each model in turn\n",
    "feature_sets = [features_name, features_no_name]\n",
    "results = []\n",
    "names = []\n",
    "scoring = 'r2'\n",
    "for name, model in models:\n",
    "    for features in feature_sets:\n",
    "        kfold = model_selection.KFold(n_splits=10, random_state=seed)\n",
    "        scaler = MinMaxScaler(feature_range=(0, 1))\n",
    "        features = scaler.fit_transform(features)\n",
    "        cv_results = model_selection.cross_val_score(model, features, labels, cv=kfold, scoring=scoring)\n",
    "        results.append(cv_results)\n",
    "        names.append(name)\n",
    "        msg = \"%s: %f (%f)\" % (name, cv_results.mean(), cv_results.std())\n",
    "        print(msg)\n",
    "        predicted = cross_val_predict(model, features, labels, cv=kfold)\n",
    "        fig, ax = plt.subplots()\n",
    "        ax.scatter(labels, predicted, edgecolors=(0, 0, 0))\n",
    "        ax.plot([labels.min(), labels.max()], [labels.min(), labels.max()], 'k--', lw=4)\n",
    "        fig.suptitle(name)\n",
    "        ax.set_xlabel('Measured')\n",
    "        ax.set_ylabel('Predicted') \n",
    "# boxplot algorithm comparison\n",
    "fig = plt.figure()\n",
    "fig.suptitle('Algorithm Comparison')\n",
    "ax = fig.add_subplot(111)\n",
    "plt.boxplot(results)\n",
    "ax.set_xticklabels(names)\n",
    "plt.show()\n",
    "'''"
   ]
  },
  {
   "cell_type": "code",
   "execution_count": 61,
   "metadata": {},
   "outputs": [
    {
     "data": {
      "image/png": "[encoded data removed]",
      "text/plain": [
       "<Figure size 432x288 with 1 Axes>"
      ]
     },
     "metadata": {
      "needs_background": "light"
     },
     "output_type": "display_data"
    }
   ],
   "source": [
    "#How well does avg_points along over the previous 5 games predict points earned? not as well as our forecast.\n",
    "\n",
    "fig, ax = plt.subplots()\n",
    "ax.scatter(players.total_points, players.avg_points, edgecolors=(0, 0, 0))\n",
    "ax.plot([players.total_points.min(), players.total_points.max()], [players.total_points.min(), players.total_points.max()], 'k--', lw=4)\n",
    "fig.suptitle('avg_points')\n",
    "ax.set_xlabel('Measured')\n",
    "ax.set_ylabel('Predicted')\n",
    "plt.show()"
   ]
  },
  {
   "cell_type": "markdown",
   "metadata": {},
   "source": [
    "## settle on Decision Tree Regressor"
   ]
  },
  {
   "cell_type": "code",
   "execution_count": 62,
   "metadata": {},
   "outputs": [],
   "source": [
    "#adding the player name doesn't substantially improve our model\n",
    "#we'll leave it out, since that keeps our model more general and easier to work with\n",
    "features = players[feature_cols_no_name]"
   ]
  },
  {
   "cell_type": "code",
   "execution_count": 63,
   "metadata": {},
   "outputs": [],
   "source": [
    "X_train, X_test, y_train, y_test = train_test_split(features, labels, test_size=.2, random_state=4)"
   ]
  },
  {
   "cell_type": "code",
   "execution_count": 64,
   "metadata": {},
   "outputs": [],
   "source": [
    "clf = DecisionTreeRegressor()"
   ]
  },
  {
   "cell_type": "code",
   "execution_count": 65,
   "metadata": {},
   "outputs": [
    {
     "data": {
      "text/plain": [
       "DecisionTreeRegressor(criterion='mse', max_depth=None, max_features=None,\n",
       "                      max_leaf_nodes=None, min_impurity_decrease=0.0,\n",
       "                      min_impurity_split=None, min_samples_leaf=1,\n",
       "                      min_samples_split=2, min_weight_fraction_leaf=0.0,\n",
       "                      presort=False, random_state=None, splitter='best')"
      ]
     },
     "execution_count": 65,
     "metadata": {},
     "output_type": "execute_result"
    }
   ],
   "source": [
    "clf.fit(X_train, y_train)"
   ]
  },
  {
   "cell_type": "code",
   "execution_count": 66,
   "metadata": {},
   "outputs": [],
   "source": [
    "predictions = pd.DataFrame()\n",
    "predictions['pred'] = list(clf.predict(X_test))\n",
    "predictions['actual'] = list(y_test)"
   ]
  },
  {
   "cell_type": "code",
   "execution_count": 67,
   "metadata": {},
   "outputs": [
    {
     "data": {
      "text/plain": [
       "<matplotlib.axes._subplots.AxesSubplot at 0x1a260b82d0>"
      ]
     },
     "execution_count": 67,
     "metadata": {},
     "output_type": "execute_result"
    },
    {
     "data": {
      "image/png": "[encoded data removed]",
      "text/plain": [
       "<Figure size 432x288 with 1 Axes>"
      ]
     },
     "metadata": {
      "needs_background": "light"
     },
     "output_type": "display_data"
    }
   ],
   "source": [
    "sns.scatterplot(x='pred', y='actual', data=predictions)"
   ]
  },
  {
   "cell_type": "code",
   "execution_count": 68,
   "metadata": {},
   "outputs": [
    {
     "data": {
      "text/plain": [
       "6.389713772457995"
      ]
     },
     "execution_count": 68,
     "metadata": {},
     "output_type": "execute_result"
    }
   ],
   "source": [
    "#mse of test data\n",
    "\n",
    "mean_squared_error(predictions.actual,predictions.pred)"
   ]
  },
  {
   "cell_type": "code",
   "execution_count": 69,
   "metadata": {},
   "outputs": [
    {
     "data": {
      "image/png": "[encoded data removed]",
      "text/plain": [
       "<Figure size 1080x288 with 1 Axes>"
      ]
     },
     "metadata": {
      "needs_background": "light"
     },
     "output_type": "display_data"
    }
   ],
   "source": [
    "## Look at feature importance in CLF\n",
    "\n",
    "data = pd.DataFrame(zip(list(features), clf.feature_importances_))\n",
    "data = data.sort_values(1)\n",
    "plt.figure(figsize=(15,4))\n",
    "ax = sns.barplot(x=0, y=1, data=data)\n",
    "ax.set_xticklabels(ax.get_xticklabels(), rotation=40, ha=\"right\")\n",
    "plt.tight_layout()"
   ]
  },
  {
   "cell_type": "code",
   "execution_count": 70,
   "metadata": {},
   "outputs": [],
   "source": [
    "players['clf_pred'] = list(clf.predict(features))\n",
    "players['total_points'] = players.total_points.astype('float')\n",
    "players['clf_pred'] = players.clf_pred.astype('float')"
   ]
  },
  {
   "cell_type": "code",
   "execution_count": 71,
   "metadata": {},
   "outputs": [
    {
     "data": {
      "text/plain": [
       "<seaborn.axisgrid.JointGrid at 0x1a26b67950>"
      ]
     },
     "execution_count": 71,
     "metadata": {},
     "output_type": "execute_result"
    },
    {
     "data": {
      "image/png": "[encoded data removed]",
      "text/plain": [
       "<Figure size 432x432 with 3 Axes>"
      ]
     },
     "metadata": {},
     "output_type": "display_data"
    }
   ],
   "source": [
    "sns.set_style('darkgrid')\n",
    "sns.set('talk')\n",
    "sns.jointplot(data=players, x='clf_pred', y='total_points', kind='kde', xlim=(0,15), ylim=(0,15))\n"
   ]
  },
  {
   "cell_type": "code",
   "execution_count": 72,
   "metadata": {},
   "outputs": [
    {
     "data": {
      "text/plain": [
       "1.4275675937619936"
      ]
     },
     "execution_count": 72,
     "metadata": {},
     "output_type": "execute_result"
    }
   ],
   "source": [
    "mean_squared_error(players.clf_pred,players.total_points)"
   ]
  },
  {
   "cell_type": "code",
   "execution_count": 73,
   "metadata": {},
   "outputs": [],
   "source": [
    "data = players.groupby('name')[['total_points', 'clf_pred']].sum()"
   ]
  },
  {
   "cell_type": "code",
   "execution_count": 74,
   "metadata": {},
   "outputs": [
    {
     "data": {
      "text/plain": [
       "<seaborn.axisgrid.JointGrid at 0x1a26bf0410>"
      ]
     },
     "execution_count": 74,
     "metadata": {},
     "output_type": "execute_result"
    },
    {
     "data": {
      "image/png": "[encoded data removed]",
      "text/plain": [
       "<Figure size 432x432 with 3 Axes>"
      ]
     },
     "metadata": {},
     "output_type": "display_data"
    }
   ],
   "source": [
    "sns.set_style('darkgrid')\n",
    "sns.set('talk')\n",
    "sns.jointplot(data=data, x='clf_pred', y='total_points', kind='reg')\n"
   ]
  },
  {
   "cell_type": "code",
   "execution_count": 75,
   "metadata": {},
   "outputs": [
    {
     "data": {
      "text/plain": [
       "5.894420589044866"
      ]
     },
     "execution_count": 75,
     "metadata": {},
     "output_type": "execute_result"
    }
   ],
   "source": [
    "mean_absolute_error(data.clf_pred, data.total_points)"
   ]
  },
  {
   "cell_type": "code",
   "execution_count": 76,
   "metadata": {},
   "outputs": [
    {
     "data": {
      "text/plain": [
       "17.965799614643544"
      ]
     },
     "execution_count": 76,
     "metadata": {},
     "output_type": "execute_result"
    },
    {
     "data": {
      "image/png": "[encoded data removed]",
      "text/plain": [
       "<Figure size 432x432 with 3 Axes>"
      ]
     },
     "metadata": {},
     "output_type": "display_data"
    }
   ],
   "source": [
    "#what would a season long estimate look like if we only used avg_points as our indicator? not as good\n",
    "\n",
    "data = players.groupby('name')[['total_points', 'avg_points']].sum()\n",
    "sns.set_style('darkgrid')\n",
    "sns.set('talk')\n",
    "sns.jointplot(data=data, x='avg_points', y='total_points', kind='reg')\n",
    "mean_absolute_error(data.avg_points, data.total_points)"
   ]
  },
  {
   "cell_type": "code",
   "execution_count": 199,
   "metadata": {
    "scrolled": true
   },
   "outputs": [
    {
     "data": {
      "text/plain": [
       "<matplotlib.axes._subplots.AxesSubplot at 0x1a374dea90>"
      ]
     },
     "execution_count": 199,
     "metadata": {},
     "output_type": "execute_result"
    },
    {
     "data": {
      "image/png": "[encoded data removed]",
      "text/plain": [
       "<Figure size 1080x576 with 1 Axes>"
      ]
     },
     "metadata": {},
     "output_type": "display_data"
    }
   ],
   "source": [
    "data = players[['date', 'proj_score_d', 'clf_pred', 'season']]\n",
    "data = data[data['season'] == '2019']\n",
    "sns.set_style('darkgrid')\n",
    "sns.set('talk')\n",
    "plt.figure(figsize=(15,8))\n",
    "sns.scatterplot(x='date', y='proj_score_d', data=data, hue='clf_pred')"
   ]
  },
  {
   "cell_type": "markdown",
   "metadata": {},
   "source": [
    "# Make Predictions for 2020-2021 Season"
   ]
  },
  {
   "cell_type": "code",
   "execution_count": 1077,
   "metadata": {},
   "outputs": [],
   "source": [
    "#should instead use the GW csvs, so we have data from each of the gameweeks played so far, and add SPI data only for the unplayed weeks"
   ]
  },
  {
   "cell_type": "code",
   "execution_count": 1078,
   "metadata": {},
   "outputs": [],
   "source": [
    "gw_num = 5"
   ]
  },
  {
   "cell_type": "code",
   "execution_count": 1079,
   "metadata": {},
   "outputs": [],
   "source": [
    "season = pd.DataFrame()\n",
    "for gw in range(1,gw_num):\n",
    "    week = pd.read_csv('/Users/andrewjpeters/Documents/GitHub/fpl/data/2020-21/gws/gw'+str(gw)+'.csv')\n",
    "    season = season.append(week)"
   ]
  },
  {
   "cell_type": "code",
   "execution_count": 1080,
   "metadata": {},
   "outputs": [],
   "source": [
    "season = season[['name', 'position', 'team', 'value', 'total_points', 'minutes', 'kickoff_time']]"
   ]
  },
  {
   "cell_type": "code",
   "execution_count": 1081,
   "metadata": {
    "scrolled": false
   },
   "outputs": [
    {
     "data": {
      "text/html": [
       "<div>\n",
       "<style scoped>\n",
       "    .dataframe tbody tr th:only-of-type {\n",
       "        vertical-align: middle;\n",
       "    }\n",
       "\n",
       "    .dataframe tbody tr th {\n",
       "        vertical-align: top;\n",
       "    }\n",
       "\n",
       "    .dataframe thead th {\n",
       "        text-align: right;\n",
       "    }\n",
       "</style>\n",
       "<table border=\"1\" class=\"dataframe\">\n",
       "  <thead>\n",
       "    <tr style=\"text-align: right;\">\n",
       "      <th></th>\n",
       "      <th>date</th>\n",
       "      <th>team</th>\n",
       "      <th>team_opp</th>\n",
       "      <th>spi</th>\n",
       "      <th>spi_opp</th>\n",
       "      <th>proj_score</th>\n",
       "      <th>proj_score_opp</th>\n",
       "      <th>prob_w</th>\n",
       "      <th>prob_l</th>\n",
       "      <th>probtie</th>\n",
       "      <th>importance</th>\n",
       "      <th>importance_opp</th>\n",
       "    </tr>\n",
       "  </thead>\n",
       "  <tbody>\n",
       "    <tr>\n",
       "      <td>12</td>\n",
       "      <td>2016-08-13</td>\n",
       "      <td>Hull City</td>\n",
       "      <td>Leicester</td>\n",
       "      <td>53.57</td>\n",
       "      <td>66.81</td>\n",
       "      <td>1.16</td>\n",
       "      <td>1.24</td>\n",
       "      <td>0.3459</td>\n",
       "      <td>0.3621</td>\n",
       "      <td>0.2921</td>\n",
       "      <td>38.1</td>\n",
       "      <td>22.2</td>\n",
       "    </tr>\n",
       "    <tr>\n",
       "      <td>13</td>\n",
       "      <td>2016-08-13</td>\n",
       "      <td>Burnley</td>\n",
       "      <td>Swansea City</td>\n",
       "      <td>58.98</td>\n",
       "      <td>59.74</td>\n",
       "      <td>1.37</td>\n",
       "      <td>1.05</td>\n",
       "      <td>0.4482</td>\n",
       "      <td>0.2663</td>\n",
       "      <td>0.2854</td>\n",
       "      <td>36.5</td>\n",
       "      <td>29.1</td>\n",
       "    </tr>\n",
       "    <tr>\n",
       "      <td>14</td>\n",
       "      <td>2016-08-13</td>\n",
       "      <td>Southampton</td>\n",
       "      <td>Watford</td>\n",
       "      <td>69.49</td>\n",
       "      <td>59.33</td>\n",
       "      <td>1.91</td>\n",
       "      <td>1.05</td>\n",
       "      <td>0.5759</td>\n",
       "      <td>0.1874</td>\n",
       "      <td>0.2367</td>\n",
       "      <td>34.1</td>\n",
       "      <td>30.7</td>\n",
       "    </tr>\n",
       "    <tr>\n",
       "      <td>15</td>\n",
       "      <td>2016-08-13</td>\n",
       "      <td>Everton</td>\n",
       "      <td>Tottenham</td>\n",
       "      <td>68.02</td>\n",
       "      <td>73.25</td>\n",
       "      <td>1.47</td>\n",
       "      <td>1.38</td>\n",
       "      <td>0.3910</td>\n",
       "      <td>0.3401</td>\n",
       "      <td>0.2689</td>\n",
       "      <td>31.9</td>\n",
       "      <td>48.0</td>\n",
       "    </tr>\n",
       "    <tr>\n",
       "      <td>16</td>\n",
       "      <td>2016-08-13</td>\n",
       "      <td>Crystal Palace</td>\n",
       "      <td>West Bromwich Albion</td>\n",
       "      <td>55.19</td>\n",
       "      <td>58.66</td>\n",
       "      <td>1.35</td>\n",
       "      <td>1.14</td>\n",
       "      <td>0.4214</td>\n",
       "      <td>0.2939</td>\n",
       "      <td>0.2847</td>\n",
       "      <td>43.6</td>\n",
       "      <td>34.6</td>\n",
       "    </tr>\n",
       "  </tbody>\n",
       "</table>\n",
       "</div>"
      ],
      "text/plain": [
       "          date            team              team_opp    spi  spi_opp  \\\n",
       "12  2016-08-13       Hull City             Leicester  53.57    66.81   \n",
       "13  2016-08-13         Burnley          Swansea City  58.98    59.74   \n",
       "14  2016-08-13     Southampton               Watford  69.49    59.33   \n",
       "15  2016-08-13         Everton             Tottenham  68.02    73.25   \n",
       "16  2016-08-13  Crystal Palace  West Bromwich Albion  55.19    58.66   \n",
       "\n",
       "    proj_score  proj_score_opp  prob_w  prob_l  probtie  importance  \\\n",
       "12        1.16            1.24  0.3459  0.3621   0.2921        38.1   \n",
       "13        1.37            1.05  0.4482  0.2663   0.2854        36.5   \n",
       "14        1.91            1.05  0.5759  0.1874   0.2367        34.1   \n",
       "15        1.47            1.38  0.3910  0.3401   0.2689        31.9   \n",
       "16        1.35            1.14  0.4214  0.2939   0.2847        43.6   \n",
       "\n",
       "    importance_opp  \n",
       "12            22.2  \n",
       "13            29.1  \n",
       "14            30.7  \n",
       "15            48.0  \n",
       "16            34.6  "
      ]
     },
     "execution_count": 1081,
     "metadata": {},
     "output_type": "execute_result"
    }
   ],
   "source": [
    "spi.head()"
   ]
  },
  {
   "cell_type": "code",
   "execution_count": 1082,
   "metadata": {},
   "outputs": [],
   "source": [
    "spi_2020 = spi[(spi['date'] > '2020-09-01') & (spi['date'] < '2021-06-01')]"
   ]
  },
  {
   "cell_type": "code",
   "execution_count": 1083,
   "metadata": {},
   "outputs": [
    {
     "name": "stdout",
     "output_type": "stream",
     "text": [
      "West Bromwich Albion\n",
      "Tottenham\n",
      "Sheffield United\n",
      "Leeds United\n",
      "Man United\n"
     ]
    }
   ],
   "source": [
    "for team in list(spi_2020.team.unique()):\n",
    "    if not team in list(season.team):\n",
    "        print(team)"
   ]
  },
  {
   "cell_type": "code",
   "execution_count": 1084,
   "metadata": {},
   "outputs": [],
   "source": [
    "season = season.replace({'Man Utd': 'Man United',\n",
    "        'Spurs': 'Tottenham',\n",
    "        'Sheffield Utd': 'Sheffield United',\n",
    "        'West Brom': 'West Bromwich Albion',\n",
    "        'Leeds': 'Leeds United'})"
   ]
  },
  {
   "cell_type": "code",
   "execution_count": 1085,
   "metadata": {},
   "outputs": [],
   "source": [
    "form = season.groupby(['name', 'kickoff_time'])['minutes', 'total_points'].sum().reset_index()"
   ]
  },
  {
   "cell_type": "code",
   "execution_count": 1086,
   "metadata": {},
   "outputs": [],
   "source": [
    "all_players = season.sort_values('kickoff_time').drop_duplicates(subset='name', keep='last')"
   ]
  },
  {
   "cell_type": "code",
   "execution_count": 1087,
   "metadata": {},
   "outputs": [],
   "source": [
    "all_players = all_players[['name', 'position', 'team', 'value', 'total_points']]"
   ]
  },
  {
   "cell_type": "code",
   "execution_count": 1088,
   "metadata": {},
   "outputs": [],
   "source": [
    "#salah's price is off -- need better price updates\n",
    "all_players.loc[all_players.name == 'Mohamed Salah', 'value'] = 123\n",
    "all_players.loc[all_players.name == 'Jack Grealish', 'value'] = 71"
   ]
  },
  {
   "cell_type": "code",
   "execution_count": 1089,
   "metadata": {
    "tags": []
   },
   "outputs": [],
   "source": [
    "df = pd.DataFrame()\n",
    "for name in all_players.name.unique():\n",
    "    part = all_players[all_players['name'] == name]\n",
    "    part = part.merge(spi_2020, how='right', on='team')\n",
    "    df = df.append(part)"
   ]
  },
  {
   "cell_type": "code",
   "execution_count": 1115,
   "metadata": {},
   "outputs": [
    {
     "data": {
      "text/plain": [
       "True"
      ]
     },
     "execution_count": 1115,
     "metadata": {},
     "output_type": "execute_result"
    }
   ],
   "source": [
    "set(df.team.unique()) == set(all_players.team.unique())"
   ]
  },
  {
   "cell_type": "code",
   "execution_count": 1116,
   "metadata": {},
   "outputs": [
    {
     "name": "stdout",
     "output_type": "stream",
     "text": [
      "element\n",
      "element_type\n",
      "avg_points\n",
      "name_code\n",
      "clf_pred\n"
     ]
    }
   ],
   "source": [
    "# what columns do we need to add to df to match the players dataframe\n",
    "for col in list(players):\n",
    "    if not col in list(df):\n",
    "        print(col)"
   ]
  },
  {
   "cell_type": "code",
   "execution_count": 1125,
   "metadata": {},
   "outputs": [
    {
     "data": {
      "text/plain": [
       "array(['Crystal Palace', 'Chelsea', 'Everton', 'Brighton', 'Man City',\n",
       "       'Leeds United', 'Newcastle', 'Burnley', 'West Bromwich Albion',\n",
       "       'West Ham', 'Leicester', 'Southampton', 'Wolves',\n",
       "       'Sheffield United', 'Arsenal', 'Fulham', 'Man United', 'Tottenham',\n",
       "       'Aston Villa', 'Liverpool'], dtype=object)"
      ]
     },
     "execution_count": 1125,
     "metadata": {},
     "output_type": "execute_result"
    }
   ],
   "source": [
    "df[~df.name.isnull()].team.unique()"
   ]
  },
  {
   "cell_type": "code",
   "execution_count": 1139,
   "metadata": {},
   "outputs": [],
   "source": [
    "df = df.dropna()"
   ]
  },
  {
   "cell_type": "code",
   "execution_count": 1141,
   "metadata": {},
   "outputs": [
    {
     "name": "stderr",
     "output_type": "stream",
     "text": [
      "/Users/andrewjpeters/opt/anaconda3/lib/python3.7/site-packages/ipykernel_launcher.py:1: SettingWithCopyWarning: \n",
      "A value is trying to be set on a copy of a slice from a DataFrame.\n",
      "Try using .loc[row_indexer,col_indexer] = value instead\n",
      "\n",
      "See the caveats in the documentation: http://pandas.pydata.org/pandas-docs/stable/user_guide/indexing.html#returning-a-view-versus-a-copy\n",
      "  \"\"\"Entry point for launching an IPython kernel.\n"
     ]
    }
   ],
   "source": [
    "df['season'] = 2020"
   ]
  },
  {
   "cell_type": "code",
   "execution_count": 1142,
   "metadata": {},
   "outputs": [
    {
     "name": "stderr",
     "output_type": "stream",
     "text": [
      "/Users/andrewjpeters/opt/anaconda3/lib/python3.7/site-packages/ipykernel_launcher.py:2: SettingWithCopyWarning: \n",
      "A value is trying to be set on a copy of a slice from a DataFrame.\n",
      "Try using .loc[row_indexer,col_indexer] = value instead\n",
      "\n",
      "See the caveats in the documentation: http://pandas.pydata.org/pandas-docs/stable/user_guide/indexing.html#returning-a-view-versus-a-copy\n",
      "  \n"
     ]
    }
   ],
   "source": [
    "#for now, let's assume that everyone in df is healthy, and will play more than 20 minutes per game. \n",
    "df['played_more_than_20'] = 1"
   ]
  },
  {
   "cell_type": "code",
   "execution_count": 1143,
   "metadata": {},
   "outputs": [],
   "source": [
    "#element_type is position, with GK = 1, Defender = 2, and so on"
   ]
  },
  {
   "cell_type": "code",
   "execution_count": 1144,
   "metadata": {},
   "outputs": [
    {
     "data": {
      "text/plain": [
       "array([3., 2., 1., 4.])"
      ]
     },
     "execution_count": 1144,
     "metadata": {},
     "output_type": "execute_result"
    }
   ],
   "source": [
    "df.position.unique()"
   ]
  },
  {
   "cell_type": "code",
   "execution_count": 1145,
   "metadata": {},
   "outputs": [],
   "source": [
    "df = df.replace({\n",
    "    'GK': 1,\n",
    "    'DEF': 2,\n",
    "    'MID': 3,\n",
    "    'FWD': 4\n",
    "})"
   ]
  },
  {
   "cell_type": "code",
   "execution_count": 1146,
   "metadata": {},
   "outputs": [],
   "source": [
    "# \"Element\" is the player id from the FPL site, but we're not currently using this for anything -- no need to add now"
   ]
  },
  {
   "cell_type": "code",
   "execution_count": 1147,
   "metadata": {},
   "outputs": [],
   "source": [
    "#avg_points: I'm going to calculate this using the first 3 games of this season, plus the average of the last 5 from last season. First 3 from this season will take 70% wt, and last 5 from last season will take 30% wt. This is a bit arbitrary, but my thinking is that as straight average of the last 5 games would put 60% wt on the first 3 from this season (at 20% per game, split evenly) -- this gives some recency bias towards the new season, but just a bit, since last season has a much large sample size."
   ]
  },
  {
   "cell_type": "code",
   "execution_count": 1148,
   "metadata": {},
   "outputs": [],
   "source": [
    "#need to add whether or not the game was home\n",
    "#because 'was home' was shown to have very low importance in the CLF, I'm going to mark all games as home for the time being\n",
    "df['was_home'] = True"
   ]
  },
  {
   "cell_type": "code",
   "execution_count": 1149,
   "metadata": {},
   "outputs": [],
   "source": [
    "#spi_d & proj_score_d is simple math, can be added using current columns\n",
    "df['spi_d'] = df['spi'] - df['spi_opp']\n",
    "df['proj_score_d'] = df['proj_score'] - df['proj_score_opp']"
   ]
  },
  {
   "cell_type": "code",
   "execution_count": 1150,
   "metadata": {},
   "outputs": [],
   "source": [
    "#estimate importance using median importance by team\n",
    "importance = df.groupby('team')['importance', 'importance_opp'].median().reset_index()"
   ]
  },
  {
   "cell_type": "code",
   "execution_count": 1151,
   "metadata": {},
   "outputs": [],
   "source": [
    "df = df.merge(importance, how='left', on='team')"
   ]
  },
  {
   "cell_type": "code",
   "execution_count": 1152,
   "metadata": {},
   "outputs": [],
   "source": [
    "#where 538 estimated importance (in importance_x colums), use those values\n",
    "#where those values are missing, using median estimate (importance_y_columns)\n",
    "\n",
    "df.loc[df['importance_x'].isnull(),'importance_x'] = df['importance_y']\n",
    "df.loc[df['importance_opp_x'].isnull(),'importance_opp_x'] = df['importance_opp_y']"
   ]
  },
  {
   "cell_type": "code",
   "execution_count": 1153,
   "metadata": {},
   "outputs": [],
   "source": [
    "df = df.drop(columns=['importance_y', 'importance_opp_y'])"
   ]
  },
  {
   "cell_type": "code",
   "execution_count": 1154,
   "metadata": {},
   "outputs": [],
   "source": [
    "df = df.rename(columns={'importance_x': 'importance',\n",
    "                       'importance_opp_x': 'importance_opp'})"
   ]
  },
  {
   "cell_type": "code",
   "execution_count": 1155,
   "metadata": {
    "scrolled": true
   },
   "outputs": [
    {
     "data": {
      "text/html": [
       "<div>\n",
       "<style scoped>\n",
       "    .dataframe tbody tr th:only-of-type {\n",
       "        vertical-align: middle;\n",
       "    }\n",
       "\n",
       "    .dataframe tbody tr th {\n",
       "        vertical-align: top;\n",
       "    }\n",
       "\n",
       "    .dataframe thead th {\n",
       "        text-align: right;\n",
       "    }\n",
       "</style>\n",
       "<table border=\"1\" class=\"dataframe\">\n",
       "  <thead>\n",
       "    <tr style=\"text-align: right;\">\n",
       "      <th></th>\n",
       "      <th>name</th>\n",
       "      <th>position</th>\n",
       "      <th>team</th>\n",
       "      <th>value</th>\n",
       "      <th>total_points</th>\n",
       "      <th>date</th>\n",
       "      <th>team_opp</th>\n",
       "      <th>spi</th>\n",
       "      <th>spi_opp</th>\n",
       "      <th>proj_score</th>\n",
       "      <th>proj_score_opp</th>\n",
       "      <th>prob_w</th>\n",
       "      <th>prob_l</th>\n",
       "      <th>probtie</th>\n",
       "      <th>importance</th>\n",
       "      <th>importance_opp</th>\n",
       "      <th>season</th>\n",
       "      <th>played_more_than_20</th>\n",
       "      <th>was_home</th>\n",
       "      <th>spi_d</th>\n",
       "      <th>proj_score_d</th>\n",
       "    </tr>\n",
       "  </thead>\n",
       "  <tbody>\n",
       "  </tbody>\n",
       "</table>\n",
       "</div>"
      ],
      "text/plain": [
       "Empty DataFrame\n",
       "Columns: [name, position, team, value, total_points, date, team_opp, spi, spi_opp, proj_score, proj_score_opp, prob_w, prob_l, probtie, importance, importance_opp, season, played_more_than_20, was_home, spi_d, proj_score_d]\n",
       "Index: []"
      ]
     },
     "execution_count": 1155,
     "metadata": {},
     "output_type": "execute_result"
    }
   ],
   "source": [
    "df[df.name.isnull()]"
   ]
  },
  {
   "cell_type": "markdown",
   "metadata": {},
   "source": [
    "calculate baseline player performance by using the first games of the current season, plus the last games of the previous season\n",
    "\n",
    "in the training model, baseline player performance was calculated as the players average points over the past 5 games\n",
    "\n",
    "until the 5th game of the current season, we'll supplement using an average across the last 10 games of the previous season"
   ]
  },
  {
   "cell_type": "code",
   "execution_count": 1156,
   "metadata": {},
   "outputs": [],
   "source": [
    "\n",
    "form = form.groupby('name').tail(5)\n",
    "avg_points_2020 = form.groupby('name')['total_points'].mean().reset_index()"
   ]
  },
  {
   "cell_type": "code",
   "execution_count": 1157,
   "metadata": {},
   "outputs": [],
   "source": [
    "last_five = players.sort_values(['name', 'date']).groupby(['name']).tail(10)\n",
    "avg_points_2019 = last_five.groupby('name')['total_points'].mean().reset_index()"
   ]
  },
  {
   "cell_type": "code",
   "execution_count": 1158,
   "metadata": {},
   "outputs": [],
   "source": [
    "avg_points = avg_points_2020.merge(avg_points_2019, on='name', how='left', suffixes=['2020','2019'])"
   ]
  },
  {
   "cell_type": "code",
   "execution_count": 1159,
   "metadata": {},
   "outputs": [
    {
     "data": {
      "text/html": [
       "<div>\n",
       "<style scoped>\n",
       "    .dataframe tbody tr th:only-of-type {\n",
       "        vertical-align: middle;\n",
       "    }\n",
       "\n",
       "    .dataframe tbody tr th {\n",
       "        vertical-align: top;\n",
       "    }\n",
       "\n",
       "    .dataframe thead th {\n",
       "        text-align: right;\n",
       "    }\n",
       "</style>\n",
       "<table border=\"1\" class=\"dataframe\">\n",
       "  <thead>\n",
       "    <tr style=\"text-align: right;\">\n",
       "      <th></th>\n",
       "      <th>name</th>\n",
       "      <th>total_points2020</th>\n",
       "      <th>total_points2019</th>\n",
       "    </tr>\n",
       "  </thead>\n",
       "  <tbody>\n",
       "    <tr>\n",
       "      <td>0</td>\n",
       "      <td>Aaron Connolly</td>\n",
       "      <td>3.25</td>\n",
       "      <td>2.0</td>\n",
       "    </tr>\n",
       "    <tr>\n",
       "      <td>1</td>\n",
       "      <td>Aaron Cresswell</td>\n",
       "      <td>6.00</td>\n",
       "      <td>1.8</td>\n",
       "    </tr>\n",
       "    <tr>\n",
       "      <td>2</td>\n",
       "      <td>Aaron Mooy</td>\n",
       "      <td>0.00</td>\n",
       "      <td>1.9</td>\n",
       "    </tr>\n",
       "    <tr>\n",
       "      <td>3</td>\n",
       "      <td>Aaron Ramsdale</td>\n",
       "      <td>2.25</td>\n",
       "      <td>3.2</td>\n",
       "    </tr>\n",
       "    <tr>\n",
       "      <td>4</td>\n",
       "      <td>Aaron Wan-Bissaka</td>\n",
       "      <td>0.00</td>\n",
       "      <td>4.9</td>\n",
       "    </tr>\n",
       "  </tbody>\n",
       "</table>\n",
       "</div>"
      ],
      "text/plain": [
       "                name  total_points2020  total_points2019\n",
       "0     Aaron Connolly              3.25               2.0\n",
       "1    Aaron Cresswell              6.00               1.8\n",
       "2         Aaron Mooy              0.00               1.9\n",
       "3     Aaron Ramsdale              2.25               3.2\n",
       "4  Aaron Wan-Bissaka              0.00               4.9"
      ]
     },
     "execution_count": 1159,
     "metadata": {},
     "output_type": "execute_result"
    }
   ],
   "source": [
    "avg_points.head()"
   ]
  },
  {
   "cell_type": "code",
   "execution_count": 1190,
   "metadata": {},
   "outputs": [],
   "source": [
    "#wt = ((gw_num - 1)/5)\n",
    "wt = .8\n",
    "avg_points['weighted'] = (avg_points['total_points2020']*wt) + (avg_points['total_points2019']*(1-wt))"
   ]
  },
  {
   "cell_type": "code",
   "execution_count": 1191,
   "metadata": {},
   "outputs": [
    {
     "data": {
      "text/html": [
       "<div>\n",
       "<style scoped>\n",
       "    .dataframe tbody tr th:only-of-type {\n",
       "        vertical-align: middle;\n",
       "    }\n",
       "\n",
       "    .dataframe tbody tr th {\n",
       "        vertical-align: top;\n",
       "    }\n",
       "\n",
       "    .dataframe thead th {\n",
       "        text-align: right;\n",
       "    }\n",
       "</style>\n",
       "<table border=\"1\" class=\"dataframe\">\n",
       "  <thead>\n",
       "    <tr style=\"text-align: right;\">\n",
       "      <th></th>\n",
       "      <th>name</th>\n",
       "      <th>total_points2020</th>\n",
       "      <th>total_points2019</th>\n",
       "      <th>weighted</th>\n",
       "    </tr>\n",
       "  </thead>\n",
       "  <tbody>\n",
       "    <tr>\n",
       "      <td>557</td>\n",
       "      <td>Yves Bissouma</td>\n",
       "      <td>2.75</td>\n",
       "      <td>2.3</td>\n",
       "      <td>2.66</td>\n",
       "    </tr>\n",
       "    <tr>\n",
       "      <td>558</td>\n",
       "      <td>Zack Steffen</td>\n",
       "      <td>0.00</td>\n",
       "      <td>NaN</td>\n",
       "      <td>NaN</td>\n",
       "    </tr>\n",
       "    <tr>\n",
       "      <td>559</td>\n",
       "      <td>Zeze Steven Sessegnon</td>\n",
       "      <td>0.00</td>\n",
       "      <td>0.0</td>\n",
       "      <td>0.00</td>\n",
       "    </tr>\n",
       "    <tr>\n",
       "      <td>560</td>\n",
       "      <td>Çaglar Söyüncü</td>\n",
       "      <td>2.00</td>\n",
       "      <td>2.3</td>\n",
       "      <td>2.06</td>\n",
       "    </tr>\n",
       "    <tr>\n",
       "      <td>561</td>\n",
       "      <td>Ørjan Nyland</td>\n",
       "      <td>0.00</td>\n",
       "      <td>1.2</td>\n",
       "      <td>0.24</td>\n",
       "    </tr>\n",
       "  </tbody>\n",
       "</table>\n",
       "</div>"
      ],
      "text/plain": [
       "                      name  total_points2020  total_points2019  weighted\n",
       "557          Yves Bissouma              2.75               2.3      2.66\n",
       "558           Zack Steffen              0.00               NaN       NaN\n",
       "559  Zeze Steven Sessegnon              0.00               0.0      0.00\n",
       "560         Çaglar Söyüncü              2.00               2.3      2.06\n",
       "561           Ørjan Nyland              0.00               1.2      0.24"
      ]
     },
     "execution_count": 1191,
     "metadata": {},
     "output_type": "execute_result"
    }
   ],
   "source": [
    "avg_points.tail()"
   ]
  },
  {
   "cell_type": "code",
   "execution_count": 1192,
   "metadata": {},
   "outputs": [],
   "source": [
    "#there are going to be so NaN for players in our 2020 list than don't have data from our 2019 list\n",
    "#for these players, we can just use the avg from the first 3 games of 2020 as our average\n",
    "avg_points.loc[avg_points['weighted'].isnull(),'weighted'] = avg_points['total_points2020']"
   ]
  },
  {
   "cell_type": "code",
   "execution_count": 1207,
   "metadata": {},
   "outputs": [],
   "source": [
    "df = df.drop(columns='avg_points')"
   ]
  },
  {
   "cell_type": "code",
   "execution_count": 1208,
   "metadata": {},
   "outputs": [],
   "source": [
    "df = df.merge(avg_points[['name', 'weighted']], on='name')"
   ]
  },
  {
   "cell_type": "code",
   "execution_count": 1209,
   "metadata": {},
   "outputs": [],
   "source": [
    "df = df.rename(columns={'weighted': 'avg_points'})"
   ]
  },
  {
   "cell_type": "code",
   "execution_count": 1210,
   "metadata": {
    "scrolled": true
   },
   "outputs": [
    {
     "data": {
      "text/plain": [
       "name                   0\n",
       "element_type           0\n",
       "team                   0\n",
       "value                  0\n",
       "total_points           0\n",
       "date                   0\n",
       "team_opp               0\n",
       "spi                    0\n",
       "spi_opp                0\n",
       "proj_score             0\n",
       "proj_score_opp         0\n",
       "prob_w                 0\n",
       "prob_l                 0\n",
       "probtie                0\n",
       "importance             0\n",
       "importance_opp         0\n",
       "season                 0\n",
       "played_more_than_20    0\n",
       "was_home               0\n",
       "spi_d                  0\n",
       "proj_score_d           0\n",
       "clf_pred               0\n",
       "weighted_x             0\n",
       "weighted_y             0\n",
       "avg_points             0\n",
       "dtype: int64"
      ]
     },
     "execution_count": 1210,
     "metadata": {},
     "output_type": "execute_result"
    }
   ],
   "source": [
    "df.isnull().sum()"
   ]
  },
  {
   "cell_type": "code",
   "execution_count": 1211,
   "metadata": {},
   "outputs": [],
   "source": [
    "df = df.rename(columns={'position': 'element_type'})"
   ]
  },
  {
   "cell_type": "code",
   "execution_count": 1212,
   "metadata": {},
   "outputs": [],
   "source": [
    "X = df[feature_cols_no_name]"
   ]
  },
  {
   "cell_type": "code",
   "execution_count": 1213,
   "metadata": {},
   "outputs": [],
   "source": [
    "y = clf.predict(X)"
   ]
  },
  {
   "cell_type": "code",
   "execution_count": 1214,
   "metadata": {},
   "outputs": [],
   "source": [
    "df['clf_pred'] = y"
   ]
  },
  {
   "cell_type": "code",
   "execution_count": 1215,
   "metadata": {},
   "outputs": [],
   "source": [
    "injuries = pd.read_csv('/Users/andrewjpeters/Documents/GitHub/fpl/data/2020-21/soccer-injury-report.csv')"
   ]
  },
  {
   "cell_type": "code",
   "execution_count": 1216,
   "metadata": {},
   "outputs": [
    {
     "data": {
      "text/plain": [
       "['Player', 'Team', 'Pos', 'Injury', 'Status', 'Est. Return']"
      ]
     },
     "execution_count": 1216,
     "metadata": {},
     "output_type": "execute_result"
    }
   ],
   "source": [
    "list(injuries)"
   ]
  },
  {
   "cell_type": "code",
   "execution_count": 1217,
   "metadata": {},
   "outputs": [],
   "source": [
    "#try solving knapsack problem using predicted numbers on season 19"
   ]
  },
  {
   "cell_type": "code",
   "execution_count": 1218,
   "metadata": {},
   "outputs": [],
   "source": [
    "import pulp"
   ]
  },
  {
   "cell_type": "code",
   "execution_count": 1219,
   "metadata": {},
   "outputs": [],
   "source": [
    "def select_team(expected_scores, prices, positions, clubs, total_budget=99.6, sub_factor=0.2):\n",
    "    num_players = len(expected_scores)\n",
    "    model = pulp.LpProblem(\"Constrained value maximisation\", pulp.LpMaximize)\n",
    "    decisions = [\n",
    "        pulp.LpVariable(\"x{}\".format(i), lowBound=0, upBound=1, cat='Integer')\n",
    "        for i in range(num_players)\n",
    "    ]\n",
    "    captain_decisions = [\n",
    "        pulp.LpVariable(\"y{}\".format(i), lowBound=0, upBound=1, cat='Integer')\n",
    "        for i in range(num_players)\n",
    "    ]\n",
    "    sub_decisions = [\n",
    "        pulp.LpVariable(\"z{}\".format(i), lowBound=0, upBound=1, cat='Integer')\n",
    "        for i in range(num_players)\n",
    "    ]\n",
    "\n",
    "\n",
    "    # objective function:\n",
    "    model += sum((captain_decisions[i] + decisions[i] + sub_decisions[i]*sub_factor) * expected_scores[i]\n",
    "                 for i in range(num_players)), \"Objective\"\n",
    "\n",
    "    # cost constraint\n",
    "    model += sum((decisions[i] + sub_decisions[i]) * prices[i] for i in range(num_players)) <= total_budget  # total cost\n",
    "\n",
    "    # position constraints\n",
    "    # 1 starting goalkeeper\n",
    "    model += sum(decisions[i] for i in range(num_players) if positions[i] == 1) == 1\n",
    "    # 2 total goalkeepers\n",
    "    model += sum(decisions[i] + sub_decisions[i] for i in range(num_players) if positions[i] == 1) == 2\n",
    "\n",
    "    # 3-5 starting defenders\n",
    "    model += sum(decisions[i] for i in range(num_players) if positions[i] == 2) >= 3\n",
    "    model += sum(decisions[i] for i in range(num_players) if positions[i] == 2) <= 5\n",
    "    # 5 total defenders\n",
    "    model += sum(decisions[i] + sub_decisions[i] for i in range(num_players) if positions[i] == 2) == 5\n",
    "\n",
    "    # 3-5 starting midfielders\n",
    "    model += sum(decisions[i] for i in range(num_players) if positions[i] == 3) >= 3\n",
    "    model += sum(decisions[i] for i in range(num_players) if positions[i] == 3) <= 5\n",
    "    # 5 total midfielders\n",
    "    model += sum(decisions[i] + sub_decisions[i] for i in range(num_players) if positions[i] == 3) == 5\n",
    "\n",
    "    # 1-3 starting attackers\n",
    "    model += sum(decisions[i] for i in range(num_players) if positions[i] == 4) >= 1\n",
    "    model += sum(decisions[i] for i in range(num_players) if positions[i] == 4) <= 3\n",
    "    # 3 total attackers\n",
    "    model += sum(decisions[i] + sub_decisions[i] for i in range(num_players) if positions[i] == 4) == 3\n",
    "\n",
    "    # club constraint\n",
    "    for club_id in np.unique(clubs):\n",
    "        model += sum(decisions[i] + sub_decisions[i] for i in range(num_players) if clubs[i] == club_id) <= 3  # max 3 players\n",
    "\n",
    "    model += sum(decisions) == 11  # total team size\n",
    "    model += sum(captain_decisions) == 1  # 1 captain\n",
    "    \n",
    "    for i in range(num_players):  \n",
    "        model += (decisions[i] - captain_decisions[i]) >= 0  # captain must also be on team\n",
    "        model += (decisions[i] + sub_decisions[i]) <= 1  # subs must not be on team\n",
    "\n",
    "    model.solve()\n",
    "    print(\"Total expected score = {}\".format(model.objective.value()))\n",
    "\n",
    "    return decisions, captain_decisions, sub_decisions"
   ]
  },
  {
   "cell_type": "code",
   "execution_count": 1220,
   "metadata": {},
   "outputs": [],
   "source": [
    "#list of names that the model should not pick -- these might be known injuries, for example\n",
    "\n",
    "do_not_pick = list(injuries.Player)"
   ]
  },
  {
   "cell_type": "code",
   "execution_count": 1221,
   "metadata": {},
   "outputs": [],
   "source": [
    "do_not_pick.extend(['Tammy Abraham', 'Tariq Lamptey', 'Martin Dubravka', \n",
    "               'Kevin De Bruyne', 'Jamaal Lascelles', 'Raheem Sterling', 'Nicolás Otamendi',\n",
    "              'Eric Garcia', 'Adrián Bernabé', 'João Pedro Cavaco Cancelo', 'Claudio Bravo', \n",
    "                    'Riyad Mahrez', 'Tommy Doyle', 'Cole Palmer', 'Ilkay Gündogan'])"
   ]
  },
  {
   "cell_type": "code",
   "execution_count": 1222,
   "metadata": {},
   "outputs": [
    {
     "name": "stderr",
     "output_type": "stream",
     "text": [
      "/Users/andrewjpeters/opt/anaconda3/lib/python3.7/site-packages/pulp/pulp.py:1195: UserWarning: Spaces are not permitted in the name. Converted to '_'\n",
      "  warnings.warn(\"Spaces are not permitted in the name. Converted to '_'\")\n"
     ]
    },
    {
     "name": "stdout",
     "output_type": "stream",
     "text": [
      "Total expected score = 2823.4066666666668\n"
     ]
    }
   ],
   "source": [
    "data = df.groupby(['name', 'element_type', 'team', 'value'])['clf_pred'].sum().reset_index()\n",
    "data = data.drop(index=list(data[data.name.isin(do_not_pick)].index))\n",
    "expected_scores = data.clf_pred.values\n",
    "prices = data.value.values / 10\n",
    "positions = data.element_type.values\n",
    "clubs = data.team.values\n",
    "names = data.name.values\n",
    "decisions, captain_decisions, sub_decisions = select_team(expected_scores, prices, positions, clubs)"
   ]
  },
  {
   "cell_type": "code",
   "execution_count": 1223,
   "metadata": {},
   "outputs": [],
   "source": [
    "chosen_names = []\n",
    "chosen_points = []\n",
    "chosen_position = []\n",
    "actual_points = []\n",
    "chosen_price = []\n",
    "for i in range(len(data)):\n",
    "    if decisions[i].value() !=0:\n",
    "        chosen_names.append(names[i])\n",
    "        chosen_points.append(expected_scores[i])\n",
    "        chosen_position.append(positions[i])\n",
    "        chosen_price.append(prices[i])\n",
    "chosen_ones = pd.DataFrame(zip(chosen_names, chosen_points, chosen_position, chosen_price), columns=['name', 'pred', 'pos', 'price'])\n",
    "\n",
    "sub_names = []\n",
    "sub_points = []\n",
    "sub_position = []\n",
    "actual_points = []\n",
    "sub_price = []\n",
    "for i in range(len(data)):\n",
    "    if sub_decisions[i].value() !=0:\n",
    "        sub_names.append(names[i])\n",
    "        sub_points.append(expected_scores[i])\n",
    "        sub_position.append(positions[i])\n",
    "        sub_price.append(prices[i])\n",
    "subs = pd.DataFrame(zip(sub_names, sub_points, sub_position, sub_price), columns= ['name', 'pred', 'pos', 'price'])"
   ]
  },
  {
   "cell_type": "code",
   "execution_count": 1224,
   "metadata": {},
   "outputs": [
    {
     "data": {
      "text/html": [
       "<div>\n",
       "<style scoped>\n",
       "    .dataframe tbody tr th:only-of-type {\n",
       "        vertical-align: middle;\n",
       "    }\n",
       "\n",
       "    .dataframe tbody tr th {\n",
       "        vertical-align: top;\n",
       "    }\n",
       "\n",
       "    .dataframe thead th {\n",
       "        text-align: right;\n",
       "    }\n",
       "</style>\n",
       "<table border=\"1\" class=\"dataframe\">\n",
       "  <thead>\n",
       "    <tr style=\"text-align: right;\">\n",
       "      <th></th>\n",
       "      <th>name</th>\n",
       "      <th>pred</th>\n",
       "      <th>pos</th>\n",
       "      <th>price</th>\n",
       "    </tr>\n",
       "  </thead>\n",
       "  <tbody>\n",
       "    <tr>\n",
       "      <td>0</td>\n",
       "      <td>Aaron Ramsdale</td>\n",
       "      <td>205.000000</td>\n",
       "      <td>1.0</td>\n",
       "      <td>5.0</td>\n",
       "    </tr>\n",
       "    <tr>\n",
       "      <td>1</td>\n",
       "      <td>Adam Webster</td>\n",
       "      <td>165.500000</td>\n",
       "      <td>2.0</td>\n",
       "      <td>4.5</td>\n",
       "    </tr>\n",
       "    <tr>\n",
       "      <td>7</td>\n",
       "      <td>Rob Holding</td>\n",
       "      <td>163.666667</td>\n",
       "      <td>2.0</td>\n",
       "      <td>4.5</td>\n",
       "    </tr>\n",
       "    <tr>\n",
       "      <td>10</td>\n",
       "      <td>Virgil van Dijk</td>\n",
       "      <td>184.500000</td>\n",
       "      <td>2.0</td>\n",
       "      <td>6.5</td>\n",
       "    </tr>\n",
       "    <tr>\n",
       "      <td>2</td>\n",
       "      <td>Jack Grealish</td>\n",
       "      <td>211.500000</td>\n",
       "      <td>3.0</td>\n",
       "      <td>7.1</td>\n",
       "    </tr>\n",
       "    <tr>\n",
       "      <td>3</td>\n",
       "      <td>Mohamed Salah</td>\n",
       "      <td>304.000000</td>\n",
       "      <td>3.0</td>\n",
       "      <td>12.3</td>\n",
       "    </tr>\n",
       "    <tr>\n",
       "      <td>5</td>\n",
       "      <td>Phil Foden</td>\n",
       "      <td>227.000000</td>\n",
       "      <td>3.0</td>\n",
       "      <td>6.6</td>\n",
       "    </tr>\n",
       "    <tr>\n",
       "      <td>8</td>\n",
       "      <td>Sadio Mané</td>\n",
       "      <td>254.000000</td>\n",
       "      <td>3.0</td>\n",
       "      <td>11.9</td>\n",
       "    </tr>\n",
       "    <tr>\n",
       "      <td>4</td>\n",
       "      <td>Patrick Bamford</td>\n",
       "      <td>198.000000</td>\n",
       "      <td>4.0</td>\n",
       "      <td>5.8</td>\n",
       "    </tr>\n",
       "    <tr>\n",
       "      <td>6</td>\n",
       "      <td>Raúl Jiménez</td>\n",
       "      <td>258.500000</td>\n",
       "      <td>4.0</td>\n",
       "      <td>8.6</td>\n",
       "    </tr>\n",
       "    <tr>\n",
       "      <td>9</td>\n",
       "      <td>Timo Werner</td>\n",
       "      <td>216.000000</td>\n",
       "      <td>4.0</td>\n",
       "      <td>9.4</td>\n",
       "    </tr>\n",
       "  </tbody>\n",
       "</table>\n",
       "</div>"
      ],
      "text/plain": [
       "               name        pred  pos  price\n",
       "0    Aaron Ramsdale  205.000000  1.0    5.0\n",
       "1      Adam Webster  165.500000  2.0    4.5\n",
       "7       Rob Holding  163.666667  2.0    4.5\n",
       "10  Virgil van Dijk  184.500000  2.0    6.5\n",
       "2     Jack Grealish  211.500000  3.0    7.1\n",
       "3     Mohamed Salah  304.000000  3.0   12.3\n",
       "5        Phil Foden  227.000000  3.0    6.6\n",
       "8        Sadio Mané  254.000000  3.0   11.9\n",
       "4   Patrick Bamford  198.000000  4.0    5.8\n",
       "6      Raúl Jiménez  258.500000  4.0    8.6\n",
       "9       Timo Werner  216.000000  4.0    9.4"
      ]
     },
     "execution_count": 1224,
     "metadata": {},
     "output_type": "execute_result"
    }
   ],
   "source": [
    "chosen_ones.sort_values('pos')"
   ]
  },
  {
   "cell_type": "code",
   "execution_count": 1183,
   "metadata": {},
   "outputs": [
    {
     "data": {
      "text/html": [
       "<div>\n",
       "<style scoped>\n",
       "    .dataframe tbody tr th:only-of-type {\n",
       "        vertical-align: middle;\n",
       "    }\n",
       "\n",
       "    .dataframe tbody tr th {\n",
       "        vertical-align: top;\n",
       "    }\n",
       "\n",
       "    .dataframe thead th {\n",
       "        text-align: right;\n",
       "    }\n",
       "</style>\n",
       "<table border=\"1\" class=\"dataframe\">\n",
       "  <thead>\n",
       "    <tr style=\"text-align: right;\">\n",
       "      <th></th>\n",
       "      <th>name</th>\n",
       "      <th>pred</th>\n",
       "      <th>pos</th>\n",
       "      <th>price</th>\n",
       "    </tr>\n",
       "  </thead>\n",
       "  <tbody>\n",
       "    <tr>\n",
       "      <td>3</td>\n",
       "      <td>Zack Steffen</td>\n",
       "      <td>190.0</td>\n",
       "      <td>1.0</td>\n",
       "      <td>4.5</td>\n",
       "    </tr>\n",
       "    <tr>\n",
       "      <td>0</td>\n",
       "      <td>Jimmy Dunne</td>\n",
       "      <td>154.0</td>\n",
       "      <td>2.0</td>\n",
       "      <td>4.0</td>\n",
       "    </tr>\n",
       "    <tr>\n",
       "      <td>2</td>\n",
       "      <td>Teden Mengi</td>\n",
       "      <td>148.0</td>\n",
       "      <td>2.0</td>\n",
       "      <td>4.0</td>\n",
       "    </tr>\n",
       "    <tr>\n",
       "      <td>1</td>\n",
       "      <td>Nampalys Mendy</td>\n",
       "      <td>162.2</td>\n",
       "      <td>3.0</td>\n",
       "      <td>4.5</td>\n",
       "    </tr>\n",
       "  </tbody>\n",
       "</table>\n",
       "</div>"
      ],
      "text/plain": [
       "             name   pred  pos  price\n",
       "3    Zack Steffen  190.0  1.0    4.5\n",
       "0     Jimmy Dunne  154.0  2.0    4.0\n",
       "2     Teden Mengi  148.0  2.0    4.0\n",
       "1  Nampalys Mendy  162.2  3.0    4.5"
      ]
     },
     "execution_count": 1183,
     "metadata": {},
     "output_type": "execute_result"
    }
   ],
   "source": [
    "subs.sort_values('pos')"
   ]
  },
  {
   "cell_type": "code",
   "execution_count": 1225,
   "metadata": {},
   "outputs": [
    {
     "data": {
      "text/html": [
       "<div>\n",
       "<style scoped>\n",
       "    .dataframe tbody tr th:only-of-type {\n",
       "        vertical-align: middle;\n",
       "    }\n",
       "\n",
       "    .dataframe tbody tr th {\n",
       "        vertical-align: top;\n",
       "    }\n",
       "\n",
       "    .dataframe thead th {\n",
       "        text-align: right;\n",
       "    }\n",
       "</style>\n",
       "<table border=\"1\" class=\"dataframe\">\n",
       "  <thead>\n",
       "    <tr style=\"text-align: right;\">\n",
       "      <th></th>\n",
       "      <th>name</th>\n",
       "      <th>pred</th>\n",
       "      <th>pos</th>\n",
       "      <th>price</th>\n",
       "      <th>total_points</th>\n",
       "    </tr>\n",
       "  </thead>\n",
       "  <tbody>\n",
       "    <tr>\n",
       "      <td>0</td>\n",
       "      <td>Aaron Ramsdale</td>\n",
       "      <td>205.000000</td>\n",
       "      <td>1.0</td>\n",
       "      <td>5.0</td>\n",
       "      <td>126.0</td>\n",
       "    </tr>\n",
       "    <tr>\n",
       "      <td>1</td>\n",
       "      <td>Adam Webster</td>\n",
       "      <td>165.500000</td>\n",
       "      <td>2.0</td>\n",
       "      <td>4.5</td>\n",
       "      <td>88.0</td>\n",
       "    </tr>\n",
       "    <tr>\n",
       "      <td>2</td>\n",
       "      <td>Jack Grealish</td>\n",
       "      <td>211.500000</td>\n",
       "      <td>3.0</td>\n",
       "      <td>7.1</td>\n",
       "      <td>149.0</td>\n",
       "    </tr>\n",
       "    <tr>\n",
       "      <td>3</td>\n",
       "      <td>Mohamed Salah</td>\n",
       "      <td>304.000000</td>\n",
       "      <td>3.0</td>\n",
       "      <td>12.3</td>\n",
       "      <td>492.0</td>\n",
       "    </tr>\n",
       "    <tr>\n",
       "      <td>4</td>\n",
       "      <td>Phil Foden</td>\n",
       "      <td>227.000000</td>\n",
       "      <td>3.0</td>\n",
       "      <td>6.6</td>\n",
       "      <td>94.0</td>\n",
       "    </tr>\n",
       "    <tr>\n",
       "      <td>5</td>\n",
       "      <td>Raúl Jiménez</td>\n",
       "      <td>258.500000</td>\n",
       "      <td>4.0</td>\n",
       "      <td>8.6</td>\n",
       "      <td>375.0</td>\n",
       "    </tr>\n",
       "    <tr>\n",
       "      <td>6</td>\n",
       "      <td>Rob Holding</td>\n",
       "      <td>163.666667</td>\n",
       "      <td>2.0</td>\n",
       "      <td>4.5</td>\n",
       "      <td>40.0</td>\n",
       "    </tr>\n",
       "    <tr>\n",
       "      <td>7</td>\n",
       "      <td>Sadio Mané</td>\n",
       "      <td>254.000000</td>\n",
       "      <td>3.0</td>\n",
       "      <td>11.9</td>\n",
       "      <td>452.0</td>\n",
       "    </tr>\n",
       "    <tr>\n",
       "      <td>8</td>\n",
       "      <td>Virgil van Dijk</td>\n",
       "      <td>184.500000</td>\n",
       "      <td>2.0</td>\n",
       "      <td>6.5</td>\n",
       "      <td>386.0</td>\n",
       "    </tr>\n",
       "  </tbody>\n",
       "</table>\n",
       "</div>"
      ],
      "text/plain": [
       "              name        pred  pos  price  total_points\n",
       "0   Aaron Ramsdale  205.000000  1.0    5.0         126.0\n",
       "1     Adam Webster  165.500000  2.0    4.5          88.0\n",
       "2    Jack Grealish  211.500000  3.0    7.1         149.0\n",
       "3    Mohamed Salah  304.000000  3.0   12.3         492.0\n",
       "4       Phil Foden  227.000000  3.0    6.6          94.0\n",
       "5     Raúl Jiménez  258.500000  4.0    8.6         375.0\n",
       "6      Rob Holding  163.666667  2.0    4.5          40.0\n",
       "7       Sadio Mané  254.000000  3.0   11.9         452.0\n",
       "8  Virgil van Dijk  184.500000  2.0    6.5         386.0"
      ]
     },
     "execution_count": 1225,
     "metadata": {},
     "output_type": "execute_result"
    }
   ],
   "source": [
    "chosen_ones.merge(players[players.name.isin(chosen_ones.name)].groupby('name')['total_points'].sum().reset_index(), on='name')"
   ]
  },
  {
   "cell_type": "code",
   "execution_count": 1226,
   "metadata": {},
   "outputs": [
    {
     "data": {
      "text/html": [
       "<div>\n",
       "<style scoped>\n",
       "    .dataframe tbody tr th:only-of-type {\n",
       "        vertical-align: middle;\n",
       "    }\n",
       "\n",
       "    .dataframe tbody tr th {\n",
       "        vertical-align: top;\n",
       "    }\n",
       "\n",
       "    .dataframe thead th {\n",
       "        text-align: right;\n",
       "    }\n",
       "</style>\n",
       "<table border=\"1\" class=\"dataframe\">\n",
       "  <thead>\n",
       "    <tr style=\"text-align: right;\">\n",
       "      <th></th>\n",
       "      <th>name</th>\n",
       "      <th>pred</th>\n",
       "      <th>pos</th>\n",
       "      <th>price</th>\n",
       "      <th>total_points</th>\n",
       "    </tr>\n",
       "  </thead>\n",
       "  <tbody>\n",
       "    <tr>\n",
       "      <td>0</td>\n",
       "      <td>Jimmy Dunne</td>\n",
       "      <td>158.5</td>\n",
       "      <td>2.0</td>\n",
       "      <td>4.0</td>\n",
       "      <td>0.0</td>\n",
       "    </tr>\n",
       "    <tr>\n",
       "      <td>1</td>\n",
       "      <td>Nampalys Mendy</td>\n",
       "      <td>162.2</td>\n",
       "      <td>3.0</td>\n",
       "      <td>4.5</td>\n",
       "      <td>69.0</td>\n",
       "    </tr>\n",
       "  </tbody>\n",
       "</table>\n",
       "</div>"
      ],
      "text/plain": [
       "             name   pred  pos  price  total_points\n",
       "0     Jimmy Dunne  158.5  2.0    4.0           0.0\n",
       "1  Nampalys Mendy  162.2  3.0    4.5          69.0"
      ]
     },
     "execution_count": 1226,
     "metadata": {},
     "output_type": "execute_result"
    }
   ],
   "source": [
    "subs.merge(players[players.name.isin(sub_names)].groupby('name')['total_points'].sum().reset_index(), on='name')"
   ]
  },
  {
   "cell_type": "code",
   "execution_count": 1227,
   "metadata": {},
   "outputs": [
    {
     "data": {
      "text/html": [
       "<div>\n",
       "<style scoped>\n",
       "    .dataframe tbody tr th:only-of-type {\n",
       "        vertical-align: middle;\n",
       "    }\n",
       "\n",
       "    .dataframe tbody tr th {\n",
       "        vertical-align: top;\n",
       "    }\n",
       "\n",
       "    .dataframe thead th {\n",
       "        text-align: right;\n",
       "    }\n",
       "</style>\n",
       "<table border=\"1\" class=\"dataframe\">\n",
       "  <thead>\n",
       "    <tr style=\"text-align: right;\">\n",
       "      <th></th>\n",
       "      <th>name</th>\n",
       "      <th>total_points</th>\n",
       "    </tr>\n",
       "  </thead>\n",
       "  <tbody>\n",
       "    <tr>\n",
       "      <td>0</td>\n",
       "      <td>Aaron Ramsdale</td>\n",
       "      <td>9</td>\n",
       "    </tr>\n",
       "    <tr>\n",
       "      <td>1</td>\n",
       "      <td>Adam Webster</td>\n",
       "      <td>8</td>\n",
       "    </tr>\n",
       "    <tr>\n",
       "      <td>2</td>\n",
       "      <td>Jack Grealish</td>\n",
       "      <td>35</td>\n",
       "    </tr>\n",
       "    <tr>\n",
       "      <td>3</td>\n",
       "      <td>Mohamed Salah</td>\n",
       "      <td>41</td>\n",
       "    </tr>\n",
       "    <tr>\n",
       "      <td>4</td>\n",
       "      <td>Patrick Bamford</td>\n",
       "      <td>30</td>\n",
       "    </tr>\n",
       "    <tr>\n",
       "      <td>5</td>\n",
       "      <td>Phil Foden</td>\n",
       "      <td>13</td>\n",
       "    </tr>\n",
       "    <tr>\n",
       "      <td>6</td>\n",
       "      <td>Raúl Jiménez</td>\n",
       "      <td>16</td>\n",
       "    </tr>\n",
       "    <tr>\n",
       "      <td>7</td>\n",
       "      <td>Rob Holding</td>\n",
       "      <td>9</td>\n",
       "    </tr>\n",
       "    <tr>\n",
       "      <td>8</td>\n",
       "      <td>Sadio Mané</td>\n",
       "      <td>25</td>\n",
       "    </tr>\n",
       "    <tr>\n",
       "      <td>9</td>\n",
       "      <td>Timo Werner</td>\n",
       "      <td>11</td>\n",
       "    </tr>\n",
       "    <tr>\n",
       "      <td>10</td>\n",
       "      <td>Virgil van Dijk</td>\n",
       "      <td>14</td>\n",
       "    </tr>\n",
       "  </tbody>\n",
       "</table>\n",
       "</div>"
      ],
      "text/plain": [
       "               name  total_points\n",
       "0    Aaron Ramsdale             9\n",
       "1      Adam Webster             8\n",
       "2     Jack Grealish            35\n",
       "3     Mohamed Salah            41\n",
       "4   Patrick Bamford            30\n",
       "5        Phil Foden            13\n",
       "6      Raúl Jiménez            16\n",
       "7       Rob Holding             9\n",
       "8        Sadio Mané            25\n",
       "9       Timo Werner            11\n",
       "10  Virgil van Dijk            14"
      ]
     },
     "execution_count": 1227,
     "metadata": {},
     "output_type": "execute_result"
    }
   ],
   "source": [
    "chosen_actual = season[season.name.isin(chosen_names)].groupby(['name', 'kickoff_time'])['total_points'].sum().reset_index()\n",
    "chosen_actual.groupby('name')['total_points'].sum().reset_index()"
   ]
  },
  {
   "cell_type": "code",
   "execution_count": 1188,
   "metadata": {},
   "outputs": [
    {
     "data": {
      "text/plain": [
       "209"
      ]
     },
     "execution_count": 1188,
     "metadata": {},
     "output_type": "execute_result"
    }
   ],
   "source": [
    "chosen_actual.total_points.sum()"
   ]
  },
  {
   "cell_type": "code",
   "execution_count": 970,
   "metadata": {},
   "outputs": [
    {
     "data": {
      "text/plain": [
       "name\n",
       "Rob Holding          163.666667\n",
       "Adam Webster         165.500000\n",
       "Virgil van Dijk      184.500000\n",
       "Zack Steffen         190.000000\n",
       "Kelechi Iheanacho    198.000000\n",
       "Jack Grealish        211.500000\n",
       "Timo Werner          216.000000\n",
       "Phil Foden           227.000000\n",
       "Sadio Mané           254.000000\n",
       "Raúl Jiménez         258.500000\n",
       "Mohamed Salah        304.000000\n",
       "Name: clf_pred, dtype: float64"
      ]
     },
     "execution_count": 970,
     "metadata": {},
     "output_type": "execute_result"
    }
   ],
   "source": [
    "df[df.name.isin(chosen_names)].groupby('name')['clf_pred'].sum().sort_values()"
   ]
  },
  {
   "cell_type": "code",
   "execution_count": 956,
   "metadata": {},
   "outputs": [
    {
     "data": {
      "text/html": [
       "<div>\n",
       "<style scoped>\n",
       "    .dataframe tbody tr th:only-of-type {\n",
       "        vertical-align: middle;\n",
       "    }\n",
       "\n",
       "    .dataframe tbody tr th {\n",
       "        vertical-align: top;\n",
       "    }\n",
       "\n",
       "    .dataframe thead th {\n",
       "        text-align: right;\n",
       "    }\n",
       "</style>\n",
       "<table border=\"1\" class=\"dataframe\">\n",
       "  <thead>\n",
       "    <tr style=\"text-align: right;\">\n",
       "      <th></th>\n",
       "      <th>name</th>\n",
       "      <th>clf_pred</th>\n",
       "      <th>date</th>\n",
       "    </tr>\n",
       "  </thead>\n",
       "  <tbody>\n",
       "    <tr>\n",
       "      <td>1748</td>\n",
       "      <td>Timo Werner</td>\n",
       "      <td>13.0</td>\n",
       "      <td>2020-09-20</td>\n",
       "    </tr>\n",
       "    <tr>\n",
       "      <td>1749</td>\n",
       "      <td>Timo Werner</td>\n",
       "      <td>2.0</td>\n",
       "      <td>2020-10-03</td>\n",
       "    </tr>\n",
       "    <tr>\n",
       "      <td>1750</td>\n",
       "      <td>Timo Werner</td>\n",
       "      <td>7.0</td>\n",
       "      <td>2020-10-17</td>\n",
       "    </tr>\n",
       "    <tr>\n",
       "      <td>1751</td>\n",
       "      <td>Timo Werner</td>\n",
       "      <td>1.0</td>\n",
       "      <td>2020-11-07</td>\n",
       "    </tr>\n",
       "    <tr>\n",
       "      <td>1752</td>\n",
       "      <td>Timo Werner</td>\n",
       "      <td>4.0</td>\n",
       "      <td>2020-11-28</td>\n",
       "    </tr>\n",
       "    <tr>\n",
       "      <td>...</td>\n",
       "      <td>...</td>\n",
       "      <td>...</td>\n",
       "      <td>...</td>\n",
       "    </tr>\n",
       "    <tr>\n",
       "      <td>15613</td>\n",
       "      <td>Sadio Mané</td>\n",
       "      <td>2.0</td>\n",
       "      <td>2021-04-03</td>\n",
       "    </tr>\n",
       "    <tr>\n",
       "      <td>15614</td>\n",
       "      <td>Sadio Mané</td>\n",
       "      <td>14.0</td>\n",
       "      <td>2021-04-17</td>\n",
       "    </tr>\n",
       "    <tr>\n",
       "      <td>15615</td>\n",
       "      <td>Sadio Mané</td>\n",
       "      <td>2.0</td>\n",
       "      <td>2021-05-01</td>\n",
       "    </tr>\n",
       "    <tr>\n",
       "      <td>15616</td>\n",
       "      <td>Sadio Mané</td>\n",
       "      <td>9.0</td>\n",
       "      <td>2021-05-11</td>\n",
       "    </tr>\n",
       "    <tr>\n",
       "      <td>15617</td>\n",
       "      <td>Sadio Mané</td>\n",
       "      <td>6.0</td>\n",
       "      <td>2021-05-15</td>\n",
       "    </tr>\n",
       "  </tbody>\n",
       "</table>\n",
       "<p>418 rows × 3 columns</p>\n",
       "</div>"
      ],
      "text/plain": [
       "              name  clf_pred        date\n",
       "1748   Timo Werner      13.0  2020-09-20\n",
       "1749   Timo Werner       2.0  2020-10-03\n",
       "1750   Timo Werner       7.0  2020-10-17\n",
       "1751   Timo Werner       1.0  2020-11-07\n",
       "1752   Timo Werner       4.0  2020-11-28\n",
       "...            ...       ...         ...\n",
       "15613   Sadio Mané       2.0  2021-04-03\n",
       "15614   Sadio Mané      14.0  2021-04-17\n",
       "15615   Sadio Mané       2.0  2021-05-01\n",
       "15616   Sadio Mané       9.0  2021-05-11\n",
       "15617   Sadio Mané       6.0  2021-05-15\n",
       "\n",
       "[418 rows x 3 columns]"
      ]
     },
     "execution_count": 956,
     "metadata": {},
     "output_type": "execute_result"
    }
   ],
   "source": [
    "df[(df.name.isin(chosen_names))][['name', 'clf_pred', 'date']]"
   ]
  },
  {
   "cell_type": "code",
   "execution_count": 971,
   "metadata": {},
   "outputs": [
    {
     "data": {
      "text/html": [
       "<div>\n",
       "<style scoped>\n",
       "    .dataframe tbody tr th:only-of-type {\n",
       "        vertical-align: middle;\n",
       "    }\n",
       "\n",
       "    .dataframe tbody tr th {\n",
       "        vertical-align: top;\n",
       "    }\n",
       "\n",
       "    .dataframe thead th {\n",
       "        text-align: right;\n",
       "    }\n",
       "</style>\n",
       "<table border=\"1\" class=\"dataframe\">\n",
       "  <thead>\n",
       "    <tr style=\"text-align: right;\">\n",
       "      <th></th>\n",
       "      <th>name</th>\n",
       "      <th>season</th>\n",
       "      <th>total_points</th>\n",
       "    </tr>\n",
       "  </thead>\n",
       "  <tbody>\n",
       "    <tr>\n",
       "      <td>0</td>\n",
       "      <td>Adam Webster</td>\n",
       "      <td>2019</td>\n",
       "      <td>88.0</td>\n",
       "    </tr>\n",
       "    <tr>\n",
       "      <td>1</td>\n",
       "      <td>Jack Grealish</td>\n",
       "      <td>2019</td>\n",
       "      <td>149.0</td>\n",
       "    </tr>\n",
       "    <tr>\n",
       "      <td>2</td>\n",
       "      <td>Kelechi Iheanacho</td>\n",
       "      <td>2018</td>\n",
       "      <td>58.0</td>\n",
       "    </tr>\n",
       "    <tr>\n",
       "      <td>3</td>\n",
       "      <td>Kelechi Iheanacho</td>\n",
       "      <td>2019</td>\n",
       "      <td>64.0</td>\n",
       "    </tr>\n",
       "    <tr>\n",
       "      <td>4</td>\n",
       "      <td>Mohamed Salah</td>\n",
       "      <td>2018</td>\n",
       "      <td>259.0</td>\n",
       "    </tr>\n",
       "    <tr>\n",
       "      <td>5</td>\n",
       "      <td>Mohamed Salah</td>\n",
       "      <td>2019</td>\n",
       "      <td>233.0</td>\n",
       "    </tr>\n",
       "    <tr>\n",
       "      <td>6</td>\n",
       "      <td>Phil Foden</td>\n",
       "      <td>2018</td>\n",
       "      <td>25.0</td>\n",
       "    </tr>\n",
       "    <tr>\n",
       "      <td>7</td>\n",
       "      <td>Phil Foden</td>\n",
       "      <td>2019</td>\n",
       "      <td>69.0</td>\n",
       "    </tr>\n",
       "    <tr>\n",
       "      <td>8</td>\n",
       "      <td>Raúl Jiménez</td>\n",
       "      <td>2018</td>\n",
       "      <td>181.0</td>\n",
       "    </tr>\n",
       "    <tr>\n",
       "      <td>9</td>\n",
       "      <td>Raúl Jiménez</td>\n",
       "      <td>2019</td>\n",
       "      <td>194.0</td>\n",
       "    </tr>\n",
       "    <tr>\n",
       "      <td>10</td>\n",
       "      <td>Rob Holding</td>\n",
       "      <td>2018</td>\n",
       "      <td>24.0</td>\n",
       "    </tr>\n",
       "    <tr>\n",
       "      <td>11</td>\n",
       "      <td>Rob Holding</td>\n",
       "      <td>2019</td>\n",
       "      <td>16.0</td>\n",
       "    </tr>\n",
       "    <tr>\n",
       "      <td>12</td>\n",
       "      <td>Sadio Mané</td>\n",
       "      <td>2018</td>\n",
       "      <td>231.0</td>\n",
       "    </tr>\n",
       "    <tr>\n",
       "      <td>13</td>\n",
       "      <td>Sadio Mané</td>\n",
       "      <td>2019</td>\n",
       "      <td>221.0</td>\n",
       "    </tr>\n",
       "    <tr>\n",
       "      <td>14</td>\n",
       "      <td>Virgil van Dijk</td>\n",
       "      <td>2018</td>\n",
       "      <td>208.0</td>\n",
       "    </tr>\n",
       "    <tr>\n",
       "      <td>15</td>\n",
       "      <td>Virgil van Dijk</td>\n",
       "      <td>2019</td>\n",
       "      <td>178.0</td>\n",
       "    </tr>\n",
       "  </tbody>\n",
       "</table>\n",
       "</div>"
      ],
      "text/plain": [
       "                 name season  total_points\n",
       "0        Adam Webster   2019          88.0\n",
       "1       Jack Grealish   2019         149.0\n",
       "2   Kelechi Iheanacho   2018          58.0\n",
       "3   Kelechi Iheanacho   2019          64.0\n",
       "4       Mohamed Salah   2018         259.0\n",
       "5       Mohamed Salah   2019         233.0\n",
       "6          Phil Foden   2018          25.0\n",
       "7          Phil Foden   2019          69.0\n",
       "8        Raúl Jiménez   2018         181.0\n",
       "9        Raúl Jiménez   2019         194.0\n",
       "10        Rob Holding   2018          24.0\n",
       "11        Rob Holding   2019          16.0\n",
       "12         Sadio Mané   2018         231.0\n",
       "13         Sadio Mané   2019         221.0\n",
       "14    Virgil van Dijk   2018         208.0\n",
       "15    Virgil van Dijk   2019         178.0"
      ]
     },
     "execution_count": 971,
     "metadata": {},
     "output_type": "execute_result"
    }
   ],
   "source": [
    "players[players.name.isin(chosen_names)].groupby(['name', 'season'])['total_points'].sum().reset_index()"
   ]
  },
  {
   "cell_type": "markdown",
   "metadata": {},
   "source": [
    "## Changes to Implement\n",
    "- Feature engineering: add short term points average (maybe past 3 games), med-term (maybe past 7), and last-season average, standard deviation of points earned over past three games\n",
    "- Feature engineering: add minutes played per game over past 3 games, past 7 games, standard deviation of minutes played over past 3 games, remove played_over_20_minutes column since that is non historical data\n"
   ]
  },
  {
   "cell_type": "code",
   "execution_count": null,
   "metadata": {},
   "outputs": [],
   "source": []
  }
 ],
 "metadata": {
  "kernelspec": {
   "display_name": "Python 3.7.4 64-bit ('anaconda3': virtualenv)",
   "language": "python",
   "name": "python37464bitanaconda3virtualenv64524b2e811e4e05962e2ce8cd1f1df5"
  },
  "language_info": {
   "codemirror_mode": {
    "name": "ipython",
    "version": 3
   },
   "file_extension": ".py",
   "mimetype": "text/x-python",
   "name": "python",
   "nbconvert_exporter": "python",
   "pygments_lexer": "ipython3",
   "version": "3.7.4"
  }
 },
 "nbformat": 4,
 "nbformat_minor": 2
}
